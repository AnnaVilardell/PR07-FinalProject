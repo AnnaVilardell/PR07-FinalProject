{
 "cells": [
  {
   "cell_type": "markdown",
   "metadata": {},
   "source": [
    "# All Campuses & Years - Ensemble (with Important Features)\n",
    "\n",
    "**Ensemble methos used: XGBoost**\n",
    "\n",
    "XGBoost is built on the principles of ensemble modeling and is an improved version of the Gradient Boosted Machine algorithm. In general, the XgBoost algorithm creates multiple classifiers that are weak learners, which means a model that gives a bit better accuracy than just a random guess.\n",
    "\n",
    "_This model is only runned with the most important features that Gridsearch have gave us on our previous step (Train our model with all variables)._"
   ]
  },
  {
   "cell_type": "markdown",
   "metadata": {},
   "source": [
    "**Index**\n",
    "\n",
    "1. [Environment](#Environment)\n",
    "2. [Feature Preprocessing ](#FeaturePreprocessing )\n",
    "3. [Model](#Model)\n",
    "    - Gridsearch\n",
    "    - XGBoost (with best params)\n",
    "    - Feature Importance\n",
    "\n",
    "\n",
    "4. [Conclusions](#Conclusions)"
   ]
  },
  {
   "cell_type": "markdown",
   "metadata": {},
   "source": [
    "## Environment"
   ]
  },
  {
   "cell_type": "markdown",
   "metadata": {},
   "source": [
    "#### Import libraries"
   ]
  },
  {
   "cell_type": "code",
   "execution_count": 1,
   "metadata": {},
   "outputs": [],
   "source": [
    "import pandas as pd\n",
    "import numpy as np\n",
    "\n",
    "import math\n",
    "from scipy import stats\n",
    "\n",
    "import seaborn as sns\n",
    "import matplotlib.pyplot as plt\n",
    "%matplotlib inline\n",
    "\n",
    "from sklearn.model_selection import cross_val_score\n",
    "from sklearn.model_selection import StratifiedKFold\n",
    "\n",
    "from sklearn.metrics import confusion_matrix\n",
    "from sklearn.metrics import classification_report\n",
    "\n",
    "from imblearn.under_sampling import TomekLinks\n",
    "\n",
    "from sklearn.model_selection import RandomizedSearchCV, GridSearchCV\n",
    "\n",
    "from sklearn.preprocessing import OneHotEncoder\n",
    "from sklearn.preprocessing import LabelEncoder\n",
    "\n",
    "from sklearn.compose import ColumnTransformer\n",
    "from sklearn.compose import make_column_transformer\n",
    "from imblearn.pipeline import make_pipeline\n",
    "\n",
    "from sklearn.ensemble import GradientBoostingClassifier\n",
    "from xgboost import XGBClassifier\n",
    "\n",
    "try:\n",
    "    from xgboost import XGBClassifier\n",
    "except:\n",
    "    from sklearn.ensemble import GradientBoostingClassifier as XGBClassifier"
   ]
  },
  {
   "cell_type": "markdown",
   "metadata": {},
   "source": [
    "#### Import data"
   ]
  },
  {
   "cell_type": "code",
   "execution_count": 2,
   "metadata": {},
   "outputs": [],
   "source": [
    "all_apps = pd.read_csv(\"apps_allYears_clean_selCols_addCols_tra.csv\")"
   ]
  },
  {
   "cell_type": "code",
   "execution_count": 3,
   "metadata": {},
   "outputs": [
    {
     "data": {
      "text/plain": [
       "(28723, 71)"
      ]
     },
     "execution_count": 3,
     "metadata": {},
     "output_type": "execute_result"
    }
   ],
   "source": [
    "all_apps.shape"
   ]
  },
  {
   "cell_type": "code",
   "execution_count": 4,
   "metadata": {},
   "outputs": [],
   "source": [
    "apps=all_apps[[\"Time Conversion - days\",\"Discount(%)\",\"Time between Created Date and Start Date - days\",\n",
    "     \"Stage Duration\",\"Discount\",\"Creater Month\",\"Bootcamp Year\",\"HearAboutUs_Social Media\",\n",
    "     \"HearAboutUs_Referral\",\"Creater Quarter\",\"Paid Deposit\"]]"
   ]
  },
  {
   "cell_type": "code",
   "execution_count": 5,
   "metadata": {},
   "outputs": [
    {
     "data": {
      "text/html": [
       "<div>\n",
       "<style scoped>\n",
       "    .dataframe tbody tr th:only-of-type {\n",
       "        vertical-align: middle;\n",
       "    }\n",
       "\n",
       "    .dataframe tbody tr th {\n",
       "        vertical-align: top;\n",
       "    }\n",
       "\n",
       "    .dataframe thead th {\n",
       "        text-align: right;\n",
       "    }\n",
       "</style>\n",
       "<table border=\"1\" class=\"dataframe\">\n",
       "  <thead>\n",
       "    <tr style=\"text-align: right;\">\n",
       "      <th></th>\n",
       "      <th>Time Conversion - days</th>\n",
       "      <th>Discount(%)</th>\n",
       "      <th>Time between Created Date and Start Date - days</th>\n",
       "      <th>Stage Duration</th>\n",
       "      <th>Discount</th>\n",
       "      <th>Creater Month</th>\n",
       "      <th>Bootcamp Year</th>\n",
       "      <th>HearAboutUs_Social Media</th>\n",
       "      <th>HearAboutUs_Referral</th>\n",
       "      <th>Creater Quarter</th>\n",
       "      <th>Paid Deposit</th>\n",
       "    </tr>\n",
       "  </thead>\n",
       "  <tbody>\n",
       "    <tr>\n",
       "      <th>0</th>\n",
       "      <td>110</td>\n",
       "      <td>0.00</td>\n",
       "      <td>133</td>\n",
       "      <td>1125.0</td>\n",
       "      <td>0</td>\n",
       "      <td>9</td>\n",
       "      <td>2</td>\n",
       "      <td>1.0</td>\n",
       "      <td>0.0</td>\n",
       "      <td>3</td>\n",
       "      <td>0</td>\n",
       "    </tr>\n",
       "    <tr>\n",
       "      <th>1</th>\n",
       "      <td>39</td>\n",
       "      <td>0.00</td>\n",
       "      <td>97</td>\n",
       "      <td>875.0</td>\n",
       "      <td>0</td>\n",
       "      <td>7</td>\n",
       "      <td>2</td>\n",
       "      <td>0.0</td>\n",
       "      <td>0.0</td>\n",
       "      <td>3</td>\n",
       "      <td>0</td>\n",
       "    </tr>\n",
       "    <tr>\n",
       "      <th>2</th>\n",
       "      <td>143</td>\n",
       "      <td>0.00</td>\n",
       "      <td>227</td>\n",
       "      <td>952.0</td>\n",
       "      <td>0</td>\n",
       "      <td>1</td>\n",
       "      <td>2</td>\n",
       "      <td>0.0</td>\n",
       "      <td>0.0</td>\n",
       "      <td>1</td>\n",
       "      <td>0</td>\n",
       "    </tr>\n",
       "    <tr>\n",
       "      <th>3</th>\n",
       "      <td>0</td>\n",
       "      <td>0.00</td>\n",
       "      <td>34</td>\n",
       "      <td>147.0</td>\n",
       "      <td>0</td>\n",
       "      <td>7</td>\n",
       "      <td>4</td>\n",
       "      <td>1.0</td>\n",
       "      <td>0.0</td>\n",
       "      <td>3</td>\n",
       "      <td>0</td>\n",
       "    </tr>\n",
       "    <tr>\n",
       "      <th>4</th>\n",
       "      <td>388</td>\n",
       "      <td>0.09</td>\n",
       "      <td>421</td>\n",
       "      <td>1125.0</td>\n",
       "      <td>1</td>\n",
       "      <td>9</td>\n",
       "      <td>2</td>\n",
       "      <td>0.0</td>\n",
       "      <td>0.0</td>\n",
       "      <td>3</td>\n",
       "      <td>0</td>\n",
       "    </tr>\n",
       "  </tbody>\n",
       "</table>\n",
       "</div>"
      ],
      "text/plain": [
       "   Time Conversion - days  Discount(%)  \\\n",
       "0                     110         0.00   \n",
       "1                      39         0.00   \n",
       "2                     143         0.00   \n",
       "3                       0         0.00   \n",
       "4                     388         0.09   \n",
       "\n",
       "   Time between Created Date and Start Date - days  Stage Duration  Discount  \\\n",
       "0                                              133          1125.0         0   \n",
       "1                                               97           875.0         0   \n",
       "2                                              227           952.0         0   \n",
       "3                                               34           147.0         0   \n",
       "4                                              421          1125.0         1   \n",
       "\n",
       "   Creater Month  Bootcamp Year  HearAboutUs_Social Media  \\\n",
       "0              9              2                       1.0   \n",
       "1              7              2                       0.0   \n",
       "2              1              2                       0.0   \n",
       "3              7              4                       1.0   \n",
       "4              9              2                       0.0   \n",
       "\n",
       "   HearAboutUs_Referral  Creater Quarter  Paid Deposit  \n",
       "0                   0.0                3             0  \n",
       "1                   0.0                3             0  \n",
       "2                   0.0                1             0  \n",
       "3                   0.0                3             0  \n",
       "4                   0.0                3             0  "
      ]
     },
     "execution_count": 5,
     "metadata": {},
     "output_type": "execute_result"
    }
   ],
   "source": [
    "apps.head()"
   ]
  },
  {
   "cell_type": "code",
   "execution_count": 6,
   "metadata": {},
   "outputs": [
    {
     "data": {
      "text/plain": [
       "(28723, 11)"
      ]
     },
     "execution_count": 6,
     "metadata": {},
     "output_type": "execute_result"
    }
   ],
   "source": [
    "apps.shape"
   ]
  },
  {
   "cell_type": "code",
   "execution_count": 7,
   "metadata": {},
   "outputs": [
    {
     "data": {
      "text/plain": [
       "Time Conversion - days                               int64\n",
       "Discount(%)                                        float64\n",
       "Time between Created Date and Start Date - days      int64\n",
       "Stage Duration                                     float64\n",
       "Discount                                             int64\n",
       "Creater Month                                        int64\n",
       "Bootcamp Year                                        int64\n",
       "HearAboutUs_Social Media                           float64\n",
       "HearAboutUs_Referral                               float64\n",
       "Creater Quarter                                      int64\n",
       "Paid Deposit                                         int64\n",
       "dtype: object"
      ]
     },
     "execution_count": 7,
     "metadata": {},
     "output_type": "execute_result"
    }
   ],
   "source": [
    "apps.dtypes"
   ]
  },
  {
   "cell_type": "markdown",
   "metadata": {},
   "source": [
    "## Feature Preprocessing \n",
    "It turns raw data into a one that is usable by a machine learning model.\n",
    "\n",
    "For this classification it wont be needed as all column types are numeric."
   ]
  },
  {
   "cell_type": "code",
   "execution_count": 8,
   "metadata": {},
   "outputs": [],
   "source": [
    "features_to_encode = apps.columns[apps.dtypes==object].tolist()"
   ]
  },
  {
   "cell_type": "code",
   "execution_count": 9,
   "metadata": {},
   "outputs": [],
   "source": [
    "col_transformer_e = make_column_transformer(\n",
    "        (OneHotEncoder(handle_unknown='ignore'), features_to_encode),\n",
    "    remainder=\"passthrough\")"
   ]
  },
  {
   "cell_type": "markdown",
   "metadata": {},
   "source": [
    "## Model"
   ]
  },
  {
   "cell_type": "code",
   "execution_count": 10,
   "metadata": {},
   "outputs": [],
   "source": [
    "X = apps.drop(['Paid Deposit'],axis=1)\n",
    "y = apps['Paid Deposit']"
   ]
  },
  {
   "cell_type": "code",
   "execution_count": 11,
   "metadata": {},
   "outputs": [
    {
     "data": {
      "text/plain": [
       "0    23556\n",
       "1     5167\n",
       "Name: Paid Deposit, dtype: int64"
      ]
     },
     "execution_count": 11,
     "metadata": {},
     "output_type": "execute_result"
    }
   ],
   "source": [
    "y.value_counts()"
   ]
  },
  {
   "cell_type": "markdown",
   "metadata": {},
   "source": [
    "### Gridsearch"
   ]
  },
  {
   "cell_type": "code",
   "execution_count": 12,
   "metadata": {},
   "outputs": [],
   "source": [
    "from imblearn.pipeline import Pipeline as imbPipeline"
   ]
  },
  {
   "cell_type": "code",
   "execution_count": 13,
   "metadata": {},
   "outputs": [],
   "source": [
    "def gridsearch(X,y):\n",
    "    \n",
    "    # Create Params\n",
    "    param_grid = {\n",
    "        'XGBClassifier__learning_rate': [0.1, 0.3],\n",
    "        'XGBClassifier__max_depth': [3, 5, 7],\n",
    "        'XGBClassifier__n_estimators': [30, 50, 100, 150]\n",
    "    }\n",
    "\n",
    "    \n",
    "    # Create a based model\n",
    "    xgb = XGBClassifier()\n",
    "\n",
    "    # Create pipeline\n",
    "    pipe = imbPipeline([\n",
    "            ('sampling',TomekLinks(sampling_strategy='majority')),\n",
    "            ('XGBClassifier', xgb)\n",
    "        ])\n",
    "    \n",
    "    # Instantiate the grid search model\n",
    "    grid_search = GridSearchCV(estimator = pipe, param_grid = param_grid, cv = 3, n_jobs = -1, verbose = 2)\n",
    "    \n",
    "    grid_search.fit(X, y)\n",
    "    \n",
    "    return grid_search.best_estimator_"
   ]
  },
  {
   "cell_type": "code",
   "execution_count": 14,
   "metadata": {},
   "outputs": [
    {
     "name": "stdout",
     "output_type": "stream",
     "text": [
      "Fitting 3 folds for each of 24 candidates, totalling 72 fits\n"
     ]
    },
    {
     "name": "stderr",
     "output_type": "stream",
     "text": [
      "[Parallel(n_jobs=-1)]: Using backend LokyBackend with 4 concurrent workers.\n",
      "[Parallel(n_jobs=-1)]: Done  33 tasks      | elapsed:   23.0s\n",
      "[Parallel(n_jobs=-1)]: Done  72 out of  72 | elapsed:   49.6s finished\n",
      "/usr/local/lib/python3.9/site-packages/xgboost/sklearn.py:888: UserWarning: The use of label encoder in XGBClassifier is deprecated and will be removed in a future release. To remove this warning, do the following: 1) Pass option use_label_encoder=False when constructing XGBClassifier object; and 2) Encode your labels (y) as integers starting with 0, i.e. 0, 1, 2, ..., [num_class - 1].\n",
      "  warnings.warn(label_encoder_deprecation_msg, UserWarning)\n"
     ]
    },
    {
     "name": "stdout",
     "output_type": "stream",
     "text": [
      "[18:00:11] WARNING: /Users/travis/build/dmlc/xgboost/src/learner.cc:1061: Starting in XGBoost 1.3.0, the default evaluation metric used with the objective 'binary:logistic' was changed from 'error' to 'logloss'. Explicitly set eval_metric if you'd like to restore the old behavior.\n"
     ]
    }
   ],
   "source": [
    "best_model= gridsearch(X,y)"
   ]
  },
  {
   "cell_type": "code",
   "execution_count": 15,
   "metadata": {
    "scrolled": true
   },
   "outputs": [
    {
     "data": {
      "text/plain": [
       "Pipeline(steps=[('sampling', TomekLinks(sampling_strategy='majority')),\n",
       "                ('XGBClassifier',\n",
       "                 XGBClassifier(base_score=0.5, booster='gbtree',\n",
       "                               colsample_bylevel=1, colsample_bynode=1,\n",
       "                               colsample_bytree=1, gamma=0, gpu_id=-1,\n",
       "                               importance_type='gain',\n",
       "                               interaction_constraints='', learning_rate=0.1,\n",
       "                               max_delta_step=0, max_depth=5,\n",
       "                               min_child_weight=1, missing=nan,\n",
       "                               monotone_constraints='()', n_estimators=30,\n",
       "                               n_jobs=4, num_parallel_tree=1, random_state=0,\n",
       "                               reg_alpha=0, reg_lambda=1, scale_pos_weight=1,\n",
       "                               subsample=1, tree_method='exact',\n",
       "                               validate_parameters=1, verbosity=None))])"
      ]
     },
     "execution_count": 15,
     "metadata": {},
     "output_type": "execute_result"
    }
   ],
   "source": [
    "best_model"
   ]
  },
  {
   "cell_type": "markdown",
   "metadata": {},
   "source": [
    "### XGBoost Classifier\n",
    "Using its best params that we got from Gridsearch"
   ]
  },
  {
   "cell_type": "code",
   "execution_count": 16,
   "metadata": {},
   "outputs": [],
   "source": [
    "def xgb_report(X, y, model, target_names = ['Not Paid Deposit', 'Paid Deposit']):\n",
    "    \n",
    "    results = []\n",
    "    \n",
    "    scoring = ['accuracy', 'precision_weighted', 'recall_weighted', 'f1_weighted', 'roc_auc']\n",
    "    \n",
    "\n",
    "    cv = cross_val_score(model, X, y, cv=StratifiedKFold(), scoring = \"accuracy\")\n",
    "    \n",
    "    clf = model.fit(X, y)\n",
    "    y_pred=clf.predict(X)\n",
    "        \n",
    "    print(\"Classification Report\")\n",
    "    print(classification_report(y, y_pred, target_names=target_names))\n",
    "    print(\"Confusion_matrix \\n\",confusion_matrix(y, y_pred),\"\\n\")\n",
    "        \n",
    "    results.append(cv)\n",
    "    \n",
    "    final_df = pd.DataFrame(cv)\n",
    "    final_df.rename(columns={0:'Cross Validaton Score'},inplace=True)\n",
    "    \n",
    "    print(final_df)"
   ]
  },
  {
   "cell_type": "code",
   "execution_count": 17,
   "metadata": {
    "scrolled": true
   },
   "outputs": [
    {
     "name": "stderr",
     "output_type": "stream",
     "text": [
      "/usr/local/lib/python3.9/site-packages/xgboost/sklearn.py:888: UserWarning: The use of label encoder in XGBClassifier is deprecated and will be removed in a future release. To remove this warning, do the following: 1) Pass option use_label_encoder=False when constructing XGBClassifier object; and 2) Encode your labels (y) as integers starting with 0, i.e. 0, 1, 2, ..., [num_class - 1].\n",
      "  warnings.warn(label_encoder_deprecation_msg, UserWarning)\n"
     ]
    },
    {
     "name": "stdout",
     "output_type": "stream",
     "text": [
      "[18:00:41] WARNING: /Users/travis/build/dmlc/xgboost/src/learner.cc:1061: Starting in XGBoost 1.3.0, the default evaluation metric used with the objective 'binary:logistic' was changed from 'error' to 'logloss'. Explicitly set eval_metric if you'd like to restore the old behavior.\n"
     ]
    },
    {
     "name": "stderr",
     "output_type": "stream",
     "text": [
      "/usr/local/lib/python3.9/site-packages/xgboost/sklearn.py:888: UserWarning: The use of label encoder in XGBClassifier is deprecated and will be removed in a future release. To remove this warning, do the following: 1) Pass option use_label_encoder=False when constructing XGBClassifier object; and 2) Encode your labels (y) as integers starting with 0, i.e. 0, 1, 2, ..., [num_class - 1].\n",
      "  warnings.warn(label_encoder_deprecation_msg, UserWarning)\n"
     ]
    },
    {
     "name": "stdout",
     "output_type": "stream",
     "text": [
      "[18:00:41] WARNING: /Users/travis/build/dmlc/xgboost/src/learner.cc:1061: Starting in XGBoost 1.3.0, the default evaluation metric used with the objective 'binary:logistic' was changed from 'error' to 'logloss'. Explicitly set eval_metric if you'd like to restore the old behavior.\n"
     ]
    },
    {
     "name": "stderr",
     "output_type": "stream",
     "text": [
      "/usr/local/lib/python3.9/site-packages/xgboost/sklearn.py:888: UserWarning: The use of label encoder in XGBClassifier is deprecated and will be removed in a future release. To remove this warning, do the following: 1) Pass option use_label_encoder=False when constructing XGBClassifier object; and 2) Encode your labels (y) as integers starting with 0, i.e. 0, 1, 2, ..., [num_class - 1].\n",
      "  warnings.warn(label_encoder_deprecation_msg, UserWarning)\n"
     ]
    },
    {
     "name": "stdout",
     "output_type": "stream",
     "text": [
      "[18:00:42] WARNING: /Users/travis/build/dmlc/xgboost/src/learner.cc:1061: Starting in XGBoost 1.3.0, the default evaluation metric used with the objective 'binary:logistic' was changed from 'error' to 'logloss'. Explicitly set eval_metric if you'd like to restore the old behavior.\n"
     ]
    },
    {
     "name": "stderr",
     "output_type": "stream",
     "text": [
      "/usr/local/lib/python3.9/site-packages/xgboost/sklearn.py:888: UserWarning: The use of label encoder in XGBClassifier is deprecated and will be removed in a future release. To remove this warning, do the following: 1) Pass option use_label_encoder=False when constructing XGBClassifier object; and 2) Encode your labels (y) as integers starting with 0, i.e. 0, 1, 2, ..., [num_class - 1].\n",
      "  warnings.warn(label_encoder_deprecation_msg, UserWarning)\n"
     ]
    },
    {
     "name": "stdout",
     "output_type": "stream",
     "text": [
      "[18:00:42] WARNING: /Users/travis/build/dmlc/xgboost/src/learner.cc:1061: Starting in XGBoost 1.3.0, the default evaluation metric used with the objective 'binary:logistic' was changed from 'error' to 'logloss'. Explicitly set eval_metric if you'd like to restore the old behavior.\n"
     ]
    },
    {
     "name": "stderr",
     "output_type": "stream",
     "text": [
      "/usr/local/lib/python3.9/site-packages/xgboost/sklearn.py:888: UserWarning: The use of label encoder in XGBClassifier is deprecated and will be removed in a future release. To remove this warning, do the following: 1) Pass option use_label_encoder=False when constructing XGBClassifier object; and 2) Encode your labels (y) as integers starting with 0, i.e. 0, 1, 2, ..., [num_class - 1].\n",
      "  warnings.warn(label_encoder_deprecation_msg, UserWarning)\n"
     ]
    },
    {
     "name": "stdout",
     "output_type": "stream",
     "text": [
      "[18:00:43] WARNING: /Users/travis/build/dmlc/xgboost/src/learner.cc:1061: Starting in XGBoost 1.3.0, the default evaluation metric used with the objective 'binary:logistic' was changed from 'error' to 'logloss'. Explicitly set eval_metric if you'd like to restore the old behavior.\n"
     ]
    },
    {
     "name": "stderr",
     "output_type": "stream",
     "text": [
      "/usr/local/lib/python3.9/site-packages/xgboost/sklearn.py:888: UserWarning: The use of label encoder in XGBClassifier is deprecated and will be removed in a future release. To remove this warning, do the following: 1) Pass option use_label_encoder=False when constructing XGBClassifier object; and 2) Encode your labels (y) as integers starting with 0, i.e. 0, 1, 2, ..., [num_class - 1].\n",
      "  warnings.warn(label_encoder_deprecation_msg, UserWarning)\n"
     ]
    },
    {
     "name": "stdout",
     "output_type": "stream",
     "text": [
      "[18:00:43] WARNING: /Users/travis/build/dmlc/xgboost/src/learner.cc:1061: Starting in XGBoost 1.3.0, the default evaluation metric used with the objective 'binary:logistic' was changed from 'error' to 'logloss'. Explicitly set eval_metric if you'd like to restore the old behavior.\n",
      "Classification Report\n",
      "                  precision    recall  f1-score   support\n",
      "\n",
      "Not Paid Deposit       0.88      0.98      0.92     23556\n",
      "    Paid Deposit       0.79      0.37      0.51      5167\n",
      "\n",
      "        accuracy                           0.87     28723\n",
      "       macro avg       0.83      0.68      0.72     28723\n",
      "    weighted avg       0.86      0.87      0.85     28723\n",
      "\n",
      "Confusion_matrix \n",
      " [[23043   513]\n",
      " [ 3236  1931]] \n",
      "\n",
      "   Cross Validaton Score\n",
      "0               0.862489\n",
      "1               0.847520\n",
      "2               0.864926\n",
      "3               0.870125\n",
      "4               0.855501\n"
     ]
    }
   ],
   "source": [
    "X = apps.drop(['Paid Deposit'],axis=1)\n",
    "y = apps['Paid Deposit']\n",
    "xgb_report(X, y, best_model)"
   ]
  },
  {
   "cell_type": "markdown",
   "metadata": {},
   "source": [
    "**Interpretation**\n",
    "\n",
    "- **The Classification Report:**\n",
    "    - **Accuracy** tells you what percentage of the predictions are correct.\n",
    "    - **Precision** tells us the following: from the positive predictions I have made, what percentage are positive.\n",
    "    - **Recall** (opposed to precision), is useful when the cost of a false negative is high. It tells us: of all the positive predictions, what percentage confirms the predicition.\n",
    "    - **F1-score** seeks a balance between precision and recall.\n",
    "\n",
    "\n",
    "- **Confusion_matrix**\n",
    "    - T0 (True Not Paid Deposit): 23043 \n",
    "    - F0 (False Not Paid Deposit): 513\n",
    "    - T1 (True Paid Deposit): 1931\n",
    "    - F1 (False Paid Deposit): 3236\n",
    "\n",
    "\n",
    "- **Cross Validaton Score**\n",
    "\n",
    "    It is the technique for assessing how the statistical analysis generalises to an independent data set.It is a technique for evaluating machine learning models by training several models on subsets of the available input data and evaluating them on the complementary subset of the data."
   ]
  },
  {
   "cell_type": "markdown",
   "metadata": {},
   "source": [
    "### Featute Importance"
   ]
  },
  {
   "cell_type": "code",
   "execution_count": 18,
   "metadata": {},
   "outputs": [],
   "source": [
    "def xgb_feature_importance(model):\n",
    "    \n",
    "    xgb=best_model.steps[1][1]\n",
    "    \n",
    "    ct=X\n",
    "    ct_cols=ct.columns\n",
    "    \n",
    "    importances = pd.DataFrame({'feature':ct_cols,'importance':np.round(xgb.feature_importances_,3)})\n",
    "    importances = importances.sort_values('importance',ascending=False).set_index('feature')\n",
    "    \n",
    "    top20=importances[:20]\n",
    "    least20=importances[73:]\n",
    "\n",
    "    top20.plot.barh()\n",
    "    plt.title('Top20 RF Feature Importance')\n",
    "\n",
    "    plt.show()"
   ]
  },
  {
   "cell_type": "code",
   "execution_count": 19,
   "metadata": {
    "scrolled": true
   },
   "outputs": [
    {
     "data": {
      "image/png": "[encoded data removed]",
      "text/plain": [
       "<Figure size 432x288 with 1 Axes>"
      ]
     },
     "metadata": {
      "needs_background": "light"
     },
     "output_type": "display_data"
    }
   ],
   "source": [
    "xgb_feature_importance(best_model)"
   ]
  },
  {
   "cell_type": "markdown",
   "metadata": {},
   "source": [
    "## Conclusion"
   ]
  },
  {
   "cell_type": "markdown",
   "metadata": {},
   "source": [
    "After modeling with Xgbooster with only the selected features from our previous random forest results, we find that the model loses a bit of accurancy. We might have to keep playing with different variables to find the number of top features to use in our model and have a better result. \n",
    "\n",
    "Nevertheless, it is better out result using XgBooster than Random forest.\n",
    "\n",
    "The idea of ensemble methods is to try reducing bias and/or variance of such weak learners by combining several of them together in order to create a strong learner (or ensemble model) that achieves better performances.\n",
    "\n",
    "This algorithm mainly try to produce strong models less biased than their components (even if variance can also be reduced).\n",
    "\n",
    "Usually Xgbooster is use because of its Execution Speed and Model Performance."
   ]
  }
 ],
 "metadata": {
  "kernelspec": {
   "display_name": "Python 3",
   "language": "python",
   "name": "python3"
  },
  "language_info": {
   "codemirror_mode": {
    "name": "ipython",
    "version": 3
   },
   "file_extension": ".py",
   "mimetype": "text/x-python",
   "name": "python",
   "nbconvert_exporter": "python",
   "pygments_lexer": "ipython3",
   "version": "3.9.1"
  }
 },
 "nbformat": 4,
 "nbformat_minor": 4
}
