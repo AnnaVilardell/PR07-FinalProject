{
 "cells": [
  {
   "cell_type": "markdown",
   "metadata": {},
   "source": [
    "# BCN 2020-2021 Ensemble (with Important Features)\n",
    "\n",
    "**Ensemble methos used: XGBoost**\n",
    "\n",
    "XGBoost is built on the principles of ensemble modeling and is an improved version of the Gradient Boosted Machine algorithm. In general, the XgBoost algorithm creates multiple classifiers that are weak learners, which means a model that gives a bit better accuracy than just a random guess.\n",
    "\n",
    "_This model is only runned with the most important features that Gridsearch have gave us on our previous step (Train our model with all variables)._"
   ]
  },
  {
   "cell_type": "markdown",
   "metadata": {},
   "source": [
    "**Index**\n",
    "\n",
    "1. [Environment](#Environment)\n",
    "2. [Feature Preprocessing ](#FeaturePreprocessing )\n",
    "3. [Model](#Model)\n",
    "    - Gridsearch\n",
    "    - Random Forest Classifier (with best params)\n",
    "    - Feature Importance\n",
    "\n",
    "\n",
    "4. [Conclusions](#Conclusions)"
   ]
  },
  {
   "cell_type": "markdown",
   "metadata": {},
   "source": [
    "## Environment"
   ]
  },
  {
   "cell_type": "markdown",
   "metadata": {},
   "source": [
    "#### Import libraries"
   ]
  },
  {
   "cell_type": "code",
   "execution_count": 1,
   "metadata": {},
   "outputs": [],
   "source": [
    "# Pandas and Numpy\n",
    "import pandas as pd\n",
    "import numpy as np\n",
    "\n",
    "# Maths\n",
    "import math\n",
    "from scipy import stats\n",
    "\n",
    "# Visualization\n",
    "import seaborn as sns\n",
    "import matplotlib.pyplot as plt\n",
    "%matplotlib inline\n",
    "\n",
    "from sklearn.model_selection import cross_val_score\n",
    "from sklearn.model_selection import StratifiedKFold\n",
    "\n",
    "from sklearn.metrics import confusion_matrix\n",
    "from sklearn.metrics import classification_report\n",
    "\n",
    "from imblearn.under_sampling import TomekLinks\n",
    "\n",
    "from sklearn.model_selection import RandomizedSearchCV, GridSearchCV\n",
    "\n",
    "from sklearn.preprocessing import OneHotEncoder\n",
    "from sklearn.preprocessing import LabelEncoder\n",
    "\n",
    "from sklearn.compose import ColumnTransformer\n",
    "from sklearn.compose import make_column_transformer\n",
    "#from sklearn.pipeline import Pipeline\n",
    "from imblearn.pipeline import make_pipeline\n",
    "\n",
    "from sklearn.ensemble import GradientBoostingClassifier\n",
    "from xgboost import XGBClassifier\n",
    "\n",
    "try:\n",
    "    from xgboost import XGBClassifier\n",
    "except:\n",
    "    from sklearn.ensemble import GradientBoostingClassifier as XGBClassifier"
   ]
  },
  {
   "cell_type": "markdown",
   "metadata": {},
   "source": [
    "#### Import data"
   ]
  },
  {
   "cell_type": "code",
   "execution_count": 2,
   "metadata": {},
   "outputs": [],
   "source": [
    "all_apps = pd.read_csv(\"apps_BCN20201_clean_Sel_addCols.csv\")"
   ]
  },
  {
   "cell_type": "code",
   "execution_count": 3,
   "metadata": {},
   "outputs": [
    {
     "data": {
      "text/plain": [
       "(116, 22)"
      ]
     },
     "execution_count": 3,
     "metadata": {},
     "output_type": "execute_result"
    }
   ],
   "source": [
    "all_apps.shape"
   ]
  },
  {
   "cell_type": "code",
   "execution_count": 4,
   "metadata": {},
   "outputs": [],
   "source": [
    "apps=all_apps[[\"Time Conversion - days\",\"Time First touchpoint to Close date - days\", \"Discount(%)\",\n",
    "               \"Time between Created Date and Start Date - days\",\"Stage Duration\",\"Creater Quarter\",\n",
    "               \"Hours Before First Touchpoint\",\"Creater Month\",\"Discount\",\"Time to first touchpoint - days\",\n",
    "               \"Paid Deposit\"]]"
   ]
  },
  {
   "cell_type": "code",
   "execution_count": 5,
   "metadata": {},
   "outputs": [
    {
     "data": {
      "text/html": [
       "<div>\n",
       "<style scoped>\n",
       "    .dataframe tbody tr th:only-of-type {\n",
       "        vertical-align: middle;\n",
       "    }\n",
       "\n",
       "    .dataframe tbody tr th {\n",
       "        vertical-align: top;\n",
       "    }\n",
       "\n",
       "    .dataframe thead th {\n",
       "        text-align: right;\n",
       "    }\n",
       "</style>\n",
       "<table border=\"1\" class=\"dataframe\">\n",
       "  <thead>\n",
       "    <tr style=\"text-align: right;\">\n",
       "      <th></th>\n",
       "      <th>Time Conversion - days</th>\n",
       "      <th>Time First touchpoint to Close date - days</th>\n",
       "      <th>Discount(%)</th>\n",
       "      <th>Time between Created Date and Start Date - days</th>\n",
       "      <th>Stage Duration</th>\n",
       "      <th>Creater Quarter</th>\n",
       "      <th>Hours Before First Touchpoint</th>\n",
       "      <th>Creater Month</th>\n",
       "      <th>Discount</th>\n",
       "      <th>Time to first touchpoint - days</th>\n",
       "      <th>Paid Deposit</th>\n",
       "    </tr>\n",
       "  </thead>\n",
       "  <tbody>\n",
       "    <tr>\n",
       "      <th>0</th>\n",
       "      <td>76</td>\n",
       "      <td>34</td>\n",
       "      <td>0.10</td>\n",
       "      <td>74</td>\n",
       "      <td>77.0</td>\n",
       "      <td>3</td>\n",
       "      <td>1010.94</td>\n",
       "      <td>7</td>\n",
       "      <td>1</td>\n",
       "      <td>42</td>\n",
       "      <td>0</td>\n",
       "    </tr>\n",
       "    <tr>\n",
       "      <th>1</th>\n",
       "      <td>58</td>\n",
       "      <td>5</td>\n",
       "      <td>0.00</td>\n",
       "      <td>148</td>\n",
       "      <td>229.0</td>\n",
       "      <td>1</td>\n",
       "      <td>1275.60</td>\n",
       "      <td>2</td>\n",
       "      <td>0</td>\n",
       "      <td>53</td>\n",
       "      <td>0</td>\n",
       "    </tr>\n",
       "    <tr>\n",
       "      <th>2</th>\n",
       "      <td>42</td>\n",
       "      <td>36</td>\n",
       "      <td>0.07</td>\n",
       "      <td>74</td>\n",
       "      <td>102.0</td>\n",
       "      <td>3</td>\n",
       "      <td>149.47</td>\n",
       "      <td>7</td>\n",
       "      <td>1</td>\n",
       "      <td>6</td>\n",
       "      <td>1</td>\n",
       "    </tr>\n",
       "    <tr>\n",
       "      <th>3</th>\n",
       "      <td>70</td>\n",
       "      <td>70</td>\n",
       "      <td>0.00</td>\n",
       "      <td>206</td>\n",
       "      <td>218.0</td>\n",
       "      <td>1</td>\n",
       "      <td>1.69</td>\n",
       "      <td>3</td>\n",
       "      <td>0</td>\n",
       "      <td>0</td>\n",
       "      <td>1</td>\n",
       "    </tr>\n",
       "    <tr>\n",
       "      <th>4</th>\n",
       "      <td>5</td>\n",
       "      <td>1</td>\n",
       "      <td>0.10</td>\n",
       "      <td>116</td>\n",
       "      <td>99.0</td>\n",
       "      <td>2</td>\n",
       "      <td>88.11</td>\n",
       "      <td>6</td>\n",
       "      <td>1</td>\n",
       "      <td>4</td>\n",
       "      <td>0</td>\n",
       "    </tr>\n",
       "  </tbody>\n",
       "</table>\n",
       "</div>"
      ],
      "text/plain": [
       "   Time Conversion - days  Time First touchpoint to Close date - days  \\\n",
       "0                      76                                          34   \n",
       "1                      58                                           5   \n",
       "2                      42                                          36   \n",
       "3                      70                                          70   \n",
       "4                       5                                           1   \n",
       "\n",
       "   Discount(%)  Time between Created Date and Start Date - days  \\\n",
       "0         0.10                                               74   \n",
       "1         0.00                                              148   \n",
       "2         0.07                                               74   \n",
       "3         0.00                                              206   \n",
       "4         0.10                                              116   \n",
       "\n",
       "   Stage Duration  Creater Quarter  Hours Before First Touchpoint  \\\n",
       "0            77.0                3                        1010.94   \n",
       "1           229.0                1                        1275.60   \n",
       "2           102.0                3                         149.47   \n",
       "3           218.0                1                           1.69   \n",
       "4            99.0                2                          88.11   \n",
       "\n",
       "   Creater Month  Discount  Time to first touchpoint - days  Paid Deposit  \n",
       "0              7         1                               42             0  \n",
       "1              2         0                               53             0  \n",
       "2              7         1                                6             1  \n",
       "3              3         0                                0             1  \n",
       "4              6         1                                4             0  "
      ]
     },
     "execution_count": 5,
     "metadata": {},
     "output_type": "execute_result"
    }
   ],
   "source": [
    "apps.head()"
   ]
  },
  {
   "cell_type": "code",
   "execution_count": 6,
   "metadata": {},
   "outputs": [
    {
     "data": {
      "text/plain": [
       "(116, 11)"
      ]
     },
     "execution_count": 6,
     "metadata": {},
     "output_type": "execute_result"
    }
   ],
   "source": [
    "apps.shape"
   ]
  },
  {
   "cell_type": "code",
   "execution_count": 7,
   "metadata": {},
   "outputs": [
    {
     "data": {
      "text/plain": [
       "Time Conversion - days                               int64\n",
       "Time First touchpoint to Close date - days           int64\n",
       "Discount(%)                                        float64\n",
       "Time between Created Date and Start Date - days      int64\n",
       "Stage Duration                                     float64\n",
       "Creater Quarter                                      int64\n",
       "Hours Before First Touchpoint                      float64\n",
       "Creater Month                                        int64\n",
       "Discount                                             int64\n",
       "Time to first touchpoint - days                      int64\n",
       "Paid Deposit                                         int64\n",
       "dtype: object"
      ]
     },
     "execution_count": 7,
     "metadata": {},
     "output_type": "execute_result"
    }
   ],
   "source": [
    "apps.dtypes"
   ]
  },
  {
   "cell_type": "markdown",
   "metadata": {},
   "source": [
    "## Feature Preprocessing \n",
    "It turns raw data into a one that is usable by a machine learning model.\n",
    "\n",
    "_For this classification it won't be needed as all column types are numeric._"
   ]
  },
  {
   "cell_type": "code",
   "execution_count": 8,
   "metadata": {},
   "outputs": [],
   "source": [
    "features_to_encode = apps.columns[apps.dtypes==object].tolist()"
   ]
  },
  {
   "cell_type": "code",
   "execution_count": 9,
   "metadata": {},
   "outputs": [],
   "source": [
    "col_transformer_e = make_column_transformer(\n",
    "        (OneHotEncoder(handle_unknown='ignore'), features_to_encode),\n",
    "    remainder=\"passthrough\")"
   ]
  },
  {
   "cell_type": "markdown",
   "metadata": {},
   "source": [
    "## Model"
   ]
  },
  {
   "cell_type": "code",
   "execution_count": 10,
   "metadata": {},
   "outputs": [],
   "source": [
    "X = apps.drop(['Paid Deposit'],axis=1)\n",
    "y = apps['Paid Deposit']"
   ]
  },
  {
   "cell_type": "code",
   "execution_count": 11,
   "metadata": {},
   "outputs": [
    {
     "data": {
      "text/plain": [
       "0    84\n",
       "1    32\n",
       "Name: Paid Deposit, dtype: int64"
      ]
     },
     "execution_count": 11,
     "metadata": {},
     "output_type": "execute_result"
    }
   ],
   "source": [
    "y.value_counts()"
   ]
  },
  {
   "cell_type": "markdown",
   "metadata": {},
   "source": [
    "### Gridsearch"
   ]
  },
  {
   "cell_type": "code",
   "execution_count": 12,
   "metadata": {},
   "outputs": [],
   "source": [
    "from imblearn.pipeline import Pipeline as imbPipeline"
   ]
  },
  {
   "cell_type": "code",
   "execution_count": 13,
   "metadata": {},
   "outputs": [],
   "source": [
    "def gridsearch(X,y):\n",
    "    \n",
    "    # Create Params\n",
    "    param_grid = {\n",
    "        'XGBClassifier__learning_rate': [0.1, 0.3],\n",
    "        'XGBClassifier__max_depth': [3, 5, 7],\n",
    "        'XGBClassifier__n_estimators': [30, 50, 100, 150]\n",
    "    }\n",
    "\n",
    "    \n",
    "    # Create a based model\n",
    "    xgb = XGBClassifier()\n",
    "\n",
    "    #pipe = make_pipeline(col_transformer_e, rf_classifier)\n",
    "\n",
    "    #pipe = make_pipeline(TomekLinks(sampling_strategy='majority'), xgb)\n",
    "    pipe = imbPipeline([\n",
    "            ('sampling',TomekLinks(sampling_strategy='majority')),\n",
    "            ('XGBClassifier', xgb)\n",
    "        ])\n",
    "    \n",
    "    # Instantiate the grid search model\n",
    "    grid_search = GridSearchCV(estimator = pipe, param_grid = param_grid, cv = 3, n_jobs = -1, verbose = 2)\n",
    "    \n",
    "    # X,y or X_train,y_train - might change depending on the circumstances of the model\n",
    "    grid_search.fit(X, y)\n",
    "    \n",
    "    return grid_search.best_estimator_"
   ]
  },
  {
   "cell_type": "code",
   "execution_count": 14,
   "metadata": {},
   "outputs": [
    {
     "name": "stdout",
     "output_type": "stream",
     "text": [
      "Fitting 3 folds for each of 24 candidates, totalling 72 fits\n"
     ]
    },
    {
     "name": "stderr",
     "output_type": "stream",
     "text": [
      "[Parallel(n_jobs=-1)]: Using backend LokyBackend with 4 concurrent workers.\n",
      "[Parallel(n_jobs=-1)]: Done  33 tasks      | elapsed:   38.1s\n"
     ]
    },
    {
     "name": "stdout",
     "output_type": "stream",
     "text": [
      "[19:58:49] WARNING: /Users/travis/build/dmlc/xgboost/src/learner.cc:1061: Starting in XGBoost 1.3.0, the default evaluation metric used with the objective 'binary:logistic' was changed from 'error' to 'logloss'. Explicitly set eval_metric if you'd like to restore the old behavior.\n"
     ]
    },
    {
     "name": "stderr",
     "output_type": "stream",
     "text": [
      "[Parallel(n_jobs=-1)]: Done  72 out of  72 | elapsed:   42.9s finished\n",
      "/usr/local/lib/python3.9/site-packages/xgboost/sklearn.py:888: UserWarning: The use of label encoder in XGBClassifier is deprecated and will be removed in a future release. To remove this warning, do the following: 1) Pass option use_label_encoder=False when constructing XGBClassifier object; and 2) Encode your labels (y) as integers starting with 0, i.e. 0, 1, 2, ..., [num_class - 1].\n",
      "  warnings.warn(label_encoder_deprecation_msg, UserWarning)\n"
     ]
    }
   ],
   "source": [
    "best_model= gridsearch(X,y)"
   ]
  },
  {
   "cell_type": "code",
   "execution_count": 15,
   "metadata": {
    "scrolled": true
   },
   "outputs": [
    {
     "data": {
      "text/plain": [
       "Pipeline(steps=[('sampling', TomekLinks(sampling_strategy='majority')),\n",
       "                ('XGBClassifier',\n",
       "                 XGBClassifier(base_score=0.5, booster='gbtree',\n",
       "                               colsample_bylevel=1, colsample_bynode=1,\n",
       "                               colsample_bytree=1, gamma=0, gpu_id=-1,\n",
       "                               importance_type='gain',\n",
       "                               interaction_constraints='', learning_rate=0.1,\n",
       "                               max_delta_step=0, max_depth=3,\n",
       "                               min_child_weight=1, missing=nan,\n",
       "                               monotone_constraints='()', n_estimators=30,\n",
       "                               n_jobs=4, num_parallel_tree=1, random_state=0,\n",
       "                               reg_alpha=0, reg_lambda=1, scale_pos_weight=1,\n",
       "                               subsample=1, tree_method='exact',\n",
       "                               validate_parameters=1, verbosity=None))])"
      ]
     },
     "execution_count": 15,
     "metadata": {},
     "output_type": "execute_result"
    }
   ],
   "source": [
    "best_model"
   ]
  },
  {
   "cell_type": "markdown",
   "metadata": {},
   "source": [
    "### Random Forest Classifier\n",
    "Using its best params that we got from Gridsearch"
   ]
  },
  {
   "cell_type": "code",
   "execution_count": 16,
   "metadata": {},
   "outputs": [],
   "source": [
    "def xgb_report(X, y, model, target_names = ['Not Paid Deposit', 'Paid Deposit']):\n",
    "    \n",
    "    results = []\n",
    "    \n",
    "    scoring = ['accuracy', 'precision_weighted', 'recall_weighted', 'f1_weighted', 'roc_auc']\n",
    "    \n",
    "\n",
    "    cv = cross_val_score(model, X, y, cv=StratifiedKFold(), scoring = \"accuracy\")\n",
    "    \n",
    "    clf = model.fit(X, y)\n",
    "    y_pred=clf.predict(X)\n",
    "        \n",
    "    print(\"Classification Report\")\n",
    "    print(classification_report(y, y_pred, target_names=target_names))\n",
    "    print(\"Confusion_matrix \\n\",confusion_matrix(y, y_pred),\"\\n\")\n",
    "        \n",
    "    results.append(cv)\n",
    "    \n",
    "    final_df = pd.DataFrame(cv)\n",
    "    final_df.rename(columns={0:'Cross Validaton Score'},inplace=True)\n",
    "    \n",
    "    print(final_df)"
   ]
  },
  {
   "cell_type": "code",
   "execution_count": 17,
   "metadata": {
    "scrolled": true
   },
   "outputs": [
    {
     "name": "stderr",
     "output_type": "stream",
     "text": [
      "/usr/local/lib/python3.9/site-packages/xgboost/sklearn.py:888: UserWarning: The use of label encoder in XGBClassifier is deprecated and will be removed in a future release. To remove this warning, do the following: 1) Pass option use_label_encoder=False when constructing XGBClassifier object; and 2) Encode your labels (y) as integers starting with 0, i.e. 0, 1, 2, ..., [num_class - 1].\n",
      "  warnings.warn(label_encoder_deprecation_msg, UserWarning)\n"
     ]
    },
    {
     "name": "stdout",
     "output_type": "stream",
     "text": [
      "[19:58:50] WARNING: /Users/travis/build/dmlc/xgboost/src/learner.cc:1061: Starting in XGBoost 1.3.0, the default evaluation metric used with the objective 'binary:logistic' was changed from 'error' to 'logloss'. Explicitly set eval_metric if you'd like to restore the old behavior.\n",
      "[19:58:50] WARNING: /Users/travis/build/dmlc/xgboost/src/learner.cc:1061: Starting in XGBoost 1.3.0, the default evaluation metric used with the objective 'binary:logistic' was changed from 'error' to 'logloss'. Explicitly set eval_metric if you'd like to restore the old behavior.\n"
     ]
    },
    {
     "name": "stderr",
     "output_type": "stream",
     "text": [
      "/usr/local/lib/python3.9/site-packages/xgboost/sklearn.py:888: UserWarning: The use of label encoder in XGBClassifier is deprecated and will be removed in a future release. To remove this warning, do the following: 1) Pass option use_label_encoder=False when constructing XGBClassifier object; and 2) Encode your labels (y) as integers starting with 0, i.e. 0, 1, 2, ..., [num_class - 1].\n",
      "  warnings.warn(label_encoder_deprecation_msg, UserWarning)\n",
      "/usr/local/lib/python3.9/site-packages/xgboost/sklearn.py:888: UserWarning: The use of label encoder in XGBClassifier is deprecated and will be removed in a future release. To remove this warning, do the following: 1) Pass option use_label_encoder=False when constructing XGBClassifier object; and 2) Encode your labels (y) as integers starting with 0, i.e. 0, 1, 2, ..., [num_class - 1].\n",
      "  warnings.warn(label_encoder_deprecation_msg, UserWarning)\n",
      "/usr/local/lib/python3.9/site-packages/xgboost/sklearn.py:888: UserWarning: The use of label encoder in XGBClassifier is deprecated and will be removed in a future release. To remove this warning, do the following: 1) Pass option use_label_encoder=False when constructing XGBClassifier object; and 2) Encode your labels (y) as integers starting with 0, i.e. 0, 1, 2, ..., [num_class - 1].\n",
      "  warnings.warn(label_encoder_deprecation_msg, UserWarning)\n"
     ]
    },
    {
     "name": "stdout",
     "output_type": "stream",
     "text": [
      "[19:58:50] WARNING: /Users/travis/build/dmlc/xgboost/src/learner.cc:1061: Starting in XGBoost 1.3.0, the default evaluation metric used with the objective 'binary:logistic' was changed from 'error' to 'logloss'. Explicitly set eval_metric if you'd like to restore the old behavior.\n",
      "[19:58:50] WARNING: /Users/travis/build/dmlc/xgboost/src/learner.cc:1061: Starting in XGBoost 1.3.0, the default evaluation metric used with the objective 'binary:logistic' was changed from 'error' to 'logloss'. Explicitly set eval_metric if you'd like to restore the old behavior.\n"
     ]
    },
    {
     "name": "stderr",
     "output_type": "stream",
     "text": [
      "/usr/local/lib/python3.9/site-packages/xgboost/sklearn.py:888: UserWarning: The use of label encoder in XGBClassifier is deprecated and will be removed in a future release. To remove this warning, do the following: 1) Pass option use_label_encoder=False when constructing XGBClassifier object; and 2) Encode your labels (y) as integers starting with 0, i.e. 0, 1, 2, ..., [num_class - 1].\n",
      "  warnings.warn(label_encoder_deprecation_msg, UserWarning)\n"
     ]
    },
    {
     "name": "stdout",
     "output_type": "stream",
     "text": [
      "[19:58:50] WARNING: /Users/travis/build/dmlc/xgboost/src/learner.cc:1061: Starting in XGBoost 1.3.0, the default evaluation metric used with the objective 'binary:logistic' was changed from 'error' to 'logloss'. Explicitly set eval_metric if you'd like to restore the old behavior.\n",
      "[19:58:50] WARNING: /Users/travis/build/dmlc/xgboost/src/learner.cc:1061: Starting in XGBoost 1.3.0, the default evaluation metric used with the objective 'binary:logistic' was changed from 'error' to 'logloss'. Explicitly set eval_metric if you'd like to restore the old behavior.\n",
      "Classification Report\n",
      "                  precision    recall  f1-score   support\n",
      "\n",
      "Not Paid Deposit       0.93      0.98      0.95        84\n",
      "    Paid Deposit       0.93      0.81      0.87        32\n",
      "\n",
      "        accuracy                           0.93       116\n",
      "       macro avg       0.93      0.89      0.91       116\n",
      "    weighted avg       0.93      0.93      0.93       116\n",
      "\n",
      "Confusion_matrix \n",
      " [[82  2]\n",
      " [ 6 26]] \n",
      "\n",
      "   Cross Validaton Score\n",
      "0               0.708333\n",
      "1               0.826087\n",
      "2               0.739130\n",
      "3               0.782609\n",
      "4               0.869565\n"
     ]
    },
    {
     "name": "stderr",
     "output_type": "stream",
     "text": [
      "/usr/local/lib/python3.9/site-packages/xgboost/sklearn.py:888: UserWarning: The use of label encoder in XGBClassifier is deprecated and will be removed in a future release. To remove this warning, do the following: 1) Pass option use_label_encoder=False when constructing XGBClassifier object; and 2) Encode your labels (y) as integers starting with 0, i.e. 0, 1, 2, ..., [num_class - 1].\n",
      "  warnings.warn(label_encoder_deprecation_msg, UserWarning)\n"
     ]
    }
   ],
   "source": [
    "X = apps.drop(['Paid Deposit'],axis=1)\n",
    "y = apps['Paid Deposit']\n",
    "xgb_report(X, y, best_model)"
   ]
  },
  {
   "cell_type": "markdown",
   "metadata": {},
   "source": [
    "**Interpretation**\n",
    "\n",
    "- **The Classification Report:**\n",
    "    - **Accuracy** tells you what percentage of the predictions are correct.\n",
    "    - **Precision** tells us the following: from the positive predictions I have made, what percentage are positive.\n",
    "    - **Recall** (opposed to precision), is useful when the cost of a false negative is high. It tells us: of all the positive predictions, what percentage confirms the predicition.\n",
    "    - **F1-score** seeks a balance between precision and recall.\n",
    "\n",
    "\n",
    "- **Confusion_matrix**\n",
    "    - T0 (True Not Paid Deposit): 82 \n",
    "    - F0 (False Not Paid Deposit): 2\n",
    "    - T1 (True Paid Deposit): 26\n",
    "    - F1 (False Paid Deposit): 6\n",
    "\n",
    "\n",
    "- **Cross Validaton Score**\n",
    "\n",
    "    It is the technique for assessing how the statistical analysis generalises to an independent data set.It is a technique for evaluating machine learning models by training several models on subsets of the available input data and evaluating them on the complementary subset of the data."
   ]
  },
  {
   "cell_type": "markdown",
   "metadata": {},
   "source": [
    "### FeatureImportance"
   ]
  },
  {
   "cell_type": "code",
   "execution_count": 20,
   "metadata": {},
   "outputs": [],
   "source": [
    "def xgb_feature_importance(model):\n",
    "    \n",
    "    xgb=best_model.steps[1][1]\n",
    "    \n",
    "    ct=X\n",
    "    ct_cols=ct.columns\n",
    "    \n",
    "    importances = pd.DataFrame({'feature':ct_cols,'importance':np.round(xgb.feature_importances_,3)})\n",
    "    importances = importances.sort_values('importance',ascending=False).set_index('feature')\n",
    "    \n",
    "    top20=importances[:10]\n",
    "\n",
    "    top20.plot.barh()\n",
    "    plt.title('Top10 RF Feature Importance')\n",
    "\n",
    "    plt.show()"
   ]
  },
  {
   "cell_type": "code",
   "execution_count": 21,
   "metadata": {
    "scrolled": true
   },
   "outputs": [
    {
     "data": {
      "image/png": "[encoded data removed]",
      "text/plain": [
       "<Figure size 432x288 with 1 Axes>"
      ]
     },
     "metadata": {
      "needs_background": "light"
     },
     "output_type": "display_data"
    }
   ],
   "source": [
    "xgb_feature_importance(best_model)"
   ]
  },
  {
   "cell_type": "markdown",
   "metadata": {},
   "source": [
    "## Conclusion"
   ]
  },
  {
   "cell_type": "markdown",
   "metadata": {},
   "source": [
    "After modeling with only the selected features from our previous random forest results, we find that the model give us better results."
   ]
  }
 ],
 "metadata": {
  "kernelspec": {
   "display_name": "Python 3",
   "language": "python",
   "name": "python3"
  },
  "language_info": {
   "codemirror_mode": {
    "name": "ipython",
    "version": 3
   },
   "file_extension": ".py",
   "mimetype": "text/x-python",
   "name": "python",
   "nbconvert_exporter": "python",
   "pygments_lexer": "ipython3",
   "version": "3.9.1"
  }
 },
 "nbformat": 4,
 "nbformat_minor": 4
}
