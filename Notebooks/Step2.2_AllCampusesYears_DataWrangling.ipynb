{
 "cells": [
  {
   "cell_type": "markdown",
   "metadata": {},
   "source": [
    "# All Campuses & Years - Data Wrangling\n",
    "_**Campuses**: Madrid, Paris, Barcelona, Miami, Mexico, São Paulo, Berlin, Remote, Amsterdam and Lisbon.\n",
    "**Years**: 2016-2021_\n",
    "\n",
    "Data Wrangling is the process of cleaning, structuring and enriching raw data into a desired format for better decision making in less time.\n",
    "\n",
    "- [Environment](#Environment)\n",
    "\n",
    "\n",
    "- [Data Wrangling](#DataWrangling)\n",
    "    - [Explore Data](#ExploreData)\n",
    "    - [Clean Data](#CleanData)\n",
    "    - [Remove Useless Columns](#RemoveColumns)\n",
    "    - [Add New Columns](#AddColumns)\n",
    "\n",
    "\n",
    "- [Clean CSV](#CleanCSV)\n",
    "\n",
    "\n",
    "- [Main Insigths](#Insights)"
   ]
  },
  {
   "cell_type": "markdown",
   "metadata": {},
   "source": [
    "## Environment"
   ]
  },
  {
   "cell_type": "markdown",
   "metadata": {},
   "source": [
    "#### import libraries"
   ]
  },
  {
   "cell_type": "code",
   "execution_count": 2,
   "metadata": {},
   "outputs": [],
   "source": [
    "# Pandas and Numpy\n",
    "import pandas as pd\n",
    "import numpy as np\n",
    "\n",
    "#Time \n",
    "import time\n",
    "from datetime import datetime\n",
    "import datetime as dt\n",
    "\n",
    "# Maths\n",
    "import math\n",
    "from scipy import stats\n",
    "\n",
    "#Transform\n",
    "from sklearn.preprocessing import OneHotEncoder\n",
    "\n",
    "# Visualization\n",
    "import seaborn as sns\n",
    "import matplotlib.pyplot as plt\n",
    "%matplotlib inline"
   ]
  },
  {
   "cell_type": "markdown",
   "metadata": {},
   "source": [
    "#### import data"
   ]
  },
  {
   "cell_type": "code",
   "execution_count": 4,
   "metadata": {},
   "outputs": [],
   "source": [
    "apps = pd.read_csv(\"../apps_ih_extended.csv\", sep=\";\",low_memory=False) "
   ]
  },
  {
   "cell_type": "code",
   "execution_count": 8,
   "metadata": {},
   "outputs": [],
   "source": [
    "#this column is \"commented\" as confidential data (names of students) can't be seen \n",
    "#apps.head()"
   ]
  },
  {
   "cell_type": "markdown",
   "metadata": {},
   "source": [
    "## ExploreData"
   ]
  },
  {
   "cell_type": "markdown",
   "metadata": {},
   "source": [
    "#### Metadata"
   ]
  },
  {
   "cell_type": "markdown",
   "metadata": {},
   "source": [
    "- bootcamp_course: course associated to the opportunity, either WD, UX or DA.\n",
    "- bootcamp_format: format associated to the opportunity, either FT or PT.\n",
    "- bootcamp_start_date: Start Date of the course associated to thez opportunity.\n",
    "- stage: The stage name the application lives at that moment.\n",
    "- lost_deal_reason: Reason why the applicant has dropped the admission process\n",
    "- stage_before_lost: The stage where the opportunity is before getting lost\n",
    "- created_date: Date and time when this record was created. \n",
    "- close_date: Date when the opportunity is expected to close (before closing) or closed.\n",
    "- drop_reason: Reason why the applicant has dropped after paying his deposit\n",
    "- net_amount: Amount minus Discount or Scholarship Amount\n",
    "- discount_type: Type of the discount, either Scholarship or Discount\n",
    "- discount_name: Name of the discount initiative associated to the opportunity\n",
    "- discount_amount: Amount of the discount that the applicant received\n",
    "- scholarship_name: Name of the scholarship initiative associated to the opportunity\n",
    "- scholarship_amount: Amount of the scholarship discount given to the opportunity\n",
    "- financing_options: name of the financing option\n",
    "- financing_option_amount: amount in local currency of the financing option\n",
    "- deposit_payment: The amount of the tuition neither the student or Ironhack paid\n",
    "- Stage Duration: The number of days the opportunity was in the stage listed in the Stage column\n",
    "- ..."
   ]
  },
  {
   "cell_type": "markdown",
   "metadata": {},
   "source": [
    "#### All variables info"
   ]
  },
  {
   "cell_type": "code",
   "execution_count": 4,
   "metadata": {
    "scrolled": true
   },
   "outputs": [
    {
     "name": "stdout",
     "output_type": "stream",
     "text": [
      "<class 'pandas.core.frame.DataFrame'>\n",
      "RangeIndex: 40228 entries, 0 to 40227\n",
      "Data columns (total 58 columns):\n",
      " #   Column                                    Non-Null Count  Dtype  \n",
      "---  ------                                    --------------  -----  \n",
      " 0   Opportunity ID                            40228 non-null  object \n",
      " 1   Opportunity Name                          40145 non-null  object \n",
      " 2   Has Courses                               40228 non-null  int64  \n",
      " 3   Bootcamp Course                           36637 non-null  object \n",
      " 4   Bootcamp Format                           36635 non-null  object \n",
      " 5   Bootcamp Year                             36674 non-null  float64\n",
      " 6   Bootcamp Start Date                       36674 non-null  object \n",
      " 7   Campus                                    39942 non-null  object \n",
      " 8   Campus - Timezone                         39942 non-null  object \n",
      " 9   Created Date                              40228 non-null  object \n",
      " 10  Close Date                                40228 non-null  object \n",
      " 11  Invoice Date                              2781 non-null   object \n",
      " 12  Stage                                     40228 non-null  object \n",
      " 13  Discount Amount (converted) Currency      20489 non-null  object \n",
      " 14  Discount Amount (converted)               20489 non-null  object \n",
      " 15  Scholarship Amount (converted) Currency   110 non-null    object \n",
      " 16  Scholarship Amount (converted)            110 non-null    object \n",
      " 17  Amount (converted) Currency               36863 non-null  object \n",
      " 18  Amount (converted)                        36863 non-null  object \n",
      " 19  Net Amount With VAT (converted) Currency  40228 non-null  object \n",
      " 20  Net Amount With VAT (converted)           40228 non-null  object \n",
      " 21  Drop                                      40228 non-null  int64  \n",
      " 22  Drop Reason                               375 non-null    object \n",
      " 23  Lost Deal Reason                          32176 non-null  object \n",
      " 24  Stage Before Lost                         31099 non-null  object \n",
      " 25  how did you hear about us?                38041 non-null  object \n",
      " 26  Person Account: Tech Background           6385 non-null   object \n",
      " 27  Person Account: Gender                    38854 non-null  object \n",
      " 28  Person Account: Highest degree received   9440 non-null   object \n",
      " 29  Person Account: Type of Position          4453 non-null   object \n",
      " 30  Person Account: Looking for a Job         5023 non-null   object \n",
      " 31  Person Account: Nationality               11996 non-null  object \n",
      " 32  Last Modified Date                        40228 non-null  object \n",
      " 33  All Traffic Sources                       11260 non-null  object \n",
      " 34  First Click Medium                        12941 non-null  object \n",
      " 35  First Click Source                        12941 non-null  object \n",
      " 36  Last Click Medium                         12947 non-null  object \n",
      " 37  Last Click Source                         12940 non-null  object \n",
      " 38  Stage Duration                            40228 non-null  object \n",
      " 39  Inactive Days                             7315 non-null   float64\n",
      " 40  Last Activity Date                        7315 non-null   object \n",
      " 41  Last Call Date                            895 non-null    object \n",
      " 42  Last Event Date                           3125 non-null   object \n",
      " 43  Last Task Date                            7021 non-null   object \n",
      " 44  Last Email Date                           604 non-null    object \n",
      " 45  Account: Created Date                     40228 non-null  object \n",
      " 46  Account: Last Activity                    24236 non-null  object \n",
      " 47  Account: Last Modified Date               40228 non-null  object \n",
      " 48  Age                                       357 non-null    object \n",
      " 49  First touchpoint Date                     7240 non-null   object \n",
      " 50  First Touchpoint type                     7240 non-null   object \n",
      " 51  Hours Before First Touchpoint             7240 non-null   object \n",
      " 52  Needs Financing                           1577 non-null   object \n",
      " 53  Person Account: City Before Course        5115 non-null   object \n",
      " 54  Person Account: Company Located in        0 non-null      float64\n",
      " 55  Person Account: Eligible to Work In       4973 non-null   object \n",
      " 56  Person Account: Linkedin URL              334 non-null    object \n",
      " 57  Programming languages                     0 non-null      float64\n",
      "dtypes: float64(4), int64(2), object(52)\n",
      "memory usage: 17.8+ MB\n"
     ]
    }
   ],
   "source": [
    "apps.info()"
   ]
  },
  {
   "cell_type": "code",
   "execution_count": 5,
   "metadata": {},
   "outputs": [
    {
     "data": {
      "text/plain": [
       "Index(['Opportunity ID', 'Opportunity Name', 'Has Courses', 'Bootcamp Course',\n",
       "       'Bootcamp Format', 'Bootcamp Year', 'Bootcamp Start Date', 'Campus',\n",
       "       'Campus - Timezone', 'Created Date', 'Close Date', 'Invoice Date',\n",
       "       'Stage', 'Discount Amount (converted) Currency',\n",
       "       'Discount Amount (converted)',\n",
       "       'Scholarship Amount (converted) Currency',\n",
       "       'Scholarship Amount (converted)', 'Amount (converted) Currency',\n",
       "       'Amount (converted)', 'Net Amount With VAT (converted) Currency',\n",
       "       'Net Amount With VAT (converted)', 'Drop', 'Drop Reason',\n",
       "       'Lost Deal Reason', 'Stage Before Lost', 'how did you hear about us?',\n",
       "       'Person Account: Tech Background', 'Person Account: Gender',\n",
       "       'Person Account: Highest degree received',\n",
       "       'Person Account: Type of Position', 'Person Account: Looking for a Job',\n",
       "       'Person Account: Nationality', 'Last Modified Date',\n",
       "       'All Traffic Sources', 'First Click Medium', 'First Click Source',\n",
       "       'Last Click Medium', 'Last Click Source', 'Stage Duration',\n",
       "       'Inactive Days', 'Last Activity Date', 'Last Call Date',\n",
       "       'Last Event Date', 'Last Task Date', 'Last Email Date',\n",
       "       'Account: Created Date', 'Account: Last Activity',\n",
       "       'Account: Last Modified Date', 'Age', 'First touchpoint Date',\n",
       "       'First Touchpoint type', 'Hours Before First Touchpoint',\n",
       "       'Needs Financing', 'Person Account: City Before Course',\n",
       "       'Person Account: Company Located in',\n",
       "       'Person Account: Eligible to Work In', 'Person Account: Linkedin URL',\n",
       "       'Programming languages'],\n",
       "      dtype='object')"
      ]
     },
     "execution_count": 5,
     "metadata": {},
     "output_type": "execute_result"
    }
   ],
   "source": [
    "apps.columns"
   ]
  },
  {
   "cell_type": "code",
   "execution_count": 6,
   "metadata": {},
   "outputs": [
    {
     "data": {
      "text/plain": [
       "(40228, 58)"
      ]
     },
     "execution_count": 6,
     "metadata": {},
     "output_type": "execute_result"
    }
   ],
   "source": [
    "apps.shape"
   ]
  },
  {
   "cell_type": "code",
   "execution_count": 7,
   "metadata": {},
   "outputs": [
    {
     "data": {
      "text/html": [
       "<div>\n",
       "<style scoped>\n",
       "    .dataframe tbody tr th:only-of-type {\n",
       "        vertical-align: middle;\n",
       "    }\n",
       "\n",
       "    .dataframe tbody tr th {\n",
       "        vertical-align: top;\n",
       "    }\n",
       "\n",
       "    .dataframe thead th {\n",
       "        text-align: right;\n",
       "    }\n",
       "</style>\n",
       "<table border=\"1\" class=\"dataframe\">\n",
       "  <thead>\n",
       "    <tr style=\"text-align: right;\">\n",
       "      <th></th>\n",
       "      <th>Has Courses</th>\n",
       "      <th>Bootcamp Year</th>\n",
       "      <th>Drop</th>\n",
       "      <th>Inactive Days</th>\n",
       "      <th>Person Account: Company Located in</th>\n",
       "      <th>Programming languages</th>\n",
       "    </tr>\n",
       "  </thead>\n",
       "  <tbody>\n",
       "    <tr>\n",
       "      <th>count</th>\n",
       "      <td>40228.000000</td>\n",
       "      <td>36674.000000</td>\n",
       "      <td>40228.000000</td>\n",
       "      <td>7315.000000</td>\n",
       "      <td>0.0</td>\n",
       "      <td>0.0</td>\n",
       "    </tr>\n",
       "    <tr>\n",
       "      <th>mean</th>\n",
       "      <td>0.910386</td>\n",
       "      <td>2018.957109</td>\n",
       "      <td>0.010391</td>\n",
       "      <td>66.009296</td>\n",
       "      <td>NaN</td>\n",
       "      <td>NaN</td>\n",
       "    </tr>\n",
       "    <tr>\n",
       "      <th>std</th>\n",
       "      <td>0.285632</td>\n",
       "      <td>3.016283</td>\n",
       "      <td>0.101405</td>\n",
       "      <td>53.712602</td>\n",
       "      <td>NaN</td>\n",
       "      <td>NaN</td>\n",
       "    </tr>\n",
       "    <tr>\n",
       "      <th>min</th>\n",
       "      <td>0.000000</td>\n",
       "      <td>1900.000000</td>\n",
       "      <td>0.000000</td>\n",
       "      <td>0.000000</td>\n",
       "      <td>NaN</td>\n",
       "      <td>NaN</td>\n",
       "    </tr>\n",
       "    <tr>\n",
       "      <th>25%</th>\n",
       "      <td>1.000000</td>\n",
       "      <td>2018.000000</td>\n",
       "      <td>0.000000</td>\n",
       "      <td>27.000000</td>\n",
       "      <td>NaN</td>\n",
       "      <td>NaN</td>\n",
       "    </tr>\n",
       "    <tr>\n",
       "      <th>50%</th>\n",
       "      <td>1.000000</td>\n",
       "      <td>2019.000000</td>\n",
       "      <td>0.000000</td>\n",
       "      <td>56.000000</td>\n",
       "      <td>NaN</td>\n",
       "      <td>NaN</td>\n",
       "    </tr>\n",
       "    <tr>\n",
       "      <th>75%</th>\n",
       "      <td>1.000000</td>\n",
       "      <td>2020.000000</td>\n",
       "      <td>0.000000</td>\n",
       "      <td>95.000000</td>\n",
       "      <td>NaN</td>\n",
       "      <td>NaN</td>\n",
       "    </tr>\n",
       "    <tr>\n",
       "      <th>max</th>\n",
       "      <td>1.000000</td>\n",
       "      <td>2021.000000</td>\n",
       "      <td>1.000000</td>\n",
       "      <td>392.000000</td>\n",
       "      <td>NaN</td>\n",
       "      <td>NaN</td>\n",
       "    </tr>\n",
       "  </tbody>\n",
       "</table>\n",
       "</div>"
      ],
      "text/plain": [
       "        Has Courses  Bootcamp Year          Drop  Inactive Days  \\\n",
       "count  40228.000000   36674.000000  40228.000000    7315.000000   \n",
       "mean       0.910386    2018.957109      0.010391      66.009296   \n",
       "std        0.285632       3.016283      0.101405      53.712602   \n",
       "min        0.000000    1900.000000      0.000000       0.000000   \n",
       "25%        1.000000    2018.000000      0.000000      27.000000   \n",
       "50%        1.000000    2019.000000      0.000000      56.000000   \n",
       "75%        1.000000    2020.000000      0.000000      95.000000   \n",
       "max        1.000000    2021.000000      1.000000     392.000000   \n",
       "\n",
       "       Person Account: Company Located in  Programming languages  \n",
       "count                                 0.0                    0.0  \n",
       "mean                                  NaN                    NaN  \n",
       "std                                   NaN                    NaN  \n",
       "min                                   NaN                    NaN  \n",
       "25%                                   NaN                    NaN  \n",
       "50%                                   NaN                    NaN  \n",
       "75%                                   NaN                    NaN  \n",
       "max                                   NaN                    NaN  "
      ]
     },
     "execution_count": 7,
     "metadata": {},
     "output_type": "execute_result"
    }
   ],
   "source": [
    "apps.describe()"
   ]
  },
  {
   "cell_type": "markdown",
   "metadata": {},
   "source": [
    "#### Numeric Variables"
   ]
  },
  {
   "cell_type": "code",
   "execution_count": 8,
   "metadata": {},
   "outputs": [
    {
     "data": {
      "text/html": [
       "<div>\n",
       "<style scoped>\n",
       "    .dataframe tbody tr th:only-of-type {\n",
       "        vertical-align: middle;\n",
       "    }\n",
       "\n",
       "    .dataframe tbody tr th {\n",
       "        vertical-align: top;\n",
       "    }\n",
       "\n",
       "    .dataframe thead th {\n",
       "        text-align: right;\n",
       "    }\n",
       "</style>\n",
       "<table border=\"1\" class=\"dataframe\">\n",
       "  <thead>\n",
       "    <tr style=\"text-align: right;\">\n",
       "      <th></th>\n",
       "      <th>Has Courses</th>\n",
       "      <th>Bootcamp Year</th>\n",
       "      <th>Drop</th>\n",
       "      <th>Inactive Days</th>\n",
       "      <th>Person Account: Company Located in</th>\n",
       "      <th>Programming languages</th>\n",
       "    </tr>\n",
       "  </thead>\n",
       "  <tbody>\n",
       "    <tr>\n",
       "      <th>0</th>\n",
       "      <td>0</td>\n",
       "      <td>NaN</td>\n",
       "      <td>0</td>\n",
       "      <td>NaN</td>\n",
       "      <td>NaN</td>\n",
       "      <td>NaN</td>\n",
       "    </tr>\n",
       "    <tr>\n",
       "      <th>1</th>\n",
       "      <td>1</td>\n",
       "      <td>2018.0</td>\n",
       "      <td>0</td>\n",
       "      <td>NaN</td>\n",
       "      <td>NaN</td>\n",
       "      <td>NaN</td>\n",
       "    </tr>\n",
       "    <tr>\n",
       "      <th>2</th>\n",
       "      <td>1</td>\n",
       "      <td>2019.0</td>\n",
       "      <td>0</td>\n",
       "      <td>NaN</td>\n",
       "      <td>NaN</td>\n",
       "      <td>NaN</td>\n",
       "    </tr>\n",
       "    <tr>\n",
       "      <th>3</th>\n",
       "      <td>1</td>\n",
       "      <td>2020.0</td>\n",
       "      <td>0</td>\n",
       "      <td>NaN</td>\n",
       "      <td>NaN</td>\n",
       "      <td>NaN</td>\n",
       "    </tr>\n",
       "    <tr>\n",
       "      <th>4</th>\n",
       "      <td>1</td>\n",
       "      <td>2018.0</td>\n",
       "      <td>0</td>\n",
       "      <td>NaN</td>\n",
       "      <td>NaN</td>\n",
       "      <td>NaN</td>\n",
       "    </tr>\n",
       "    <tr>\n",
       "      <th>...</th>\n",
       "      <td>...</td>\n",
       "      <td>...</td>\n",
       "      <td>...</td>\n",
       "      <td>...</td>\n",
       "      <td>...</td>\n",
       "      <td>...</td>\n",
       "    </tr>\n",
       "    <tr>\n",
       "      <th>40223</th>\n",
       "      <td>1</td>\n",
       "      <td>2020.0</td>\n",
       "      <td>0</td>\n",
       "      <td>25.0</td>\n",
       "      <td>NaN</td>\n",
       "      <td>NaN</td>\n",
       "    </tr>\n",
       "    <tr>\n",
       "      <th>40224</th>\n",
       "      <td>1</td>\n",
       "      <td>2020.0</td>\n",
       "      <td>0</td>\n",
       "      <td>71.0</td>\n",
       "      <td>NaN</td>\n",
       "      <td>NaN</td>\n",
       "    </tr>\n",
       "    <tr>\n",
       "      <th>40225</th>\n",
       "      <td>0</td>\n",
       "      <td>NaN</td>\n",
       "      <td>0</td>\n",
       "      <td>NaN</td>\n",
       "      <td>NaN</td>\n",
       "      <td>NaN</td>\n",
       "    </tr>\n",
       "    <tr>\n",
       "      <th>40226</th>\n",
       "      <td>1</td>\n",
       "      <td>2020.0</td>\n",
       "      <td>0</td>\n",
       "      <td>153.0</td>\n",
       "      <td>NaN</td>\n",
       "      <td>NaN</td>\n",
       "    </tr>\n",
       "    <tr>\n",
       "      <th>40227</th>\n",
       "      <td>1</td>\n",
       "      <td>2020.0</td>\n",
       "      <td>0</td>\n",
       "      <td>87.0</td>\n",
       "      <td>NaN</td>\n",
       "      <td>NaN</td>\n",
       "    </tr>\n",
       "  </tbody>\n",
       "</table>\n",
       "<p>40228 rows × 6 columns</p>\n",
       "</div>"
      ],
      "text/plain": [
       "       Has Courses  Bootcamp Year  Drop  Inactive Days  \\\n",
       "0                0            NaN     0            NaN   \n",
       "1                1         2018.0     0            NaN   \n",
       "2                1         2019.0     0            NaN   \n",
       "3                1         2020.0     0            NaN   \n",
       "4                1         2018.0     0            NaN   \n",
       "...            ...            ...   ...            ...   \n",
       "40223            1         2020.0     0           25.0   \n",
       "40224            1         2020.0     0           71.0   \n",
       "40225            0            NaN     0            NaN   \n",
       "40226            1         2020.0     0          153.0   \n",
       "40227            1         2020.0     0           87.0   \n",
       "\n",
       "       Person Account: Company Located in  Programming languages  \n",
       "0                                     NaN                    NaN  \n",
       "1                                     NaN                    NaN  \n",
       "2                                     NaN                    NaN  \n",
       "3                                     NaN                    NaN  \n",
       "4                                     NaN                    NaN  \n",
       "...                                   ...                    ...  \n",
       "40223                                 NaN                    NaN  \n",
       "40224                                 NaN                    NaN  \n",
       "40225                                 NaN                    NaN  \n",
       "40226                                 NaN                    NaN  \n",
       "40227                                 NaN                    NaN  \n",
       "\n",
       "[40228 rows x 6 columns]"
      ]
     },
     "execution_count": 8,
     "metadata": {},
     "output_type": "execute_result"
    }
   ],
   "source": [
    "numeric= apps.select_dtypes(include=np.number)\n",
    "numeric"
   ]
  },
  {
   "cell_type": "markdown",
   "metadata": {},
   "source": [
    "#### Categorical Variables"
   ]
  },
  {
   "cell_type": "code",
   "execution_count": 6,
   "metadata": {
    "scrolled": true
   },
   "outputs": [],
   "source": [
    "categoric= apps.select_dtypes(exclude=np.number)"
   ]
  },
  {
   "cell_type": "markdown",
   "metadata": {},
   "source": [
    "#### Nan values"
   ]
  },
  {
   "cell_type": "code",
   "execution_count": 10,
   "metadata": {
    "scrolled": false
   },
   "outputs": [
    {
     "data": {
      "text/plain": [
       "Opportunity ID                                  0\n",
       "Opportunity Name                               83\n",
       "Has Courses                                     0\n",
       "Bootcamp Course                              3591\n",
       "Bootcamp Format                              3593\n",
       "Bootcamp Year                                3554\n",
       "Bootcamp Start Date                          3554\n",
       "Campus                                        286\n",
       "Campus - Timezone                             286\n",
       "Created Date                                    0\n",
       "Close Date                                      0\n",
       "Invoice Date                                37447\n",
       "Stage                                           0\n",
       "Discount Amount (converted) Currency        19739\n",
       "Discount Amount (converted)                 19739\n",
       "Scholarship Amount (converted) Currency     40118\n",
       "Scholarship Amount (converted)              40118\n",
       "Amount (converted) Currency                  3365\n",
       "Amount (converted)                           3365\n",
       "Net Amount With VAT (converted) Currency        0\n",
       "Net Amount With VAT (converted)                 0\n",
       "Drop                                            0\n",
       "Drop Reason                                 39853\n",
       "Lost Deal Reason                             8052\n",
       "Stage Before Lost                            9129\n",
       "how did you hear about us?                   2187\n",
       "Person Account: Tech Background             33843\n",
       "Person Account: Gender                       1374\n",
       "Person Account: Highest degree received     30788\n",
       "Person Account: Type of Position            35775\n",
       "Person Account: Looking for a Job           35205\n",
       "Person Account: Nationality                 28232\n",
       "Last Modified Date                              0\n",
       "All Traffic Sources                         28968\n",
       "First Click Medium                          27287\n",
       "First Click Source                          27287\n",
       "Last Click Medium                           27281\n",
       "Last Click Source                           27288\n",
       "Stage Duration                                  0\n",
       "Inactive Days                               32913\n",
       "Last Activity Date                          32913\n",
       "Last Call Date                              39333\n",
       "Last Event Date                             37103\n",
       "Last Task Date                              33207\n",
       "Last Email Date                             39624\n",
       "Account: Created Date                           0\n",
       "Account: Last Activity                      15992\n",
       "Account: Last Modified Date                     0\n",
       "Age                                         39871\n",
       "First touchpoint Date                       32988\n",
       "First Touchpoint type                       32988\n",
       "Hours Before First Touchpoint               32988\n",
       "Needs Financing                             38651\n",
       "Person Account: City Before Course          35113\n",
       "Person Account: Company Located in          40228\n",
       "Person Account: Eligible to Work In         35255\n",
       "Person Account: Linkedin URL                39894\n",
       "Programming languages                       40228\n",
       "dtype: int64"
      ]
     },
     "execution_count": 10,
     "metadata": {},
     "output_type": "execute_result"
    }
   ],
   "source": [
    "apps.isnull().sum()"
   ]
  },
  {
   "cell_type": "code",
   "execution_count": 11,
   "metadata": {},
   "outputs": [],
   "source": [
    "total_values_xCol= apps.count()+apps.isnull().sum()"
   ]
  },
  {
   "cell_type": "code",
   "execution_count": 12,
   "metadata": {},
   "outputs": [],
   "source": [
    "total_values= total_values_xCol.sum()"
   ]
  },
  {
   "cell_type": "code",
   "execution_count": 13,
   "metadata": {},
   "outputs": [],
   "source": [
    "total_ExValues=apps.count().sum()"
   ]
  },
  {
   "cell_type": "code",
   "execution_count": 14,
   "metadata": {},
   "outputs": [],
   "source": [
    "total_NanValues=apps.isnull().sum().sum()"
   ]
  },
  {
   "cell_type": "code",
   "execution_count": 15,
   "metadata": {
    "scrolled": true
   },
   "outputs": [
    {
     "name": "stdout",
     "output_type": "stream",
     "text": [
      "48.89 % of our data is null\n",
      "*Taking into account all IH organic apps (40228) and the 58 columns from IH that refers to the user and its moves during the Admissions Process\n"
     ]
    }
   ],
   "source": [
    "print(round(total_NanValues/total_values*100,2),\"% of our data is null\")\n",
    "print(\"*Taking into account all IH organic apps (40228) and the 58 columns from IH that refers to the user and its moves during the Admissions Process\")\n"
   ]
  },
  {
   "cell_type": "markdown",
   "metadata": {},
   "source": [
    "## CleanData"
   ]
  },
  {
   "cell_type": "markdown",
   "metadata": {},
   "source": [
    "#### Column: Opportunity Name"
   ]
  },
  {
   "cell_type": "markdown",
   "metadata": {},
   "source": [
    "This column will not give us any value, as it is not important the name of the person who enrols. But, we will wait to remove it as it can be usefull to complete other columns with its information. Only Nans will be remove now as those are the ones that do not correspont to a real applicant."
   ]
  },
  {
   "cell_type": "code",
   "execution_count": 16,
   "metadata": {},
   "outputs": [],
   "source": [
    "apps.drop(apps[apps[\"Opportunity Name\"].isnull()==True].index, inplace=True)                                 "
   ]
  },
  {
   "cell_type": "markdown",
   "metadata": {},
   "source": [
    "#### Column: Has Courses"
   ]
  },
  {
   "cell_type": "code",
   "execution_count": 17,
   "metadata": {},
   "outputs": [
    {
     "data": {
      "text/plain": [
       "1    36541\n",
       "0     3604\n",
       "Name: Has Courses, dtype: int64"
      ]
     },
     "execution_count": 17,
     "metadata": {},
     "output_type": "execute_result"
    }
   ],
   "source": [
    "apps[\"Has Courses\"].value_counts()"
   ]
  },
  {
   "cell_type": "markdown",
   "metadata": {},
   "source": [
    "We will remove the application without course as it was from a test campaign that was on for a few month and paused from november 2020, and in this project we'd like to predict the random organic applicaiton.\n",
    "\n",
    "Applicants without course correspond to 1% of our dataset"
   ]
  },
  {
   "cell_type": "code",
   "execution_count": 18,
   "metadata": {},
   "outputs": [],
   "source": [
    "apps.drop(apps[apps[\"Has Courses\"]==0].index, inplace=True)                                 "
   ]
  },
  {
   "cell_type": "markdown",
   "metadata": {},
   "source": [
    "#### Column: Bootcamp Course"
   ]
  },
  {
   "cell_type": "code",
   "execution_count": 19,
   "metadata": {},
   "outputs": [
    {
     "data": {
      "text/plain": [
       "27"
      ]
     },
     "execution_count": 19,
     "metadata": {},
     "output_type": "execute_result"
    }
   ],
   "source": [
    "apps[\"Bootcamp Course\"].isnull().sum()"
   ]
  },
  {
   "cell_type": "code",
   "execution_count": 20,
   "metadata": {
    "scrolled": true
   },
   "outputs": [
    {
     "data": {
      "text/plain": [
       "WD     21319\n",
       "UX      8586\n",
       "DA      6189\n",
       "CY       401\n",
       "ios       19\n",
       "Name: Bootcamp Course, dtype: int64"
      ]
     },
     "execution_count": 20,
     "metadata": {},
     "output_type": "execute_result"
    }
   ],
   "source": [
    "apps[\"Bootcamp Course\"].value_counts()"
   ]
  },
  {
   "cell_type": "code",
   "execution_count": 7,
   "metadata": {},
   "outputs": [],
   "source": [
    "#this column is \"commented\" as confidential data can't be seen \n",
    "#apps[apps[\"Bootcamp Course\"].isnull()==True]"
   ]
  },
  {
   "cell_type": "markdown",
   "metadata": {},
   "source": [
    "As we could see, applicants without Bootcamp Course lack of most of their information. Most of those applicants correspond to Madrid and Sao Paulo campus.\n",
    "\n",
    "We decide to remove those 27 rows."
   ]
  },
  {
   "cell_type": "code",
   "execution_count": 22,
   "metadata": {},
   "outputs": [],
   "source": [
    "apps.drop(apps[apps[\"Bootcamp Course\"].isnull()==True].index, inplace=True)                                 "
   ]
  },
  {
   "cell_type": "markdown",
   "metadata": {},
   "source": [
    "#### Column: Bootcamp Format"
   ]
  },
  {
   "cell_type": "code",
   "execution_count": 23,
   "metadata": {},
   "outputs": [
    {
     "data": {
      "text/plain": [
       "2"
      ]
     },
     "execution_count": 23,
     "metadata": {},
     "output_type": "execute_result"
    }
   ],
   "source": [
    "apps[\"Bootcamp Format\"].isnull().sum()"
   ]
  },
  {
   "cell_type": "code",
   "execution_count": 24,
   "metadata": {},
   "outputs": [
    {
     "data": {
      "text/plain": [
       "FT    28054\n",
       "PT     8458\n",
       "Name: Bootcamp Format, dtype: int64"
      ]
     },
     "execution_count": 24,
     "metadata": {},
     "output_type": "execute_result"
    }
   ],
   "source": [
    "apps[\"Bootcamp Format\"].value_counts()"
   ]
  },
  {
   "cell_type": "code",
   "execution_count": 13,
   "metadata": {},
   "outputs": [],
   "source": [
    "#this column is \"commented\" as confidential data (names of students) can't be seen \n",
    "\n",
    "#apps[apps[\"Bootcamp Format\"].isnull()==True]"
   ]
  },
  {
   "cell_type": "code",
   "execution_count": 26,
   "metadata": {},
   "outputs": [],
   "source": [
    "apps[\"Bootcamp Format\"].fillna(\"FT\", inplace = True) "
   ]
  },
  {
   "cell_type": "markdown",
   "metadata": {},
   "source": [
    "#### Column: Bootcamp Year"
   ]
  },
  {
   "cell_type": "code",
   "execution_count": 27,
   "metadata": {},
   "outputs": [
    {
     "data": {
      "text/plain": [
       "2020.0    13576\n",
       "2019.0     9700\n",
       "2018.0     6295\n",
       "2021.0     2863\n",
       "2017.0     2853\n",
       "2016.0     1124\n",
       "1970.0      101\n",
       "1900.0        2\n",
       "Name: Bootcamp Year, dtype: int64"
      ]
     },
     "execution_count": 27,
     "metadata": {},
     "output_type": "execute_result"
    }
   ],
   "source": [
    "apps[\"Bootcamp Year\"].value_counts()"
   ]
  },
  {
   "cell_type": "code",
   "execution_count": 28,
   "metadata": {},
   "outputs": [
    {
     "data": {
      "text/plain": [
       "dtype('float64')"
      ]
     },
     "execution_count": 28,
     "metadata": {},
     "output_type": "execute_result"
    }
   ],
   "source": [
    "apps[\"Bootcamp Year\"].dtype"
   ]
  },
  {
   "cell_type": "code",
   "execution_count": 29,
   "metadata": {},
   "outputs": [],
   "source": [
    "apps[\"Bootcamp Year\"]=apps[\"Bootcamp Year\"].astype(int)"
   ]
  },
  {
   "cell_type": "code",
   "execution_count": 12,
   "metadata": {
    "scrolled": true
   },
   "outputs": [],
   "source": [
    "#this column is \"commented\" as confidential data (names of students) can't be seen \n",
    "#apps[apps[\"Bootcamp Year\"]==1970]"
   ]
  },
  {
   "cell_type": "code",
   "execution_count": 31,
   "metadata": {},
   "outputs": [
    {
     "name": "stderr",
     "output_type": "stream",
     "text": [
      "<ipython-input-31-d301c934db1f>:1: SettingWithCopyWarning: \n",
      "A value is trying to be set on a copy of a slice from a DataFrame\n",
      "\n",
      "See the caveats in the documentation: https://pandas.pydata.org/pandas-docs/stable/user_guide/indexing.html#returning-a-view-versus-a-copy\n",
      "  apps[\"Bootcamp Year\"][apps[\"Bootcamp Year\"]==1970]= apps[\"Created Date\"].apply(lambda x: int(x[-4:]))\n",
      "<ipython-input-31-d301c934db1f>:2: SettingWithCopyWarning: \n",
      "A value is trying to be set on a copy of a slice from a DataFrame\n",
      "\n",
      "See the caveats in the documentation: https://pandas.pydata.org/pandas-docs/stable/user_guide/indexing.html#returning-a-view-versus-a-copy\n",
      "  apps[\"Bootcamp Year\"][apps[\"Bootcamp Year\"]==1900]= apps[\"Created Date\"].apply(lambda x: int(x[-4:]))\n"
     ]
    }
   ],
   "source": [
    "apps[\"Bootcamp Year\"][apps[\"Bootcamp Year\"]==1970]= apps[\"Created Date\"].apply(lambda x: int(x[-4:]))\n",
    "apps[\"Bootcamp Year\"][apps[\"Bootcamp Year\"]==1900]= apps[\"Created Date\"].apply(lambda x: int(x[-4:]))"
   ]
  },
  {
   "cell_type": "code",
   "execution_count": 32,
   "metadata": {},
   "outputs": [
    {
     "data": {
      "text/plain": [
       "2020    13577\n",
       "2019     9701\n",
       "2018     6295\n",
       "2021     2863\n",
       "2017     2856\n",
       "2016     1222\n",
       "Name: Bootcamp Year, dtype: int64"
      ]
     },
     "execution_count": 32,
     "metadata": {},
     "output_type": "execute_result"
    }
   ],
   "source": [
    "apps[\"Bootcamp Year\"].value_counts()"
   ]
  },
  {
   "cell_type": "code",
   "execution_count": 33,
   "metadata": {
    "scrolled": true
   },
   "outputs": [
    {
     "data": {
      "text/plain": [
       "0"
      ]
     },
     "execution_count": 33,
     "metadata": {},
     "output_type": "execute_result"
    }
   ],
   "source": [
    "apps[\"Bootcamp Year\"].isnull().sum()"
   ]
  },
  {
   "cell_type": "markdown",
   "metadata": {},
   "source": [
    "#### Column: Bootcamp Start Date"
   ]
  },
  {
   "cell_type": "code",
   "execution_count": 34,
   "metadata": {},
   "outputs": [
    {
     "data": {
      "text/plain": [
       "11/01/2021    1545\n",
       "23/03/2020    1442\n",
       "19/10/2020    1329\n",
       "21/10/2019    1165\n",
       "1/06/2020      833\n",
       "              ... \n",
       "19/02/2019       1\n",
       "17/07/2017       1\n",
       "11/10/2016       1\n",
       "3/04/2018        1\n",
       "20/09/2021       1\n",
       "Name: Bootcamp Start Date, Length: 298, dtype: int64"
      ]
     },
     "execution_count": 34,
     "metadata": {},
     "output_type": "execute_result"
    }
   ],
   "source": [
    "apps[\"Bootcamp Start Date\"].value_counts()"
   ]
  },
  {
   "cell_type": "code",
   "execution_count": 35,
   "metadata": {},
   "outputs": [
    {
     "data": {
      "text/plain": [
       "0"
      ]
     },
     "execution_count": 35,
     "metadata": {},
     "output_type": "execute_result"
    }
   ],
   "source": [
    "apps[\"Bootcamp Start Date\"].isnull().sum()"
   ]
  },
  {
   "cell_type": "code",
   "execution_count": 36,
   "metadata": {},
   "outputs": [],
   "source": [
    "apps[\"Bootcamp Start Date\"]= pd.to_datetime(apps[\"Bootcamp Start Date\"])"
   ]
  },
  {
   "cell_type": "markdown",
   "metadata": {},
   "source": [
    "#### Column: Campus"
   ]
  },
  {
   "cell_type": "code",
   "execution_count": 37,
   "metadata": {},
   "outputs": [
    {
     "data": {
      "text/plain": [
       "Madrid       5856\n",
       "Paris        5654\n",
       "Barcelona    4920\n",
       "Miami        4647\n",
       "Mexico       3970\n",
       "São Paulo    3089\n",
       "Berlin       2801\n",
       "Remote       2385\n",
       "Amsterdam    1684\n",
       "Lisbon       1361\n",
       "Bogota        125\n",
       "Munich         11\n",
       "Name: Campus, dtype: int64"
      ]
     },
     "execution_count": 37,
     "metadata": {},
     "output_type": "execute_result"
    }
   ],
   "source": [
    "apps[\"Campus\"].value_counts()"
   ]
  },
  {
   "cell_type": "code",
   "execution_count": 38,
   "metadata": {
    "scrolled": true
   },
   "outputs": [
    {
     "data": {
      "text/plain": [
       "11"
      ]
     },
     "execution_count": 38,
     "metadata": {},
     "output_type": "execute_result"
    }
   ],
   "source": [
    "apps[\"Campus\"].isnull().sum()"
   ]
  },
  {
   "cell_type": "code",
   "execution_count": 11,
   "metadata": {
    "scrolled": true
   },
   "outputs": [],
   "source": [
    "#this column is \"commented\" as confidential data (names of students) can't be seen \n",
    "#apps[apps[\"Campus\"].isnull()==True]"
   ]
  },
  {
   "cell_type": "markdown",
   "metadata": {},
   "source": [
    "we'll drop for now all applicants without campus as some are missing too much info and others are dupplicates."
   ]
  },
  {
   "cell_type": "code",
   "execution_count": 40,
   "metadata": {},
   "outputs": [],
   "source": [
    "apps.drop(apps[apps[\"Campus\"].isnull()==True].index, inplace=True)                                 "
   ]
  },
  {
   "cell_type": "markdown",
   "metadata": {},
   "source": [
    "Also, we'll drop applicants from Bogota & Munich since finally those campus were not open"
   ]
  },
  {
   "cell_type": "code",
   "execution_count": 41,
   "metadata": {},
   "outputs": [],
   "source": [
    "apps.drop(apps[(apps[\"Campus\"]==\"Bogota\") | (apps[\"Campus\"]==\"Munich\")].index, inplace=True)        "
   ]
  },
  {
   "cell_type": "code",
   "execution_count": 42,
   "metadata": {},
   "outputs": [
    {
     "data": {
      "text/plain": [
       "Madrid       5856\n",
       "Paris        5654\n",
       "Barcelona    4920\n",
       "Miami        4647\n",
       "Mexico       3970\n",
       "São Paulo    3089\n",
       "Berlin       2801\n",
       "Remote       2385\n",
       "Amsterdam    1684\n",
       "Lisbon       1361\n",
       "Name: Campus, dtype: int64"
      ]
     },
     "execution_count": 42,
     "metadata": {},
     "output_type": "execute_result"
    }
   ],
   "source": [
    "apps[\"Campus\"].value_counts()"
   ]
  },
  {
   "cell_type": "markdown",
   "metadata": {},
   "source": [
    "#### Column: Campus - Timezone"
   ]
  },
  {
   "cell_type": "code",
   "execution_count": 43,
   "metadata": {},
   "outputs": [
    {
     "data": {
      "text/plain": [
       "MAD                        5856\n",
       "PAR                        5654\n",
       "BCN                        4920\n",
       "MIA                        4647\n",
       "MEX                        3970\n",
       "SAO                        3089\n",
       "BER                        2801\n",
       "RMT-Europe/Madrid          1795\n",
       "AMS                        1684\n",
       "LIS                        1361\n",
       "RMT-America/Mexico_City     256\n",
       "RMT-America/Sao_Paulo       163\n",
       "RMT-America/Chicago         124\n",
       "RMT-                         47\n",
       "Name: Campus - Timezone, dtype: int64"
      ]
     },
     "execution_count": 43,
     "metadata": {},
     "output_type": "execute_result"
    }
   ],
   "source": [
    "apps[\"Campus - Timezone\"].value_counts()"
   ]
  },
  {
   "cell_type": "markdown",
   "metadata": {},
   "source": [
    "*We undesrtand that RMT- is RMT-Europe/Madrid "
   ]
  },
  {
   "cell_type": "code",
   "execution_count": 44,
   "metadata": {},
   "outputs": [
    {
     "name": "stderr",
     "output_type": "stream",
     "text": [
      "<ipython-input-44-3fe39a5f7f1b>:1: SettingWithCopyWarning: \n",
      "A value is trying to be set on a copy of a slice from a DataFrame\n",
      "\n",
      "See the caveats in the documentation: https://pandas.pydata.org/pandas-docs/stable/user_guide/indexing.html#returning-a-view-versus-a-copy\n",
      "  apps[\"Campus - Timezone\"][apps[\"Campus - Timezone\"]==\"RMT-\"]=\"RMT-Europe/Madrid\"\n"
     ]
    }
   ],
   "source": [
    "apps[\"Campus - Timezone\"][apps[\"Campus - Timezone\"]==\"RMT-\"]=\"RMT-Europe/Madrid\""
   ]
  },
  {
   "cell_type": "code",
   "execution_count": 45,
   "metadata": {},
   "outputs": [
    {
     "name": "stderr",
     "output_type": "stream",
     "text": [
      "<ipython-input-45-654e0e32cc4e>:1: SettingWithCopyWarning: \n",
      "A value is trying to be set on a copy of a slice from a DataFrame\n",
      "\n",
      "See the caveats in the documentation: https://pandas.pydata.org/pandas-docs/stable/user_guide/indexing.html#returning-a-view-versus-a-copy\n",
      "  apps[\"Campus - Timezone\"][(apps[\"Campus - Timezone\"]==\"RMT-America/Chicago\")|(apps[\"Campus - Timezone\"]==\"RMT-America/Sao_Paulo\")| (apps[\"Campus - Timezone\"]==\"RMT-America/Mexico_City\")]=\"RMT-America\"\n"
     ]
    }
   ],
   "source": [
    "apps[\"Campus - Timezone\"][(apps[\"Campus - Timezone\"]==\"RMT-America/Chicago\")|(apps[\"Campus - Timezone\"]==\"RMT-America/Sao_Paulo\")| (apps[\"Campus - Timezone\"]==\"RMT-America/Mexico_City\")]=\"RMT-America\"\n"
   ]
  },
  {
   "cell_type": "code",
   "execution_count": 46,
   "metadata": {},
   "outputs": [
    {
     "name": "stderr",
     "output_type": "stream",
     "text": [
      "<ipython-input-46-9c07bd77bed1>:1: SettingWithCopyWarning: \n",
      "A value is trying to be set on a copy of a slice from a DataFrame\n",
      "\n",
      "See the caveats in the documentation: https://pandas.pydata.org/pandas-docs/stable/user_guide/indexing.html#returning-a-view-versus-a-copy\n",
      "  apps[\"Campus - Timezone\"][apps[\"Campus - Timezone\"]==\"RMT-Europe/Madrid\"]=\"RMT-Europe\"\n"
     ]
    }
   ],
   "source": [
    "apps[\"Campus - Timezone\"][apps[\"Campus - Timezone\"]==\"RMT-Europe/Madrid\"]=\"RMT-Europe\""
   ]
  },
  {
   "cell_type": "code",
   "execution_count": 47,
   "metadata": {},
   "outputs": [
    {
     "data": {
      "text/plain": [
       "0"
      ]
     },
     "execution_count": 47,
     "metadata": {},
     "output_type": "execute_result"
    }
   ],
   "source": [
    "apps[\"Campus - Timezone\"].isnull().sum()"
   ]
  },
  {
   "cell_type": "code",
   "execution_count": 48,
   "metadata": {},
   "outputs": [
    {
     "data": {
      "text/plain": [
       "MAD            5856\n",
       "PAR            5654\n",
       "BCN            4920\n",
       "MIA            4647\n",
       "MEX            3970\n",
       "SAO            3089\n",
       "BER            2801\n",
       "RMT-Europe     1842\n",
       "AMS            1684\n",
       "LIS            1361\n",
       "RMT-America     543\n",
       "Name: Campus - Timezone, dtype: int64"
      ]
     },
     "execution_count": 48,
     "metadata": {},
     "output_type": "execute_result"
    }
   ],
   "source": [
    "apps[\"Campus - Timezone\"].value_counts()"
   ]
  },
  {
   "cell_type": "markdown",
   "metadata": {},
   "source": [
    "#### Column: Created Date, Closed Date, Bootcamp Start Date and Last Modified Date"
   ]
  },
  {
   "cell_type": "markdown",
   "metadata": {},
   "source": [
    "Fix same datetime format for all column dates"
   ]
  },
  {
   "cell_type": "code",
   "execution_count": 49,
   "metadata": {
    "scrolled": true
   },
   "outputs": [],
   "source": [
    "apps[\"Created Date\"]= pd.to_datetime(apps[\"Created Date\"])\n",
    "apps[\"Close Date\"]= pd.to_datetime(apps[\"Close Date\"])\n",
    "apps[\"Bootcamp Start Date\"]= pd.to_datetime(apps[\"Bootcamp Start Date\"])\n",
    "apps[\"Invoice Date\"]= pd.to_datetime(apps[\"Invoice Date\"])\n",
    "apps[\"Last Modified Date\"]= pd.to_datetime(apps[\"Last Modified Date\"])"
   ]
  },
  {
   "cell_type": "markdown",
   "metadata": {},
   "source": [
    "Make sure all \"Created dates\" are < \"Close Month\", \"Close Date\"."
   ]
  },
  {
   "cell_type": "code",
   "execution_count": 50,
   "metadata": {},
   "outputs": [
    {
     "name": "stdout",
     "output_type": "stream",
     "text": [
      "Total rows with Close, Created Date, Invoice Date:\n"
     ]
    },
    {
     "data": {
      "text/plain": [
       "Close Date      36367\n",
       "Created Date    36367\n",
       "Invoice Date     2781\n",
       "dtype: int64"
      ]
     },
     "execution_count": 50,
     "metadata": {},
     "output_type": "execute_result"
    }
   ],
   "source": [
    "print(\"Total rows with Close, Created Date, Invoice Date:\")\n",
    "apps[[\"Close Date\",\"Created Date\",\"Invoice Date\"]].count()"
   ]
  },
  {
   "cell_type": "code",
   "execution_count": 51,
   "metadata": {},
   "outputs": [
    {
     "name": "stdout",
     "output_type": "stream",
     "text": [
      "Rows that have correct dates (Created Date<Close Date):\n"
     ]
    },
    {
     "data": {
      "text/plain": [
       "Close Date      27206\n",
       "Created Date    27206\n",
       "Invoice Date     2042\n",
       "dtype: int64"
      ]
     },
     "execution_count": 51,
     "metadata": {},
     "output_type": "execute_result"
    }
   ],
   "source": [
    "print(\"Rows that have correct dates (Created Date<Close Date):\")\n",
    "apps[[\"Close Date\",\"Created Date\",\"Invoice Date\"]][(apps[\"Created Date\"]<apps[\"Close Date\"])].count()"
   ]
  },
  {
   "cell_type": "code",
   "execution_count": 52,
   "metadata": {},
   "outputs": [
    {
     "name": "stdout",
     "output_type": "stream",
     "text": [
      "Rows that have wrong dates (Created Date>Close Date):\n"
     ]
    },
    {
     "data": {
      "text/plain": [
       "Close Date      7570\n",
       "Created Date    7570\n",
       "Invoice Date     703\n",
       "dtype: int64"
      ]
     },
     "execution_count": 52,
     "metadata": {},
     "output_type": "execute_result"
    }
   ],
   "source": [
    "print(\"Rows that have wrong dates (Created Date>Close Date):\")\n",
    "apps[[\"Close Date\",\"Created Date\", \"Invoice Date\"]][(apps[\"Created Date\"]>apps[\"Close Date\"])].count()"
   ]
  },
  {
   "cell_type": "code",
   "execution_count": 53,
   "metadata": {},
   "outputs": [
    {
     "name": "stdout",
     "output_type": "stream",
     "text": [
      "Rows/Campus that have wrong dates (Created Date>Close Date):\n",
      "São Paulo: 481\n",
      "Paris: 1303\n",
      "Barcelona: 1038\n",
      "Miami: 1157\n",
      "Mexico: 877\n",
      "Madrid: 1223\n",
      "Berlin: 610\n",
      "Amsterdam: 355\n",
      "Remote: 288\n",
      "Lisbon: 238\n"
     ]
    }
   ],
   "source": [
    "print(\"Rows/Campus that have wrong dates (Created Date>Close Date):\")\n",
    "\n",
    "print(\"São Paulo:\",apps[\"Campus\"][(apps[\"Created Date\"]>apps[\"Close Date\"])&(apps[\"Campus\"]==\"São Paulo\")].count())\n",
    "print(\"Paris:\",apps[\"Campus\"][(apps[\"Created Date\"]>apps[\"Close Date\"])&(apps[\"Campus\"]==\"Paris\")].count())\n",
    "print(\"Barcelona:\",apps[\"Campus\"][(apps[\"Created Date\"]>apps[\"Close Date\"])&(apps[\"Campus\"]==\"Barcelona\")].count())\n",
    "print(\"Miami:\",apps[\"Campus\"][(apps[\"Created Date\"]>apps[\"Close Date\"])&(apps[\"Campus\"]==\"Miami\")].count())\n",
    "print(\"Mexico:\",apps[\"Campus\"][(apps[\"Created Date\"]>apps[\"Close Date\"])&(apps[\"Campus\"]==\"Mexico\")].count())\n",
    "print(\"Madrid:\",apps[\"Campus\"][(apps[\"Created Date\"]>apps[\"Close Date\"])&(apps[\"Campus\"]==\"Madrid\")].count())\n",
    "print(\"Berlin:\",apps[\"Campus\"][(apps[\"Created Date\"]>apps[\"Close Date\"])&(apps[\"Campus\"]==\"Berlin\")].count())\n",
    "print(\"Amsterdam:\",apps[\"Campus\"][(apps[\"Created Date\"]>apps[\"Close Date\"])&(apps[\"Campus\"]==\"Amsterdam\")].count())\n",
    "print(\"Remote:\",apps[\"Campus\"][(apps[\"Created Date\"]>apps[\"Close Date\"])&(apps[\"Campus\"]==\"Remote\")].count())\n",
    "print(\"Lisbon:\",apps[\"Campus\"][(apps[\"Created Date\"]>apps[\"Close Date\"])&(apps[\"Campus\"]==\"Lisbon\")].count())\n",
    "\n"
   ]
  },
  {
   "cell_type": "code",
   "execution_count": 54,
   "metadata": {},
   "outputs": [
    {
     "name": "stdout",
     "output_type": "stream",
     "text": [
      "Rows/Stage that have wrong dates (Created Date>Close Date):\n",
      "Closed lost: 5513\n",
      "Paid Deposit: 2028\n",
      "Technical Interview: 2\n",
      "Qualification: 6\n",
      "Applied: 4\n",
      "Personal Interview: 5\n",
      "Student Agreement: 6\n",
      "ISA won on account: 6\n"
     ]
    }
   ],
   "source": [
    "print(\"Rows/Stage that have wrong dates (Created Date>Close Date):\")\n",
    "\n",
    "print(\"Closed lost:\",apps[\"Campus\"][(apps[\"Created Date\"]>apps[\"Close Date\"])&(apps[\"Stage\"]==\"Closed lost\")].count())\n",
    "print(\"Paid Deposit:\",apps[\"Campus\"][(apps[\"Created Date\"]>apps[\"Close Date\"])&(apps[\"Stage\"]==\"Paid Deposit\")].count())\n",
    "print(\"Technical Interview:\",apps[\"Campus\"][(apps[\"Created Date\"]>apps[\"Close Date\"])&(apps[\"Stage\"]==\"Technical Interview\")].count())\n",
    "print(\"Qualification:\",apps[\"Campus\"][(apps[\"Created Date\"]>apps[\"Close Date\"])&(apps[\"Stage\"]==\"Qualification\")].count())\n",
    "print(\"Applied:\",apps[\"Campus\"][(apps[\"Created Date\"]>apps[\"Close Date\"])&(apps[\"Stage\"]==\"Applied\")].count())\n",
    "print(\"Personal Interview:\",apps[\"Campus\"][(apps[\"Created Date\"]>apps[\"Close Date\"])&(apps[\"Stage\"]==\"Personal Interview\")].count())\n",
    "print(\"Student Agreement:\",apps[\"Campus\"][(apps[\"Created Date\"]>apps[\"Close Date\"])&(apps[\"Stage\"]==\"Student Agreement\")].count())\n",
    "print(\"ISA won on account:\",apps[\"Campus\"][(apps[\"Created Date\"]>apps[\"Close Date\"])&(apps[\"Stage\"]==\"ISA won on account\")].count())\n"
   ]
  },
  {
   "cell_type": "code",
   "execution_count": 55,
   "metadata": {},
   "outputs": [
    {
     "name": "stdout",
     "output_type": "stream",
     "text": [
      "Rows/Format that have wrong dates (Created Date>Close Date):\n",
      "FT: 5809\n",
      "PT: 1761\n"
     ]
    }
   ],
   "source": [
    "print(\"Rows/Format that have wrong dates (Created Date>Close Date):\")\n",
    "\n",
    "print(\"FT:\",apps[\"Campus\"][(apps[\"Created Date\"]>apps[\"Close Date\"])&(apps[\"Bootcamp Format\"]==\"FT\")].count())\n",
    "print(\"PT:\",apps[\"Campus\"][(apps[\"Created Date\"]>apps[\"Close Date\"])&(apps[\"Bootcamp Format\"]==\"PT\")].count())"
   ]
  },
  {
   "cell_type": "code",
   "execution_count": 56,
   "metadata": {},
   "outputs": [
    {
     "name": "stdout",
     "output_type": "stream",
     "text": [
      "Rows/Course that have wrong dates (Created Date>Close Date):\n",
      "WD: 4610\n",
      "UX: 1800\n",
      "CY: 7\n",
      "ios: 3\n"
     ]
    }
   ],
   "source": [
    "print(\"Rows/Course that have wrong dates (Created Date>Close Date):\")\n",
    "\n",
    "print(\"WD:\",apps[\"Campus\"][(apps[\"Created Date\"]>apps[\"Close Date\"])&(apps[\"Bootcamp Course\"]==\"WD\")].count())\n",
    "print(\"UX:\",apps[\"Campus\"][(apps[\"Created Date\"]>apps[\"Close Date\"])&(apps[\"Bootcamp Course\"]==\"UX\")].count())\n",
    "print(\"CY:\",apps[\"Campus\"][(apps[\"Created Date\"]>apps[\"Close Date\"])&(apps[\"Bootcamp Course\"]==\"CY\")].count())\n",
    "print(\"ios:\",apps[\"Campus\"][(apps[\"Created Date\"]>apps[\"Close Date\"])&(apps[\"Bootcamp Course\"]==\"ios\")].count())"
   ]
  },
  {
   "cell_type": "code",
   "execution_count": 57,
   "metadata": {},
   "outputs": [
    {
     "name": "stdout",
     "output_type": "stream",
     "text": [
      "Rows/Year that have wrong dates (Created Date>Close Date):\n",
      "2021: 178\n",
      "2020: 2480\n",
      "2019: 2348\n",
      "2018: 1644\n",
      "2017: 706\n",
      "2016: 214\n"
     ]
    }
   ],
   "source": [
    "print(\"Rows/Year that have wrong dates (Created Date>Close Date):\")\n",
    "\n",
    "print(\"2021:\",apps[\"Campus\"][(apps[\"Created Date\"]>apps[\"Close Date\"])&(apps[\"Bootcamp Year\"]==2021)].count())\n",
    "print(\"2020:\",apps[\"Campus\"][(apps[\"Created Date\"]>apps[\"Close Date\"])&(apps[\"Bootcamp Year\"]==2020)].count())\n",
    "print(\"2019:\",apps[\"Campus\"][(apps[\"Created Date\"]>apps[\"Close Date\"])&(apps[\"Bootcamp Year\"]==2019)].count())\n",
    "print(\"2018:\",apps[\"Campus\"][(apps[\"Created Date\"]>apps[\"Close Date\"])&(apps[\"Bootcamp Year\"]==2018)].count())\n",
    "print(\"2017:\",apps[\"Campus\"][(apps[\"Created Date\"]>apps[\"Close Date\"])&(apps[\"Bootcamp Year\"]==2017)].count())\n",
    "print(\"2016:\",apps[\"Campus\"][(apps[\"Created Date\"]>apps[\"Close Date\"])&(apps[\"Bootcamp Year\"]==2016)].count())"
   ]
  },
  {
   "cell_type": "code",
   "execution_count": 58,
   "metadata": {},
   "outputs": [
    {
     "name": "stdout",
     "output_type": "stream",
     "text": [
      "Total Rows/Year:\n",
      "2021: 2863\n",
      "2020: 13577\n",
      "2019: 9556\n",
      "2018: 6293\n",
      "2017: 2856\n",
      "2016: 1222\n"
     ]
    }
   ],
   "source": [
    "print(\"Total Rows/Year:\")\n",
    "\n",
    "print(\"2021:\",apps[\"Campus\"][(apps[\"Bootcamp Year\"]==2021)].count())\n",
    "print(\"2020:\",apps[\"Campus\"][(apps[\"Bootcamp Year\"]==2020)].count())\n",
    "print(\"2019:\",apps[\"Campus\"][(apps[\"Bootcamp Year\"]==2019)].count())\n",
    "print(\"2018:\",apps[\"Campus\"][(apps[\"Bootcamp Year\"]==2018)].count())\n",
    "print(\"2017:\",apps[\"Campus\"][(apps[\"Bootcamp Year\"]==2017)].count())\n",
    "print(\"2016:\",apps[\"Campus\"][(apps[\"Bootcamp Year\"]==2016)].count())"
   ]
  },
  {
   "cell_type": "code",
   "execution_count": 59,
   "metadata": {},
   "outputs": [],
   "source": [
    "y2021 =apps[\"Campus\"][(apps[\"Created Date\"]>apps[\"Close Date\"])&(apps[\"Bootcamp Year\"]==2021)].count()\n",
    "y2020=apps[\"Campus\"][(apps[\"Created Date\"]>apps[\"Close Date\"])&(apps[\"Bootcamp Year\"]==2020)].count()\n",
    "y2019=apps[\"Campus\"][(apps[\"Created Date\"]>apps[\"Close Date\"])&(apps[\"Bootcamp Year\"]==2019)].count()\n",
    "y2018=apps[\"Campus\"][(apps[\"Created Date\"]>apps[\"Close Date\"])&(apps[\"Bootcamp Year\"]==2018)].count()\n",
    "y2017=apps[\"Campus\"][(apps[\"Created Date\"]>apps[\"Close Date\"])&(apps[\"Bootcamp Year\"]==2017)].count()\n",
    "y2016=apps[\"Campus\"][(apps[\"Created Date\"]>apps[\"Close Date\"])&(apps[\"Bootcamp Year\"]==2016)].count()"
   ]
  },
  {
   "cell_type": "code",
   "execution_count": 60,
   "metadata": {},
   "outputs": [],
   "source": [
    "ty2021 =apps[\"Campus\"][(apps[\"Bootcamp Year\"]==2021)].count()\n",
    "ty2020=apps[\"Campus\"][(apps[\"Bootcamp Year\"]==2020)].count()\n",
    "ty2019=apps[\"Campus\"][(apps[\"Bootcamp Year\"]==2019)].count()\n",
    "ty2018=apps[\"Campus\"][(apps[\"Bootcamp Year\"]==2018)].count()\n",
    "ty2017=apps[\"Campus\"][(apps[\"Bootcamp Year\"]==2017)].count()\n",
    "ty2016=apps[\"Campus\"][(apps[\"Bootcamp Year\"]==2016)].count()"
   ]
  },
  {
   "cell_type": "code",
   "execution_count": 61,
   "metadata": {},
   "outputs": [
    {
     "name": "stdout",
     "output_type": "stream",
     "text": [
      "% of wrong Rows/Year:\n",
      "2021: 0.06\n",
      "2020: 0.18\n",
      "2019: 0.25\n",
      "2018: 0.26\n",
      "2017: 0.25\n",
      "2016: 0.18\n"
     ]
    }
   ],
   "source": [
    "print(\"% of wrong Rows/Year:\")\n",
    "\n",
    "print(\"2021:\",round(y2021/ty2021,2))\n",
    "print(\"2020:\",round(y2020/ty2020,2))\n",
    "print(\"2019:\",round(y2019/ty2019,2))\n",
    "print(\"2018:\",round(y2018/ty2018,2))\n",
    "print(\"2017:\",round(y2017/ty2017,2))\n",
    "print(\"2016:\",round(y2016/ty2016,2))"
   ]
  },
  {
   "cell_type": "markdown",
   "metadata": {},
   "source": [
    "As we could see, between 20%-30% of the data/year comes without a correct closed date. In order to decide if we could remove it or nor, we decided to check how balanced was the wrong data distributed to make sure that if we remove it it won't affect. And, we can see that among bootcamp types, formats, years and campus was balance, no wrong data was specificly comming from a place.\n",
    "\n",
    "\n",
    "Nevertheless, since we have 706 invoice dates that could substitute the close dates, we will proceed to at least modifly this data and rise our target(y) data. This will help our model as so far our x and y are unbalanced."
   ]
  },
  {
   "cell_type": "code",
   "execution_count": 62,
   "metadata": {},
   "outputs": [],
   "source": [
    "apps[\"Close Date\"]= np.where(apps[\"Invoice Date\"].isnull()==False,apps[\"Invoice Date\"], apps[\"Close Date\"])"
   ]
  },
  {
   "cell_type": "code",
   "execution_count": 63,
   "metadata": {},
   "outputs": [
    {
     "data": {
      "text/plain": [
       "Close Date      27179\n",
       "Created Date    27179\n",
       "Invoice Date     2015\n",
       "dtype: int64"
      ]
     },
     "execution_count": 63,
     "metadata": {},
     "output_type": "execute_result"
    }
   ],
   "source": [
    "apps[[\"Close Date\",\"Created Date\",\"Invoice Date\"]][(apps[\"Created Date\"]<apps[\"Close Date\"])].count()"
   ]
  },
  {
   "cell_type": "code",
   "execution_count": 64,
   "metadata": {},
   "outputs": [
    {
     "data": {
      "text/plain": [
       "Close Date      7556\n",
       "Created Date    7556\n",
       "Invoice Date     689\n",
       "dtype: int64"
      ]
     },
     "execution_count": 64,
     "metadata": {},
     "output_type": "execute_result"
    }
   ],
   "source": [
    "apps[[\"Close Date\",\"Created Date\", \"Invoice Date\"]][(apps[\"Created Date\"]>apps[\"Close Date\"])].count()"
   ]
  },
  {
   "cell_type": "markdown",
   "metadata": {},
   "source": [
    "Finally we see that only 15 rows can be subtitute as only 15 invoice dates are < Created Date. Not much of a big add."
   ]
  },
  {
   "cell_type": "markdown",
   "metadata": {},
   "source": [
    "Now, we proceed by removeing those rows that still have a wrong Close Date"
   ]
  },
  {
   "cell_type": "code",
   "execution_count": 65,
   "metadata": {},
   "outputs": [],
   "source": [
    "apps.drop(apps[apps[\"Created Date\"]>apps[\"Close Date\"]].index, inplace=True)"
   ]
  },
  {
   "cell_type": "markdown",
   "metadata": {},
   "source": [
    "#### Column: Invoice Date"
   ]
  },
  {
   "cell_type": "code",
   "execution_count": 66,
   "metadata": {},
   "outputs": [
    {
     "data": {
      "text/plain": [
       "26719"
      ]
     },
     "execution_count": 66,
     "metadata": {},
     "output_type": "execute_result"
    }
   ],
   "source": [
    "apps[\"Invoice Date\"].isnull().sum()"
   ]
  },
  {
   "cell_type": "markdown",
   "metadata": {},
   "source": [
    "We check if all applicants without Invoice date is because they are not in the Paid Deposit Stage"
   ]
  },
  {
   "cell_type": "code",
   "execution_count": 67,
   "metadata": {},
   "outputs": [
    {
     "data": {
      "text/html": [
       "<div>\n",
       "<style scoped>\n",
       "    .dataframe tbody tr th:only-of-type {\n",
       "        vertical-align: middle;\n",
       "    }\n",
       "\n",
       "    .dataframe tbody tr th {\n",
       "        vertical-align: top;\n",
       "    }\n",
       "\n",
       "    .dataframe thead th {\n",
       "        text-align: right;\n",
       "    }\n",
       "</style>\n",
       "<table border=\"1\" class=\"dataframe\">\n",
       "  <thead>\n",
       "    <tr style=\"text-align: right;\">\n",
       "      <th></th>\n",
       "      <th>Invoice Date</th>\n",
       "      <th>Stage</th>\n",
       "      <th>Close Date</th>\n",
       "      <th>Created Date</th>\n",
       "    </tr>\n",
       "  </thead>\n",
       "  <tbody>\n",
       "    <tr>\n",
       "      <th>28</th>\n",
       "      <td>NaT</td>\n",
       "      <td>Paid Deposit</td>\n",
       "      <td>2019-06-29</td>\n",
       "      <td>2019-05-29</td>\n",
       "    </tr>\n",
       "    <tr>\n",
       "      <th>37</th>\n",
       "      <td>NaT</td>\n",
       "      <td>Paid Deposit</td>\n",
       "      <td>2017-12-13</td>\n",
       "      <td>2017-09-11</td>\n",
       "    </tr>\n",
       "    <tr>\n",
       "      <th>53</th>\n",
       "      <td>NaT</td>\n",
       "      <td>Paid Deposit</td>\n",
       "      <td>2018-01-24</td>\n",
       "      <td>2017-11-28</td>\n",
       "    </tr>\n",
       "    <tr>\n",
       "      <th>61</th>\n",
       "      <td>NaT</td>\n",
       "      <td>Paid Deposit</td>\n",
       "      <td>2017-04-17</td>\n",
       "      <td>2017-02-24</td>\n",
       "    </tr>\n",
       "    <tr>\n",
       "      <th>65</th>\n",
       "      <td>NaT</td>\n",
       "      <td>Paid Deposit</td>\n",
       "      <td>2019-02-04</td>\n",
       "      <td>2017-11-28</td>\n",
       "    </tr>\n",
       "    <tr>\n",
       "      <th>...</th>\n",
       "      <td>...</td>\n",
       "      <td>...</td>\n",
       "      <td>...</td>\n",
       "      <td>...</td>\n",
       "    </tr>\n",
       "    <tr>\n",
       "      <th>40137</th>\n",
       "      <td>NaT</td>\n",
       "      <td>Paid Deposit</td>\n",
       "      <td>2020-12-08</td>\n",
       "      <td>2020-07-17</td>\n",
       "    </tr>\n",
       "    <tr>\n",
       "      <th>40152</th>\n",
       "      <td>NaT</td>\n",
       "      <td>Paid Deposit</td>\n",
       "      <td>2020-07-27</td>\n",
       "      <td>2020-07-20</td>\n",
       "    </tr>\n",
       "    <tr>\n",
       "      <th>40168</th>\n",
       "      <td>NaT</td>\n",
       "      <td>Paid Deposit</td>\n",
       "      <td>2020-07-22</td>\n",
       "      <td>2020-07-20</td>\n",
       "    </tr>\n",
       "    <tr>\n",
       "      <th>40189</th>\n",
       "      <td>NaT</td>\n",
       "      <td>Paid Deposit</td>\n",
       "      <td>2020-07-22</td>\n",
       "      <td>2020-07-20</td>\n",
       "    </tr>\n",
       "    <tr>\n",
       "      <th>40198</th>\n",
       "      <td>NaT</td>\n",
       "      <td>Paid Deposit</td>\n",
       "      <td>2020-08-17</td>\n",
       "      <td>2020-07-20</td>\n",
       "    </tr>\n",
       "  </tbody>\n",
       "</table>\n",
       "<p>3067 rows × 4 columns</p>\n",
       "</div>"
      ],
      "text/plain": [
       "      Invoice Date         Stage Close Date Created Date\n",
       "28             NaT  Paid Deposit 2019-06-29   2019-05-29\n",
       "37             NaT  Paid Deposit 2017-12-13   2017-09-11\n",
       "53             NaT  Paid Deposit 2018-01-24   2017-11-28\n",
       "61             NaT  Paid Deposit 2017-04-17   2017-02-24\n",
       "65             NaT  Paid Deposit 2019-02-04   2017-11-28\n",
       "...            ...           ...        ...          ...\n",
       "40137          NaT  Paid Deposit 2020-12-08   2020-07-17\n",
       "40152          NaT  Paid Deposit 2020-07-27   2020-07-20\n",
       "40168          NaT  Paid Deposit 2020-07-22   2020-07-20\n",
       "40189          NaT  Paid Deposit 2020-07-22   2020-07-20\n",
       "40198          NaT  Paid Deposit 2020-08-17   2020-07-20\n",
       "\n",
       "[3067 rows x 4 columns]"
      ]
     },
     "execution_count": 67,
     "metadata": {},
     "output_type": "execute_result"
    }
   ],
   "source": [
    "apps[[\"Invoice Date\",\"Stage\",\"Close Date\",\"Created Date\"]][(apps[\"Invoice Date\"].isnull()==True) & (apps[\"Stage\"]==\"Paid Deposit\")]\n"
   ]
  },
  {
   "cell_type": "code",
   "execution_count": 68,
   "metadata": {},
   "outputs": [
    {
     "data": {
      "text/html": [
       "<div>\n",
       "<style scoped>\n",
       "    .dataframe tbody tr th:only-of-type {\n",
       "        vertical-align: middle;\n",
       "    }\n",
       "\n",
       "    .dataframe tbody tr th {\n",
       "        vertical-align: top;\n",
       "    }\n",
       "\n",
       "    .dataframe thead th {\n",
       "        text-align: right;\n",
       "    }\n",
       "</style>\n",
       "<table border=\"1\" class=\"dataframe\">\n",
       "  <thead>\n",
       "    <tr style=\"text-align: right;\">\n",
       "      <th></th>\n",
       "      <th>Invoice Date</th>\n",
       "      <th>Stage</th>\n",
       "      <th>Close Date</th>\n",
       "    </tr>\n",
       "  </thead>\n",
       "  <tbody>\n",
       "    <tr>\n",
       "      <th>26</th>\n",
       "      <td>2019-09-25</td>\n",
       "      <td>Paid Deposit</td>\n",
       "      <td>2019-09-25</td>\n",
       "    </tr>\n",
       "    <tr>\n",
       "      <th>99</th>\n",
       "      <td>2020-10-20</td>\n",
       "      <td>Paid Deposit</td>\n",
       "      <td>2020-10-20</td>\n",
       "    </tr>\n",
       "    <tr>\n",
       "      <th>105</th>\n",
       "      <td>2020-01-31</td>\n",
       "      <td>Paid Deposit</td>\n",
       "      <td>2020-01-31</td>\n",
       "    </tr>\n",
       "    <tr>\n",
       "      <th>116</th>\n",
       "      <td>2019-09-16</td>\n",
       "      <td>Paid Deposit</td>\n",
       "      <td>2019-09-16</td>\n",
       "    </tr>\n",
       "    <tr>\n",
       "      <th>117</th>\n",
       "      <td>2020-11-02</td>\n",
       "      <td>Paid Deposit</td>\n",
       "      <td>2020-11-02</td>\n",
       "    </tr>\n",
       "    <tr>\n",
       "      <th>...</th>\n",
       "      <td>...</td>\n",
       "      <td>...</td>\n",
       "      <td>...</td>\n",
       "    </tr>\n",
       "    <tr>\n",
       "      <th>40173</th>\n",
       "      <td>2020-10-20</td>\n",
       "      <td>Paid Deposit</td>\n",
       "      <td>2020-10-20</td>\n",
       "    </tr>\n",
       "    <tr>\n",
       "      <th>40212</th>\n",
       "      <td>2020-10-20</td>\n",
       "      <td>Paid Deposit</td>\n",
       "      <td>2020-10-20</td>\n",
       "    </tr>\n",
       "    <tr>\n",
       "      <th>40221</th>\n",
       "      <td>2020-08-14</td>\n",
       "      <td>Paid Deposit</td>\n",
       "      <td>2020-08-14</td>\n",
       "    </tr>\n",
       "    <tr>\n",
       "      <th>40222</th>\n",
       "      <td>2020-10-27</td>\n",
       "      <td>Paid Deposit</td>\n",
       "      <td>2020-10-27</td>\n",
       "    </tr>\n",
       "    <tr>\n",
       "      <th>40223</th>\n",
       "      <td>2020-08-25</td>\n",
       "      <td>Paid Deposit</td>\n",
       "      <td>2020-08-25</td>\n",
       "    </tr>\n",
       "  </tbody>\n",
       "</table>\n",
       "<p>2088 rows × 3 columns</p>\n",
       "</div>"
      ],
      "text/plain": [
       "      Invoice Date         Stage Close Date\n",
       "26      2019-09-25  Paid Deposit 2019-09-25\n",
       "99      2020-10-20  Paid Deposit 2020-10-20\n",
       "105     2020-01-31  Paid Deposit 2020-01-31\n",
       "116     2019-09-16  Paid Deposit 2019-09-16\n",
       "117     2020-11-02  Paid Deposit 2020-11-02\n",
       "...            ...           ...        ...\n",
       "40173   2020-10-20  Paid Deposit 2020-10-20\n",
       "40212   2020-10-20  Paid Deposit 2020-10-20\n",
       "40221   2020-08-14  Paid Deposit 2020-08-14\n",
       "40222   2020-10-27  Paid Deposit 2020-10-27\n",
       "40223   2020-08-25  Paid Deposit 2020-08-25\n",
       "\n",
       "[2088 rows x 3 columns]"
      ]
     },
     "execution_count": 68,
     "metadata": {},
     "output_type": "execute_result"
    }
   ],
   "source": [
    "apps[[\"Invoice Date\",\"Stage\",\"Close Date\"]][(apps[\"Invoice Date\"].isnull()==False) & (apps[\"Stage\"]==\"Paid Deposit\")]\n"
   ]
  },
  {
   "cell_type": "markdown",
   "metadata": {},
   "source": [
    "2088 paid deposit have Invoice Date & 3067 paid deposit don't have Invoice Date. Although it helps us to see how poor is our data, in this project the Invoice date will have no use so we will later drop this column as it will be no longer usefull."
   ]
  },
  {
   "cell_type": "markdown",
   "metadata": {},
   "source": [
    "#### Column: Stage"
   ]
  },
  {
   "cell_type": "code",
   "execution_count": 69,
   "metadata": {},
   "outputs": [
    {
     "data": {
      "text/plain": [
       "Closed lost            22895\n",
       "Paid Deposit            5155\n",
       "Applied                  176\n",
       "Personal Interview       151\n",
       "Technical Interview      149\n",
       "Qualification            134\n",
       "Student Agreement        130\n",
       "ISA won on account        21\n",
       "Name: Stage, dtype: int64"
      ]
     },
     "execution_count": 69,
     "metadata": {},
     "output_type": "execute_result"
    }
   ],
   "source": [
    "apps[\"Stage\"].value_counts()"
   ]
  },
  {
   "cell_type": "markdown",
   "metadata": {},
   "source": [
    "#### Column: Stage Duration"
   ]
  },
  {
   "cell_type": "code",
   "execution_count": 70,
   "metadata": {},
   "outputs": [
    {
     "data": {
      "text/plain": [
       "1    1125,0000000000\n",
       "4     875,0000000000\n",
       "5     952,0000000000\n",
       "6     147,0000000000\n",
       "7    1125,0000000000\n",
       "Name: Stage Duration, dtype: object"
      ]
     },
     "execution_count": 70,
     "metadata": {},
     "output_type": "execute_result"
    }
   ],
   "source": [
    "apps[\"Stage Duration\"].head()"
   ]
  },
  {
   "cell_type": "code",
   "execution_count": 71,
   "metadata": {},
   "outputs": [],
   "source": [
    "apps[\"Stage Duration\"] = apps[\"Stage Duration\"].str.replace(\",\",\".\")"
   ]
  },
  {
   "cell_type": "code",
   "execution_count": 72,
   "metadata": {},
   "outputs": [],
   "source": [
    "apps[\"Stage Duration\"].fillna(0, inplace = True) "
   ]
  },
  {
   "cell_type": "code",
   "execution_count": 73,
   "metadata": {},
   "outputs": [],
   "source": [
    "apps[\"Stage Duration\"] = apps[\"Stage Duration\"].apply(pd.to_numeric, errors='coerce')"
   ]
  },
  {
   "cell_type": "markdown",
   "metadata": {},
   "source": [
    "#### Column: Discount Amount (converted)"
   ]
  },
  {
   "cell_type": "code",
   "execution_count": 74,
   "metadata": {},
   "outputs": [
    {
     "data": {
      "text/plain": [
       "13473"
      ]
     },
     "execution_count": 74,
     "metadata": {},
     "output_type": "execute_result"
    }
   ],
   "source": [
    "apps[\"Discount Amount (converted)\"].isnull().sum()"
   ]
  },
  {
   "cell_type": "code",
   "execution_count": 75,
   "metadata": {},
   "outputs": [
    {
     "data": {
      "text/plain": [
       "1      0,00\n",
       "4      0,00\n",
       "5      0,00\n",
       "6       NaN\n",
       "7    884,96\n",
       "Name: Discount Amount (converted), dtype: object"
      ]
     },
     "execution_count": 75,
     "metadata": {},
     "output_type": "execute_result"
    }
   ],
   "source": [
    "apps[\"Discount Amount (converted)\"].head()"
   ]
  },
  {
   "cell_type": "code",
   "execution_count": 76,
   "metadata": {},
   "outputs": [],
   "source": [
    "apps[\"Discount Amount (converted)\"] = apps[\"Discount Amount (converted)\"].str.replace(\",\",\".\")"
   ]
  },
  {
   "cell_type": "code",
   "execution_count": 77,
   "metadata": {},
   "outputs": [],
   "source": [
    "apps[\"Discount Amount (converted)\"].fillna(0, inplace = True) "
   ]
  },
  {
   "cell_type": "code",
   "execution_count": 78,
   "metadata": {},
   "outputs": [],
   "source": [
    "apps[\"Discount Amount (converted)\"] = apps[\"Discount Amount (converted)\"].apply(pd.to_numeric, errors='coerce')"
   ]
  },
  {
   "cell_type": "markdown",
   "metadata": {},
   "source": [
    "#### Column: Drop Reason"
   ]
  },
  {
   "cell_type": "code",
   "execution_count": 79,
   "metadata": {},
   "outputs": [
    {
     "data": {
      "text/plain": [
       "28532"
      ]
     },
     "execution_count": 79,
     "metadata": {},
     "output_type": "execute_result"
    }
   ],
   "source": [
    "apps[\"Drop Reason\"].isnull().sum()"
   ]
  },
  {
   "cell_type": "code",
   "execution_count": 80,
   "metadata": {},
   "outputs": [
    {
     "data": {
      "text/plain": [
       "Personal matters              92\n",
       "COVID-19                      83\n",
       "Can not afford the payment    26\n",
       "Not interested                18\n",
       "Changed my mind               14\n",
       "Got a job                     13\n",
       "No time                       13\n",
       "Bad candidate                 11\n",
       "Missed in application          4\n",
       "Joined another bootcamp        3\n",
       "No language skills             2\n",
       "Name: Drop Reason, dtype: int64"
      ]
     },
     "execution_count": 80,
     "metadata": {},
     "output_type": "execute_result"
    }
   ],
   "source": [
    "apps[\"Drop Reason\"].value_counts()"
   ]
  },
  {
   "cell_type": "code",
   "execution_count": 81,
   "metadata": {},
   "outputs": [],
   "source": [
    "apps[\"Drop Reason\"].fillna(\"Not specified\", inplace = True) "
   ]
  },
  {
   "cell_type": "markdown",
   "metadata": {},
   "source": [
    "#### Column: Amount (converted) "
   ]
  },
  {
   "cell_type": "code",
   "execution_count": 82,
   "metadata": {},
   "outputs": [
    {
     "data": {
      "text/plain": [
       "0"
      ]
     },
     "execution_count": 82,
     "metadata": {},
     "output_type": "execute_result"
    }
   ],
   "source": [
    "apps[\"Amount (converted)\"].isnull().sum()"
   ]
  },
  {
   "cell_type": "code",
   "execution_count": 83,
   "metadata": {},
   "outputs": [],
   "source": [
    "apps[\"Amount (converted)\"] = apps[\"Amount (converted)\"].str.replace(\",\",\".\")\n",
    "\n",
    "apps[\"Amount (converted)\"] = apps[\"Amount (converted)\"].apply(pd.to_numeric, errors='coerce')"
   ]
  },
  {
   "cell_type": "code",
   "execution_count": 84,
   "metadata": {
    "scrolled": true
   },
   "outputs": [
    {
     "data": {
      "text/plain": [
       "7500.00     6688\n",
       "6500.00     4799\n",
       "7000.00     4359\n",
       "8000.00     2525\n",
       "3225.81     1815\n",
       "4000.00     1792\n",
       "9734.51     1039\n",
       "4147.47      831\n",
       "11061.95     818\n",
       "10176.99     790\n",
       "3764.71      771\n",
       "6000.00      706\n",
       "10619.47     623\n",
       "4746.54      381\n",
       "11504.42     301\n",
       "3539.82      214\n",
       "4352.94      120\n",
       "8500.00       58\n",
       "4588.24       54\n",
       "61946.90      29\n",
       "70000.00      17\n",
       "3741.94       14\n",
       "16000.00      12\n",
       "14000.00       6\n",
       "15000.00       5\n",
       "15500.00       4\n",
       "4705.88        4\n",
       "6637.17        4\n",
       "11000.00       3\n",
       "5752.21        3\n",
       "0.92           3\n",
       "11500.00       2\n",
       "21681.42       2\n",
       "8407.08        2\n",
       "14500.00       2\n",
       "5100.00        1\n",
       "2800.00        1\n",
       "2705.88        1\n",
       "23008.85       1\n",
       "322.58         1\n",
       "13000.00       1\n",
       "8849.56        1\n",
       "12500.00       1\n",
       "22123.89       1\n",
       "9000.00        1\n",
       "5000.00        1\n",
       "21238.94       1\n",
       "8705.88        1\n",
       "22566.37       1\n",
       "20353.98       1\n",
       "Name: Amount (converted), dtype: int64"
      ]
     },
     "execution_count": 84,
     "metadata": {},
     "output_type": "execute_result"
    }
   ],
   "source": [
    "apps[\"Amount (converted)\"].value_counts()"
   ]
  },
  {
   "cell_type": "markdown",
   "metadata": {},
   "source": [
    "13,000 USD (10,740 EUR) should be the highest tuition fee, as Miami part time courses are have the highest fee.\n",
    "So we'll check that the max Amount is 10,740 EUR. We'll goe for 12000 as USD exchanged rate have changed."
   ]
  },
  {
   "cell_type": "code",
   "execution_count": 9,
   "metadata": {
    "scrolled": true
   },
   "outputs": [],
   "source": [
    "#this column is \"commented\" as confidential data (names of students) can't be seen \n",
    "\n",
    "#apps[apps[\"Amount (converted)\"]>12000]"
   ]
  },
  {
   "cell_type": "markdown",
   "metadata": {},
   "source": [
    "We've seen that 84 rows have a wrong Amount and we don't know the reason although it could be that it doubles the real amount or move the comma 1 position, among other possible reasons. Therefore, for now we'll drop them."
   ]
  },
  {
   "cell_type": "code",
   "execution_count": 86,
   "metadata": {},
   "outputs": [],
   "source": [
    "apps.drop(apps[apps[\"Amount (converted)\"]>12000].index, inplace=True)        "
   ]
  },
  {
   "cell_type": "markdown",
   "metadata": {},
   "source": [
    "Same check we'll do for low amount. The lower tuiton fee goes to Brazil that is 18500 Brazilian Real (3012,98 EUR). We check it with 2500 as before BRazil had a lower fee."
   ]
  },
  {
   "cell_type": "code",
   "execution_count": 10,
   "metadata": {
    "scrolled": true
   },
   "outputs": [],
   "source": [
    "#this column is \"commented\" as confidential data (names of students) can't be seen \n",
    "#apps[apps[\"Amount (converted)\"]<2500]"
   ]
  },
  {
   "cell_type": "code",
   "execution_count": 88,
   "metadata": {},
   "outputs": [],
   "source": [
    "apps.drop(apps[apps[\"Amount (converted)\"]<2500].index, inplace=True)        "
   ]
  },
  {
   "cell_type": "markdown",
   "metadata": {},
   "source": [
    "#### Column: Net Amount With VAT (converted) "
   ]
  },
  {
   "cell_type": "code",
   "execution_count": 89,
   "metadata": {},
   "outputs": [
    {
     "data": {
      "text/plain": [
       "0"
      ]
     },
     "execution_count": 89,
     "metadata": {},
     "output_type": "execute_result"
    }
   ],
   "source": [
    "apps[\"Net Amount With VAT (converted)\"].isnull().sum()"
   ]
  },
  {
   "cell_type": "code",
   "execution_count": 90,
   "metadata": {},
   "outputs": [],
   "source": [
    "apps[\"Net Amount With VAT (converted)\"] = apps[\"Net Amount With VAT (converted)\"].str.replace(\",\",\".\")"
   ]
  },
  {
   "cell_type": "code",
   "execution_count": 91,
   "metadata": {},
   "outputs": [],
   "source": [
    "apps[\"Net Amount With VAT (converted)\"] = apps[\"Net Amount With VAT (converted)\"].apply(pd.to_numeric, errors='coerce')"
   ]
  },
  {
   "cell_type": "markdown",
   "metadata": {},
   "source": [
    "#### Column: how did you hear about us?"
   ]
  },
  {
   "cell_type": "code",
   "execution_count": 92,
   "metadata": {},
   "outputs": [
    {
     "data": {
      "text/plain": [
       "1096"
      ]
     },
     "execution_count": 92,
     "metadata": {},
     "output_type": "execute_result"
    }
   ],
   "source": [
    "apps[\"how did you hear about us?\"].isnull().sum()"
   ]
  },
  {
   "cell_type": "code",
   "execution_count": 93,
   "metadata": {},
   "outputs": [
    {
     "data": {
      "text/plain": [
       "google                       6697\n",
       "facebook                     4455\n",
       "other                        3469\n",
       "instagram                    1776\n",
       "friendOrFamily               1647\n",
       "Friend or family             1442\n",
       "linkedin                      980\n",
       "friend_or_family              831\n",
       "youtube                       773\n",
       "ironhackAlumni                736\n",
       "switchup                      653\n",
       "Ironhack alumni               543\n",
       "newspaperOrMagazine           430\n",
       "Newspaper/magazine            355\n",
       "Ironhack event                346\n",
       "ironhackEvent                 292\n",
       "course_report                 282\n",
       "ironhack_alumn                208\n",
       "quora                         183\n",
       "newspaper_or_magazine         173\n",
       "ironhack_event                157\n",
       "Blog                          141\n",
       "courseReport                  140\n",
       "Twitter                       132\n",
       "Application form              111\n",
       "ironhack_alum                  97\n",
       "Social Media                   87\n",
       "Workshop                       76\n",
       "We/Code                        67\n",
       "pole_emploi                    59\n",
       "Open House                     35\n",
       "Pole Emploi                    35\n",
       "paris_code                     33\n",
       "Hackshow                       27\n",
       "TV and/or radio                25\n",
       "IronStar                       18\n",
       "Syllabus form                  16\n",
       "Challenge                      15\n",
       "Pompeii Scholarship            14\n",
       "S-Bahn                         13\n",
       "sbahn                          12\n",
       "Paris Code                      8\n",
       "metro_bus                       4\n",
       "Ironhack                        4\n",
       "ISA                             3\n",
       "circus                          3\n",
       "Article about Ironhack          3\n",
       "Skillied                        3\n",
       "Metro/Bus                       3\n",
       "Newsletter                      3\n",
       "Course Report                   2\n",
       "salon                           2\n",
       "Selina                          2\n",
       "Register to our OpenHouse       1\n",
       "Hemper                          1\n",
       "Switch Up                       1\n",
       "Poster                          1\n",
       "Contact form                    1\n",
       "Meetup                          1\n",
       "Name: how did you hear about us?, dtype: int64"
      ]
     },
     "execution_count": 93,
     "metadata": {},
     "output_type": "execute_result"
    }
   ],
   "source": [
    "apps[\"how did you hear about us?\"].value_counts()"
   ]
  },
  {
   "cell_type": "code",
   "execution_count": 94,
   "metadata": {},
   "outputs": [],
   "source": [
    "apps[\"how did you hear about us?\"].fillna(\"Not specified\", inplace = True) "
   ]
  },
  {
   "cell_type": "markdown",
   "metadata": {},
   "source": [
    "We can see that same reasons have diferent names, so below we homogenize them."
   ]
  },
  {
   "cell_type": "code",
   "execution_count": 95,
   "metadata": {},
   "outputs": [
    {
     "name": "stderr",
     "output_type": "stream",
     "text": [
      "<ipython-input-95-d3e598d679c7>:1: SettingWithCopyWarning: \n",
      "A value is trying to be set on a copy of a slice from a DataFrame\n",
      "\n",
      "See the caveats in the documentation: https://pandas.pydata.org/pandas-docs/stable/user_guide/indexing.html#returning-a-view-versus-a-copy\n",
      "  apps[\"how did you hear about us?\"][(apps[\"how did you hear about us?\"]==\"Friend or family\")\n",
      "<ipython-input-95-d3e598d679c7>:10: SettingWithCopyWarning: \n",
      "A value is trying to be set on a copy of a slice from a DataFrame\n",
      "\n",
      "See the caveats in the documentation: https://pandas.pydata.org/pandas-docs/stable/user_guide/indexing.html#returning-a-view-versus-a-copy\n",
      "  apps[\"how did you hear about us?\"][(apps[\"how did you hear about us?\"]==\"youtube\")\n",
      "<ipython-input-95-d3e598d679c7>:18: SettingWithCopyWarning: \n",
      "A value is trying to be set on a copy of a slice from a DataFrame\n",
      "\n",
      "See the caveats in the documentation: https://pandas.pydata.org/pandas-docs/stable/user_guide/indexing.html#returning-a-view-versus-a-copy\n",
      "  apps[\"how did you hear about us?\"][(apps[\"how did you hear about us?\"]==\"S-Bahn\"\n",
      "<ipython-input-95-d3e598d679c7>:21: SettingWithCopyWarning: \n",
      "A value is trying to be set on a copy of a slice from a DataFrame\n",
      "\n",
      "See the caveats in the documentation: https://pandas.pydata.org/pandas-docs/stable/user_guide/indexing.html#returning-a-view-versus-a-copy\n",
      "  apps[\"how did you hear about us?\"][(apps[\"how did you hear about us?\"]==\"Switch Up\"\n",
      "<ipython-input-95-d3e598d679c7>:24: SettingWithCopyWarning: \n",
      "A value is trying to be set on a copy of a slice from a DataFrame\n",
      "\n",
      "See the caveats in the documentation: https://pandas.pydata.org/pandas-docs/stable/user_guide/indexing.html#returning-a-view-versus-a-copy\n",
      "  apps[\"how did you hear about us?\"][(apps[\"how did you hear about us?\"]==\"course_report\")\n",
      "<ipython-input-95-d3e598d679c7>:28: SettingWithCopyWarning: \n",
      "A value is trying to be set on a copy of a slice from a DataFrame\n",
      "\n",
      "See the caveats in the documentation: https://pandas.pydata.org/pandas-docs/stable/user_guide/indexing.html#returning-a-view-versus-a-copy\n",
      "  apps[\"how did you hear about us?\"][(apps[\"how did you hear about us?\"]==\"Newspaper/magazine\"\n",
      "<ipython-input-95-d3e598d679c7>:31: SettingWithCopyWarning: \n",
      "A value is trying to be set on a copy of a slice from a DataFrame\n",
      "\n",
      "See the caveats in the documentation: https://pandas.pydata.org/pandas-docs/stable/user_guide/indexing.html#returning-a-view-versus-a-copy\n",
      "  apps[\"how did you hear about us?\"][(apps[\"how did you hear about us?\"]==\"pole_emploi\"\n",
      "<ipython-input-95-d3e598d679c7>:35: SettingWithCopyWarning: \n",
      "A value is trying to be set on a copy of a slice from a DataFrame\n",
      "\n",
      "See the caveats in the documentation: https://pandas.pydata.org/pandas-docs/stable/user_guide/indexing.html#returning-a-view-versus-a-copy\n",
      "  apps[\"how did you hear about us?\"][(apps[\"how did you hear about us?\"]==\"Ironhack event\")\n",
      "<ipython-input-95-d3e598d679c7>:49: SettingWithCopyWarning: \n",
      "A value is trying to be set on a copy of a slice from a DataFrame\n",
      "\n",
      "See the caveats in the documentation: https://pandas.pydata.org/pandas-docs/stable/user_guide/indexing.html#returning-a-view-versus-a-copy\n",
      "  apps[\"how did you hear about us?\"][(apps[\"how did you hear about us?\"]==\"metro_bus\"\n"
     ]
    }
   ],
   "source": [
    "apps[\"how did you hear about us?\"][(apps[\"how did you hear about us?\"]==\"Friend or family\")\n",
    "                                    |(apps[\"how did you hear about us?\"]==\"friend_or_family\")\n",
    "                                    |(apps[\"how did you hear about us?\"]==\"friendOrFamily\")\n",
    "                                   |(apps[\"how did you hear about us?\"]==\"Ironhack alumni\")\n",
    "                                    |(apps[\"how did you hear about us?\"]==\"ironhack_alumn\")\n",
    "                                    |(apps[\"how did you hear about us?\"]==\"ironhack_alum\")\n",
    "                                   |(apps[\"how did you hear about us?\"]==\"ironhackAlumni\"\n",
    "                                    )]=\"Referral\"\n",
    "\n",
    "apps[\"how did you hear about us?\"][(apps[\"how did you hear about us?\"]==\"youtube\")\n",
    "                                    |(apps[\"how did you hear about us?\"]==\"linkedin\")\n",
    "                                    |(apps[\"how did you hear about us?\"]==\"friendOrFamily\")\n",
    "                                   |(apps[\"how did you hear about us?\"]==\"Twitter\")\n",
    "                                    |(apps[\"how did you hear about us?\"]==\"facebook\")\n",
    "                                    |(apps[\"how did you hear about us?\"]==\"instagram\"\n",
    "                                    )]=\"Social Media\"\n",
    "\n",
    "apps[\"how did you hear about us?\"][(apps[\"how did you hear about us?\"]==\"S-Bahn\"\n",
    "                                    )]=\"sbahn\" \n",
    "                                    \n",
    "apps[\"how did you hear about us?\"][(apps[\"how did you hear about us?\"]==\"Switch Up\"\n",
    "                                    )]=\"switchup\" \n",
    "                                    \n",
    "apps[\"how did you hear about us?\"][(apps[\"how did you hear about us?\"]==\"course_report\")\n",
    "                                    |(apps[\"how did you hear about us?\"]==\"Course Report\"\n",
    "                                    )]=\"courseReport\"                                \n",
    "                                    \n",
    "apps[\"how did you hear about us?\"][(apps[\"how did you hear about us?\"]==\"Newspaper/magazine\"\n",
    "                                    )]=\"newspaperOrMagazine\"  \n",
    "                                    \n",
    "apps[\"how did you hear about us?\"][(apps[\"how did you hear about us?\"]==\"pole_emploi\"\n",
    "                                   )|(apps[\"how did you hear about us?\"]==\"Pole Emploi\"\n",
    "                                    )]=\"PoleEmploi\"   \n",
    "                                    \n",
    "apps[\"how did you hear about us?\"][(apps[\"how did you hear about us?\"]==\"Ironhack event\")\n",
    "                                    |(apps[\"how did you hear about us?\"]==\"ironhack_event\")\n",
    "                                    |(apps[\"how did you hear about us?\"]==\"ironhackEvent\")\n",
    "                                   |(apps[\"how did you hear about us?\"]==\"circus\")\n",
    "                                   |(apps[\"how did you hear about us?\"]==\"Paris Code\")\n",
    "                                   |(apps[\"how did you hear about us?\"]==\"Hackshow\")\n",
    "                                   |(apps[\"how did you hear about us?\"]==\"paris_code\")\n",
    "                                   |(apps[\"how did you hear about us?\"]==\"OpenHouse\")\n",
    "                                   |(apps[\"how did you hear about us?\"]==\"Open House\")\n",
    "                                   |(apps[\"how did you hear about us?\"]==\"Register to our OpenHouse\")\n",
    "                                   |(apps[\"how did you hear about us?\"]==\"We/Code\")\n",
    "                                   |(apps[\"how did you hear about us?\"]==\"Workshop\"\n",
    "                                   )]=\"IronhackEvent\"                                                                            \n",
    "                                    \n",
    "apps[\"how did you hear about us?\"][(apps[\"how did you hear about us?\"]==\"metro_bus\"\n",
    "                                   )]=\"Metro/Bus\" "
   ]
  },
  {
   "cell_type": "code",
   "execution_count": 96,
   "metadata": {},
   "outputs": [
    {
     "data": {
      "text/plain": [
       "Social Media              8203\n",
       "google                    6697\n",
       "Referral                  5504\n",
       "other                     3469\n",
       "Not specified             1096\n",
       "IronhackEvent             1045\n",
       "newspaperOrMagazine        785\n",
       "switchup                   654\n",
       "courseReport               424\n",
       "quora                      183\n",
       "newspaper_or_magazine      173\n",
       "Blog                       141\n",
       "Application form           111\n",
       "PoleEmploi                  94\n",
       "sbahn                       25\n",
       "TV and/or radio             25\n",
       "IronStar                    18\n",
       "Syllabus form               16\n",
       "Challenge                   15\n",
       "Pompeii Scholarship         14\n",
       "Metro/Bus                    7\n",
       "Ironhack                     4\n",
       "ISA                          3\n",
       "Article about Ironhack       3\n",
       "Skillied                     3\n",
       "Newsletter                   3\n",
       "Selina                       2\n",
       "salon                        2\n",
       "Contact form                 1\n",
       "Poster                       1\n",
       "Meetup                       1\n",
       "Hemper                       1\n",
       "Name: how did you hear about us?, dtype: int64"
      ]
     },
     "execution_count": 96,
     "metadata": {},
     "output_type": "execute_result"
    }
   ],
   "source": [
    "apps[\"how did you hear about us?\"].value_counts()"
   ]
  },
  {
   "cell_type": "markdown",
   "metadata": {},
   "source": [
    "#### Column: Lost Deal Reason"
   ]
  },
  {
   "cell_type": "code",
   "execution_count": 97,
   "metadata": {},
   "outputs": [
    {
     "data": {
      "text/plain": [
       "Missed in application           6519\n",
       "Not interested                  5433\n",
       "Can not afford the payment      2615\n",
       "Bad candidate                   1616\n",
       "No time                         1000\n",
       "Just wanted information          992\n",
       "Personal matters                 729\n",
       "Changed my mind                  714\n",
       "Duplicated                       513\n",
       "Next year                        508\n",
       "Joined another bootcamp          500\n",
       "Test application                 425\n",
       "Got a job                        355\n",
       "Fake application                 290\n",
       "No language skills               204\n",
       "Applied for Scholarship          142\n",
       "COVID-19                         128\n",
       "Looking for an online option     123\n",
       "Different TimeZone                86\n",
       "Unexpected course price           77\n",
       "No English skills                 41\n",
       "No Spanish skills                  3\n",
       "Name: Lost Deal Reason, dtype: int64"
      ]
     },
     "execution_count": 97,
     "metadata": {},
     "output_type": "execute_result"
    }
   ],
   "source": [
    "apps[\"Lost Deal Reason\"].value_counts()"
   ]
  },
  {
   "cell_type": "code",
   "execution_count": 98,
   "metadata": {},
   "outputs": [
    {
     "name": "stderr",
     "output_type": "stream",
     "text": [
      "<ipython-input-98-97a55615068f>:1: SettingWithCopyWarning: \n",
      "A value is trying to be set on a copy of a slice from a DataFrame\n",
      "\n",
      "See the caveats in the documentation: https://pandas.pydata.org/pandas-docs/stable/user_guide/indexing.html#returning-a-view-versus-a-copy\n",
      "  apps[\"Lost Deal Reason\"][(apps[\"Lost Deal Reason\"]==\"No English skills\"\n"
     ]
    }
   ],
   "source": [
    "apps[\"Lost Deal Reason\"][(apps[\"Lost Deal Reason\"]==\"No English skills\"\n",
    "                                   )|(apps[\"how did you hear about us?\"]==\"No Spanish skills\"\n",
    "                                    )]=\"No language skills\"  "
   ]
  },
  {
   "cell_type": "code",
   "execution_count": 99,
   "metadata": {},
   "outputs": [
    {
     "data": {
      "text/html": [
       "<div>\n",
       "<style scoped>\n",
       "    .dataframe tbody tr th:only-of-type {\n",
       "        vertical-align: middle;\n",
       "    }\n",
       "\n",
       "    .dataframe tbody tr th {\n",
       "        vertical-align: top;\n",
       "    }\n",
       "\n",
       "    .dataframe thead th {\n",
       "        text-align: right;\n",
       "    }\n",
       "</style>\n",
       "<table border=\"1\" class=\"dataframe\">\n",
       "  <thead>\n",
       "    <tr style=\"text-align: right;\">\n",
       "      <th></th>\n",
       "      <th>Opportunity ID</th>\n",
       "      <th>Opportunity Name</th>\n",
       "      <th>Has Courses</th>\n",
       "      <th>Bootcamp Course</th>\n",
       "      <th>Bootcamp Format</th>\n",
       "      <th>Bootcamp Year</th>\n",
       "      <th>Bootcamp Start Date</th>\n",
       "      <th>Campus</th>\n",
       "      <th>Campus - Timezone</th>\n",
       "      <th>Created Date</th>\n",
       "      <th>...</th>\n",
       "      <th>Age</th>\n",
       "      <th>First touchpoint Date</th>\n",
       "      <th>First Touchpoint type</th>\n",
       "      <th>Hours Before First Touchpoint</th>\n",
       "      <th>Needs Financing</th>\n",
       "      <th>Person Account: City Before Course</th>\n",
       "      <th>Person Account: Company Located in</th>\n",
       "      <th>Person Account: Eligible to Work In</th>\n",
       "      <th>Person Account: Linkedin URL</th>\n",
       "      <th>Programming languages</th>\n",
       "    </tr>\n",
       "  </thead>\n",
       "  <tbody>\n",
       "  </tbody>\n",
       "</table>\n",
       "<p>0 rows × 58 columns</p>\n",
       "</div>"
      ],
      "text/plain": [
       "Empty DataFrame\n",
       "Columns: [Opportunity ID, Opportunity Name, Has Courses, Bootcamp Course, Bootcamp Format, Bootcamp Year, Bootcamp Start Date, Campus, Campus - Timezone, Created Date, Close Date, Invoice Date, Stage, Discount Amount (converted) Currency, Discount Amount (converted), Scholarship Amount (converted) Currency, Scholarship Amount (converted), Amount (converted) Currency, Amount (converted), Net Amount With VAT (converted) Currency, Net Amount With VAT (converted), Drop, Drop Reason, Lost Deal Reason, Stage Before Lost, how did you hear about us?, Person Account: Tech Background, Person Account: Gender, Person Account: Highest degree received, Person Account: Type of Position, Person Account: Looking for a Job, Person Account: Nationality, Last Modified Date, All Traffic Sources, First Click Medium, First Click Source, Last Click Medium, Last Click Source, Stage Duration, Inactive Days, Last Activity Date, Last Call Date, Last Event Date, Last Task Date, Last Email Date, Account: Created Date, Account: Last Activity, Account: Last Modified Date, Age, First touchpoint Date, First Touchpoint type, Hours Before First Touchpoint, Needs Financing, Person Account: City Before Course, Person Account: Company Located in, Person Account: Eligible to Work In, Person Account: Linkedin URL, Programming languages]\n",
       "Index: []\n",
       "\n",
       "[0 rows x 58 columns]"
      ]
     },
     "execution_count": 99,
     "metadata": {},
     "output_type": "execute_result"
    }
   ],
   "source": [
    "apps[(apps[\"Lost Deal Reason\"].isnull()==True) & (apps[\"Stage\"]==\"Closed Lost\") ]"
   ]
  },
  {
   "cell_type": "markdown",
   "metadata": {},
   "source": [
    "We can see that all applicants without Lost Deal Reason is because they are still open. So we will replace Nan for \"open applicant\""
   ]
  },
  {
   "cell_type": "code",
   "execution_count": 100,
   "metadata": {},
   "outputs": [],
   "source": [
    "apps[\"Lost Deal Reason\"].fillna(\"Open applicant\", inplace = True) "
   ]
  },
  {
   "cell_type": "markdown",
   "metadata": {},
   "source": [
    "#### Column: Scholarship Amount (converted)"
   ]
  },
  {
   "cell_type": "code",
   "execution_count": 101,
   "metadata": {},
   "outputs": [],
   "source": [
    "apps[\"Scholarship Amount (converted)\"] = apps[\"Scholarship Amount (converted)\"].str.replace(\",\",\".\")"
   ]
  },
  {
   "cell_type": "code",
   "execution_count": 102,
   "metadata": {},
   "outputs": [],
   "source": [
    "apps[\"Scholarship Amount (converted)\"].fillna(0, inplace = True) "
   ]
  },
  {
   "cell_type": "code",
   "execution_count": 103,
   "metadata": {},
   "outputs": [],
   "source": [
    "apps[\"Scholarship Amount (converted)\"] = apps[\"Scholarship Amount (converted)\"].apply(pd.to_numeric, errors='coerce')"
   ]
  },
  {
   "cell_type": "markdown",
   "metadata": {},
   "source": [
    "#### Column: Stage Before Lost"
   ]
  },
  {
   "cell_type": "code",
   "execution_count": 104,
   "metadata": {},
   "outputs": [
    {
     "data": {
      "text/plain": [
       "Personal Interview     7748\n",
       "Applied                5536\n",
       "Technical Interview    3685\n",
       "Qualification          3597\n",
       "Student Agreement      1671\n",
       "Paid Deposit             65\n",
       "Video Interview          13\n",
       "Scheduled Interview       1\n",
       "ISA won on account        1\n",
       "Name: Stage Before Lost, dtype: int64"
      ]
     },
     "execution_count": 104,
     "metadata": {},
     "output_type": "execute_result"
    }
   ],
   "source": [
    "apps[\"Stage Before Lost\"].value_counts()"
   ]
  },
  {
   "cell_type": "code",
   "execution_count": 105,
   "metadata": {},
   "outputs": [
    {
     "data": {
      "text/html": [
       "<div>\n",
       "<style scoped>\n",
       "    .dataframe tbody tr th:only-of-type {\n",
       "        vertical-align: middle;\n",
       "    }\n",
       "\n",
       "    .dataframe tbody tr th {\n",
       "        vertical-align: top;\n",
       "    }\n",
       "\n",
       "    .dataframe thead th {\n",
       "        text-align: right;\n",
       "    }\n",
       "</style>\n",
       "<table border=\"1\" class=\"dataframe\">\n",
       "  <thead>\n",
       "    <tr style=\"text-align: right;\">\n",
       "      <th></th>\n",
       "      <th>Opportunity ID</th>\n",
       "      <th>Opportunity Name</th>\n",
       "      <th>Has Courses</th>\n",
       "      <th>Bootcamp Course</th>\n",
       "      <th>Bootcamp Format</th>\n",
       "      <th>Bootcamp Year</th>\n",
       "      <th>Bootcamp Start Date</th>\n",
       "      <th>Campus</th>\n",
       "      <th>Campus - Timezone</th>\n",
       "      <th>Created Date</th>\n",
       "      <th>...</th>\n",
       "      <th>Age</th>\n",
       "      <th>First touchpoint Date</th>\n",
       "      <th>First Touchpoint type</th>\n",
       "      <th>Hours Before First Touchpoint</th>\n",
       "      <th>Needs Financing</th>\n",
       "      <th>Person Account: City Before Course</th>\n",
       "      <th>Person Account: Company Located in</th>\n",
       "      <th>Person Account: Eligible to Work In</th>\n",
       "      <th>Person Account: Linkedin URL</th>\n",
       "      <th>Programming languages</th>\n",
       "    </tr>\n",
       "  </thead>\n",
       "  <tbody>\n",
       "  </tbody>\n",
       "</table>\n",
       "<p>0 rows × 58 columns</p>\n",
       "</div>"
      ],
      "text/plain": [
       "Empty DataFrame\n",
       "Columns: [Opportunity ID, Opportunity Name, Has Courses, Bootcamp Course, Bootcamp Format, Bootcamp Year, Bootcamp Start Date, Campus, Campus - Timezone, Created Date, Close Date, Invoice Date, Stage, Discount Amount (converted) Currency, Discount Amount (converted), Scholarship Amount (converted) Currency, Scholarship Amount (converted), Amount (converted) Currency, Amount (converted), Net Amount With VAT (converted) Currency, Net Amount With VAT (converted), Drop, Drop Reason, Lost Deal Reason, Stage Before Lost, how did you hear about us?, Person Account: Tech Background, Person Account: Gender, Person Account: Highest degree received, Person Account: Type of Position, Person Account: Looking for a Job, Person Account: Nationality, Last Modified Date, All Traffic Sources, First Click Medium, First Click Source, Last Click Medium, Last Click Source, Stage Duration, Inactive Days, Last Activity Date, Last Call Date, Last Event Date, Last Task Date, Last Email Date, Account: Created Date, Account: Last Activity, Account: Last Modified Date, Age, First touchpoint Date, First Touchpoint type, Hours Before First Touchpoint, Needs Financing, Person Account: City Before Course, Person Account: Company Located in, Person Account: Eligible to Work In, Person Account: Linkedin URL, Programming languages]\n",
       "Index: []\n",
       "\n",
       "[0 rows x 58 columns]"
      ]
     },
     "execution_count": 105,
     "metadata": {},
     "output_type": "execute_result"
    }
   ],
   "source": [
    "apps[(apps[\"Stage Before Lost\"].isnull()==True) & (apps[\"Stage\"]==\"Closed Lost\") ]"
   ]
  },
  {
   "cell_type": "markdown",
   "metadata": {},
   "source": [
    "We can see that all applicants without Lost Deal Reason is because they are still open. So we will replace Nan for \"open applicant\""
   ]
  },
  {
   "cell_type": "code",
   "execution_count": 106,
   "metadata": {},
   "outputs": [],
   "source": [
    "apps[\"Stage Before Lost\"].fillna(\"Open applicant\", inplace = True) "
   ]
  },
  {
   "cell_type": "markdown",
   "metadata": {},
   "source": [
    "#### Column: Person Account: Gender"
   ]
  },
  {
   "cell_type": "code",
   "execution_count": 107,
   "metadata": {},
   "outputs": [
    {
     "data": {
      "text/plain": [
       "Male                      17599\n",
       "Female                     9728\n",
       "M                           373\n",
       "F                           190\n",
       "Prefer not to disclose       79\n",
       "Non-binary                   75\n",
       "Hombre                       63\n",
       "Mujer                        47\n",
       "Otro                          2\n",
       "Name: Person Account: Gender, dtype: int64"
      ]
     },
     "execution_count": 107,
     "metadata": {},
     "output_type": "execute_result"
    }
   ],
   "source": [
    "apps[\"Person Account: Gender\"].value_counts()"
   ]
  },
  {
   "cell_type": "code",
   "execution_count": 108,
   "metadata": {},
   "outputs": [
    {
     "name": "stderr",
     "output_type": "stream",
     "text": [
      "<ipython-input-108-7001505b9d7a>:1: SettingWithCopyWarning: \n",
      "A value is trying to be set on a copy of a slice from a DataFrame\n",
      "\n",
      "See the caveats in the documentation: https://pandas.pydata.org/pandas-docs/stable/user_guide/indexing.html#returning-a-view-versus-a-copy\n",
      "  apps[\"Person Account: Gender\"][(apps[\"Person Account: Gender\"]==\"M\") | (apps[\"Person Account: Gender\"]==\"Hombre\")] = \"Male\"\n",
      "<ipython-input-108-7001505b9d7a>:2: SettingWithCopyWarning: \n",
      "A value is trying to be set on a copy of a slice from a DataFrame\n",
      "\n",
      "See the caveats in the documentation: https://pandas.pydata.org/pandas-docs/stable/user_guide/indexing.html#returning-a-view-versus-a-copy\n",
      "  apps[\"Person Account: Gender\"][(apps[\"Person Account: Gender\"]==\"F\") | (apps[\"Person Account: Gender\"]==\"Mujer\")] = \"Female\"\n",
      "<ipython-input-108-7001505b9d7a>:3: SettingWithCopyWarning: \n",
      "A value is trying to be set on a copy of a slice from a DataFrame\n",
      "\n",
      "See the caveats in the documentation: https://pandas.pydata.org/pandas-docs/stable/user_guide/indexing.html#returning-a-view-versus-a-copy\n",
      "  apps[\"Person Account: Gender\"][(apps[\"Person Account: Gender\"]==\"Otro\") | (apps[\"Person Account: Gender\"]==\"Mujer\")] = \"Prefer not to disclose\"\n"
     ]
    }
   ],
   "source": [
    "apps[\"Person Account: Gender\"][(apps[\"Person Account: Gender\"]==\"M\") | (apps[\"Person Account: Gender\"]==\"Hombre\")] = \"Male\"\n",
    "apps[\"Person Account: Gender\"][(apps[\"Person Account: Gender\"]==\"F\") | (apps[\"Person Account: Gender\"]==\"Mujer\")] = \"Female\"\n",
    "apps[\"Person Account: Gender\"][(apps[\"Person Account: Gender\"]==\"Otro\") | (apps[\"Person Account: Gender\"]==\"Mujer\")] = \"Prefer not to disclose\"\n"
   ]
  },
  {
   "cell_type": "code",
   "execution_count": 109,
   "metadata": {},
   "outputs": [],
   "source": [
    "apps[\"Person Account: Gender\"].fillna(\"Prefer not to disclose\", inplace = True) "
   ]
  },
  {
   "cell_type": "markdown",
   "metadata": {},
   "source": [
    "#### Columns: All other columns"
   ]
  },
  {
   "cell_type": "code",
   "execution_count": 110,
   "metadata": {
    "scrolled": true
   },
   "outputs": [
    {
     "data": {
      "text/plain": [
       "Opportunity ID                                  0\n",
       "Opportunity Name                                0\n",
       "Has Courses                                     0\n",
       "Bootcamp Course                                 0\n",
       "Bootcamp Format                                 0\n",
       "Bootcamp Year                                   0\n",
       "Bootcamp Start Date                             0\n",
       "Campus                                          0\n",
       "Campus - Timezone                               0\n",
       "Created Date                                    0\n",
       "Close Date                                      0\n",
       "Invoice Date                                26633\n",
       "Stage                                           0\n",
       "Discount Amount (converted) Currency        13444\n",
       "Discount Amount (converted)                     0\n",
       "Scholarship Amount (converted) Currency     28637\n",
       "Scholarship Amount (converted)                  0\n",
       "Amount (converted) Currency                     0\n",
       "Amount (converted)                              0\n",
       "Net Amount With VAT (converted) Currency        0\n",
       "Net Amount With VAT (converted)                 0\n",
       "Drop                                            0\n",
       "Drop Reason                                     0\n",
       "Lost Deal Reason                                0\n",
       "Stage Before Lost                               0\n",
       "how did you hear about us?                      0\n",
       "Person Account: Tech Background             23956\n",
       "Person Account: Gender                          0\n",
       "Person Account: Highest degree received     21625\n",
       "Person Account: Type of Position            25318\n",
       "Person Account: Looking for a Job           24921\n",
       "Person Account: Nationality                 19770\n",
       "Last Modified Date                              0\n",
       "All Traffic Sources                         20639\n",
       "First Click Medium                          19566\n",
       "First Click Source                          19566\n",
       "Last Click Medium                           19562\n",
       "Last Click Source                           19567\n",
       "Stage Duration                                  0\n",
       "Inactive Days                               23156\n",
       "Last Activity Date                          23156\n",
       "Last Call Date                              28038\n",
       "Last Event Date                             26237\n",
       "Last Task Date                              23363\n",
       "Last Email Date                             28227\n",
       "Account: Created Date                           0\n",
       "Account: Last Activity                      11100\n",
       "Account: Last Modified Date                     0\n",
       "Age                                         28496\n",
       "First touchpoint Date                       23295\n",
       "First Touchpoint type                       23295\n",
       "Hours Before First Touchpoint               23295\n",
       "Needs Financing                             27579\n",
       "Person Account: City Before Course          24844\n",
       "Person Account: Company Located in          28723\n",
       "Person Account: Eligible to Work In         24963\n",
       "Person Account: Linkedin URL                28483\n",
       "Programming languages                       28723\n",
       "dtype: int64"
      ]
     },
     "execution_count": 110,
     "metadata": {},
     "output_type": "execute_result"
    }
   ],
   "source": [
    "apps.isnull().sum()"
   ]
  },
  {
   "cell_type": "markdown",
   "metadata": {},
   "source": [
    "We won't clean for now the rest of the columns as most of it are null values."
   ]
  },
  {
   "cell_type": "markdown",
   "metadata": {},
   "source": [
    "#### Save semi clean & clean data to csv"
   ]
  },
  {
   "cell_type": "code",
   "execution_count": 111,
   "metadata": {},
   "outputs": [],
   "source": [
    "apps.to_csv(\"apps_allYears_semiClean.csv\", index=False)"
   ]
  },
  {
   "cell_type": "markdown",
   "metadata": {},
   "source": [
    "## RemoveColumns \n",
    "To continue, we remove not usefull columns and those that have +50% of null data (data we couldn't clean as missing information), to have a 100% clean df to transform and add new columns"
   ]
  },
  {
   "cell_type": "code",
   "execution_count": 112,
   "metadata": {},
   "outputs": [],
   "source": [
    "apps.drop(columns=[\"Opportunity ID\", \"Opportunity Name\", \"Has Courses\", \n",
    "                   \"Campus\",\"Invoice Date\",\"Hours Before First Touchpoint\",\n",
    "                   \"Person Account: Looking for a Job\",\"Person Account: Tech Background\",\n",
    "                  \"Person Account: Highest degree received\",\"Person Account: Nationality\",\"All Traffic Sources\",\n",
    "                   \"First Click Medium\",\"First Click Source\", \"Last Click Medium\", \"Last Click Source\",\n",
    "                   \"Last Modified Date\",\"Last Activity Date\", \"Last Call Date\", \"Last Event Date\", \n",
    "                   \"Last Task Date\", \"Last Email Date\", \"Account: Created Date\", \"Account: Last Activity\",\n",
    "                   \"Account: Last Modified Date\", \"Age\", \"First touchpoint Date\", \"First Touchpoint type\",\n",
    "                   \"Hours Before First Touchpoint\",\"Needs Financing\", \"Person Account: City Before Course\", \n",
    "                   \"Person Account: Company Located in\",\"Person Account: Eligible to Work In\", \n",
    "                   \"Person Account: Linkedin URL\", \"Programming languages\", \"Inactive Days\",\n",
    "                   \"Discount Amount (converted) Currency\", \"Scholarship Amount (converted) Currency\", \n",
    "                   \"Amount (converted) Currency\",\"Net Amount With VAT (converted) Currency\",\n",
    "                   \"Lost Deal Reason\",\"Stage Before Lost\", \"Person Account: Type of Position\"\n",
    "                  ], inplace=True)"
   ]
  },
  {
   "cell_type": "code",
   "execution_count": 113,
   "metadata": {},
   "outputs": [
    {
     "data": {
      "text/html": [
       "<div>\n",
       "<style scoped>\n",
       "    .dataframe tbody tr th:only-of-type {\n",
       "        vertical-align: middle;\n",
       "    }\n",
       "\n",
       "    .dataframe tbody tr th {\n",
       "        vertical-align: top;\n",
       "    }\n",
       "\n",
       "    .dataframe thead th {\n",
       "        text-align: right;\n",
       "    }\n",
       "</style>\n",
       "<table border=\"1\" class=\"dataframe\">\n",
       "  <thead>\n",
       "    <tr style=\"text-align: right;\">\n",
       "      <th></th>\n",
       "      <th>Bootcamp Course</th>\n",
       "      <th>Bootcamp Format</th>\n",
       "      <th>Bootcamp Year</th>\n",
       "      <th>Bootcamp Start Date</th>\n",
       "      <th>Campus - Timezone</th>\n",
       "      <th>Created Date</th>\n",
       "      <th>Close Date</th>\n",
       "      <th>Stage</th>\n",
       "      <th>Discount Amount (converted)</th>\n",
       "      <th>Scholarship Amount (converted)</th>\n",
       "      <th>Amount (converted)</th>\n",
       "      <th>Net Amount With VAT (converted)</th>\n",
       "      <th>Drop</th>\n",
       "      <th>Drop Reason</th>\n",
       "      <th>how did you hear about us?</th>\n",
       "      <th>Person Account: Gender</th>\n",
       "      <th>Stage Duration</th>\n",
       "    </tr>\n",
       "  </thead>\n",
       "  <tbody>\n",
       "    <tr>\n",
       "      <th>1</th>\n",
       "      <td>WD</td>\n",
       "      <td>FT</td>\n",
       "      <td>2018</td>\n",
       "      <td>2018-01-22</td>\n",
       "      <td>MEX</td>\n",
       "      <td>2017-09-11</td>\n",
       "      <td>2017-12-30</td>\n",
       "      <td>Closed lost</td>\n",
       "      <td>0.00</td>\n",
       "      <td>0.0</td>\n",
       "      <td>3225.81</td>\n",
       "      <td>3225.81</td>\n",
       "      <td>0</td>\n",
       "      <td>Not specified</td>\n",
       "      <td>Social Media</td>\n",
       "      <td>Male</td>\n",
       "      <td>1125.0</td>\n",
       "    </tr>\n",
       "    <tr>\n",
       "      <th>4</th>\n",
       "      <td>UX</td>\n",
       "      <td>FT</td>\n",
       "      <td>2018</td>\n",
       "      <td>2018-10-22</td>\n",
       "      <td>AMS</td>\n",
       "      <td>2018-07-17</td>\n",
       "      <td>2018-08-25</td>\n",
       "      <td>Closed lost</td>\n",
       "      <td>0.00</td>\n",
       "      <td>0.0</td>\n",
       "      <td>6000.00</td>\n",
       "      <td>6000.00</td>\n",
       "      <td>0</td>\n",
       "      <td>Not specified</td>\n",
       "      <td>google</td>\n",
       "      <td>Male</td>\n",
       "      <td>875.0</td>\n",
       "    </tr>\n",
       "    <tr>\n",
       "      <th>5</th>\n",
       "      <td>UX</td>\n",
       "      <td>FT</td>\n",
       "      <td>2018</td>\n",
       "      <td>2018-08-20</td>\n",
       "      <td>BCN</td>\n",
       "      <td>2018-01-05</td>\n",
       "      <td>2018-05-28</td>\n",
       "      <td>Closed lost</td>\n",
       "      <td>0.00</td>\n",
       "      <td>0.0</td>\n",
       "      <td>6500.00</td>\n",
       "      <td>6500.00</td>\n",
       "      <td>0</td>\n",
       "      <td>Not specified</td>\n",
       "      <td>google</td>\n",
       "      <td>Male</td>\n",
       "      <td>952.0</td>\n",
       "    </tr>\n",
       "    <tr>\n",
       "      <th>6</th>\n",
       "      <td>WD</td>\n",
       "      <td>FT</td>\n",
       "      <td>2020</td>\n",
       "      <td>2020-08-17</td>\n",
       "      <td>MIA</td>\n",
       "      <td>2020-07-14</td>\n",
       "      <td>2020-07-14</td>\n",
       "      <td>Closed lost</td>\n",
       "      <td>0.00</td>\n",
       "      <td>0.0</td>\n",
       "      <td>11061.95</td>\n",
       "      <td>11061.95</td>\n",
       "      <td>0</td>\n",
       "      <td>Not specified</td>\n",
       "      <td>Social Media</td>\n",
       "      <td>Female</td>\n",
       "      <td>147.0</td>\n",
       "    </tr>\n",
       "    <tr>\n",
       "      <th>7</th>\n",
       "      <td>WD</td>\n",
       "      <td>PT</td>\n",
       "      <td>2018</td>\n",
       "      <td>2018-11-06</td>\n",
       "      <td>MIA</td>\n",
       "      <td>2017-09-11</td>\n",
       "      <td>2018-10-04</td>\n",
       "      <td>Closed lost</td>\n",
       "      <td>884.96</td>\n",
       "      <td>0.0</td>\n",
       "      <td>10176.99</td>\n",
       "      <td>9292.04</td>\n",
       "      <td>0</td>\n",
       "      <td>Not specified</td>\n",
       "      <td>other</td>\n",
       "      <td>Male</td>\n",
       "      <td>1125.0</td>\n",
       "    </tr>\n",
       "  </tbody>\n",
       "</table>\n",
       "</div>"
      ],
      "text/plain": [
       "  Bootcamp Course Bootcamp Format  Bootcamp Year Bootcamp Start Date  \\\n",
       "1              WD              FT           2018          2018-01-22   \n",
       "4              UX              FT           2018          2018-10-22   \n",
       "5              UX              FT           2018          2018-08-20   \n",
       "6              WD              FT           2020          2020-08-17   \n",
       "7              WD              PT           2018          2018-11-06   \n",
       "\n",
       "  Campus - Timezone Created Date Close Date        Stage  \\\n",
       "1               MEX   2017-09-11 2017-12-30  Closed lost   \n",
       "4               AMS   2018-07-17 2018-08-25  Closed lost   \n",
       "5               BCN   2018-01-05 2018-05-28  Closed lost   \n",
       "6               MIA   2020-07-14 2020-07-14  Closed lost   \n",
       "7               MIA   2017-09-11 2018-10-04  Closed lost   \n",
       "\n",
       "   Discount Amount (converted)  Scholarship Amount (converted)  \\\n",
       "1                         0.00                             0.0   \n",
       "4                         0.00                             0.0   \n",
       "5                         0.00                             0.0   \n",
       "6                         0.00                             0.0   \n",
       "7                       884.96                             0.0   \n",
       "\n",
       "   Amount (converted)  Net Amount With VAT (converted)  Drop    Drop Reason  \\\n",
       "1             3225.81                          3225.81     0  Not specified   \n",
       "4             6000.00                          6000.00     0  Not specified   \n",
       "5             6500.00                          6500.00     0  Not specified   \n",
       "6            11061.95                         11061.95     0  Not specified   \n",
       "7            10176.99                          9292.04     0  Not specified   \n",
       "\n",
       "  how did you hear about us? Person Account: Gender  Stage Duration  \n",
       "1               Social Media                   Male          1125.0  \n",
       "4                     google                   Male           875.0  \n",
       "5                     google                   Male           952.0  \n",
       "6               Social Media                 Female           147.0  \n",
       "7                      other                   Male          1125.0  "
      ]
     },
     "execution_count": 113,
     "metadata": {},
     "output_type": "execute_result"
    }
   ],
   "source": [
    "apps.head()"
   ]
  },
  {
   "cell_type": "code",
   "execution_count": 114,
   "metadata": {},
   "outputs": [
    {
     "data": {
      "text/plain": [
       "(28723, 17)"
      ]
     },
     "execution_count": 114,
     "metadata": {},
     "output_type": "execute_result"
    }
   ],
   "source": [
    "apps.shape"
   ]
  },
  {
   "cell_type": "code",
   "execution_count": 115,
   "metadata": {},
   "outputs": [],
   "source": [
    "apps.to_csv(\"apps_allYears_clean_selCols.csv\", index=False)"
   ]
  },
  {
   "cell_type": "markdown",
   "metadata": {},
   "source": [
    "## AddColumns"
   ]
  },
  {
   "cell_type": "code",
   "execution_count": 116,
   "metadata": {},
   "outputs": [],
   "source": [
    "apps_clean = pd.read_csv(\"apps_allYears_clean_selCols.csv\", parse_dates=[\"Bootcamp Start Date\",\"Created Date\",\"Close Date\"])"
   ]
  },
  {
   "cell_type": "markdown",
   "metadata": {},
   "source": [
    "#### Add Column: Paid Deposit \n",
    "This column will be our target"
   ]
  },
  {
   "cell_type": "code",
   "execution_count": 117,
   "metadata": {},
   "outputs": [],
   "source": [
    "apps_clean[\"Paid Deposit\"]= [1 if (value == \"Paid Deposit\")| (value == \"ISA won on account\")else 0 for value in apps_clean[\"Stage\"]]"
   ]
  },
  {
   "cell_type": "markdown",
   "metadata": {},
   "source": [
    "#### Add Column: Scholarship & Discount"
   ]
  },
  {
   "cell_type": "code",
   "execution_count": 118,
   "metadata": {},
   "outputs": [],
   "source": [
    "apps_clean[\"Scholarship\"]= [0 if value == 0.00 else 1 for value in apps_clean[\"Scholarship Amount (converted)\"]]\n",
    "apps_clean[\"Discount\"]= [0 if value == 0.00 else 1 for value in apps_clean[\"Discount Amount (converted)\"]]"
   ]
  },
  {
   "cell_type": "markdown",
   "metadata": {},
   "source": [
    "#### Add Column: Time Conversion (days)\n",
    "Time taken to convert the lead from it's creation to it's closure"
   ]
  },
  {
   "cell_type": "code",
   "execution_count": 119,
   "metadata": {},
   "outputs": [],
   "source": [
    "apps_clean[\"Time Conversion - days\"]= (apps_clean['Close Date'] - apps_clean['Created Date']).dt.days"
   ]
  },
  {
   "cell_type": "code",
   "execution_count": 120,
   "metadata": {},
   "outputs": [
    {
     "data": {
      "text/html": [
       "<div>\n",
       "<style scoped>\n",
       "    .dataframe tbody tr th:only-of-type {\n",
       "        vertical-align: middle;\n",
       "    }\n",
       "\n",
       "    .dataframe tbody tr th {\n",
       "        vertical-align: top;\n",
       "    }\n",
       "\n",
       "    .dataframe thead th {\n",
       "        text-align: right;\n",
       "    }\n",
       "</style>\n",
       "<table border=\"1\" class=\"dataframe\">\n",
       "  <thead>\n",
       "    <tr style=\"text-align: right;\">\n",
       "      <th></th>\n",
       "      <th>Bootcamp Course</th>\n",
       "      <th>Bootcamp Format</th>\n",
       "      <th>Bootcamp Year</th>\n",
       "      <th>Bootcamp Start Date</th>\n",
       "      <th>Campus - Timezone</th>\n",
       "      <th>Created Date</th>\n",
       "      <th>Close Date</th>\n",
       "      <th>Stage</th>\n",
       "      <th>Discount Amount (converted)</th>\n",
       "      <th>Scholarship Amount (converted)</th>\n",
       "      <th>...</th>\n",
       "      <th>Net Amount With VAT (converted)</th>\n",
       "      <th>Drop</th>\n",
       "      <th>Drop Reason</th>\n",
       "      <th>how did you hear about us?</th>\n",
       "      <th>Person Account: Gender</th>\n",
       "      <th>Stage Duration</th>\n",
       "      <th>Paid Deposit</th>\n",
       "      <th>Scholarship</th>\n",
       "      <th>Discount</th>\n",
       "      <th>Time Conversion - days</th>\n",
       "    </tr>\n",
       "  </thead>\n",
       "  <tbody>\n",
       "  </tbody>\n",
       "</table>\n",
       "<p>0 rows × 21 columns</p>\n",
       "</div>"
      ],
      "text/plain": [
       "Empty DataFrame\n",
       "Columns: [Bootcamp Course, Bootcamp Format, Bootcamp Year, Bootcamp Start Date, Campus - Timezone, Created Date, Close Date, Stage, Discount Amount (converted), Scholarship Amount (converted), Amount (converted), Net Amount With VAT (converted), Drop, Drop Reason, how did you hear about us?, Person Account: Gender, Stage Duration, Paid Deposit, Scholarship, Discount, Time Conversion - days]\n",
       "Index: []\n",
       "\n",
       "[0 rows x 21 columns]"
      ]
     },
     "execution_count": 120,
     "metadata": {},
     "output_type": "execute_result"
    }
   ],
   "source": [
    "apps_clean[(apps_clean['Close Date'] < apps_clean['Created Date']) &(apps_clean[\"Bootcamp Year\"]==2020)].head()"
   ]
  },
  {
   "cell_type": "code",
   "execution_count": 121,
   "metadata": {},
   "outputs": [
    {
     "data": {
      "text/html": [
       "<div>\n",
       "<style scoped>\n",
       "    .dataframe tbody tr th:only-of-type {\n",
       "        vertical-align: middle;\n",
       "    }\n",
       "\n",
       "    .dataframe tbody tr th {\n",
       "        vertical-align: top;\n",
       "    }\n",
       "\n",
       "    .dataframe thead th {\n",
       "        text-align: right;\n",
       "    }\n",
       "</style>\n",
       "<table border=\"1\" class=\"dataframe\">\n",
       "  <thead>\n",
       "    <tr style=\"text-align: right;\">\n",
       "      <th></th>\n",
       "      <th>Bootcamp Course</th>\n",
       "      <th>Bootcamp Format</th>\n",
       "      <th>Bootcamp Year</th>\n",
       "      <th>Bootcamp Start Date</th>\n",
       "      <th>Campus - Timezone</th>\n",
       "      <th>Created Date</th>\n",
       "      <th>Close Date</th>\n",
       "      <th>Stage</th>\n",
       "      <th>Discount Amount (converted)</th>\n",
       "      <th>Scholarship Amount (converted)</th>\n",
       "      <th>...</th>\n",
       "      <th>Net Amount With VAT (converted)</th>\n",
       "      <th>Drop</th>\n",
       "      <th>Drop Reason</th>\n",
       "      <th>how did you hear about us?</th>\n",
       "      <th>Person Account: Gender</th>\n",
       "      <th>Stage Duration</th>\n",
       "      <th>Paid Deposit</th>\n",
       "      <th>Scholarship</th>\n",
       "      <th>Discount</th>\n",
       "      <th>Time Conversion - days</th>\n",
       "    </tr>\n",
       "  </thead>\n",
       "  <tbody>\n",
       "    <tr>\n",
       "      <th>11</th>\n",
       "      <td>WD</td>\n",
       "      <td>FT</td>\n",
       "      <td>2020</td>\n",
       "      <td>2020-08-17</td>\n",
       "      <td>MIA</td>\n",
       "      <td>2020-07-08</td>\n",
       "      <td>2020-09-30</td>\n",
       "      <td>Closed lost</td>\n",
       "      <td>0.0</td>\n",
       "      <td>0.0</td>\n",
       "      <td>...</td>\n",
       "      <td>11061.95</td>\n",
       "      <td>0</td>\n",
       "      <td>Not specified</td>\n",
       "      <td>google</td>\n",
       "      <td>Male</td>\n",
       "      <td>117.0</td>\n",
       "      <td>0</td>\n",
       "      <td>0</td>\n",
       "      <td>0</td>\n",
       "      <td>84</td>\n",
       "    </tr>\n",
       "    <tr>\n",
       "      <th>19</th>\n",
       "      <td>WD</td>\n",
       "      <td>FT</td>\n",
       "      <td>2020</td>\n",
       "      <td>2020-09-14</td>\n",
       "      <td>RMT-Europe</td>\n",
       "      <td>2020-03-09</td>\n",
       "      <td>2020-09-30</td>\n",
       "      <td>Closed lost</td>\n",
       "      <td>0.0</td>\n",
       "      <td>0.0</td>\n",
       "      <td>...</td>\n",
       "      <td>7500.00</td>\n",
       "      <td>0</td>\n",
       "      <td>Not specified</td>\n",
       "      <td>google</td>\n",
       "      <td>Male</td>\n",
       "      <td>11.0</td>\n",
       "      <td>0</td>\n",
       "      <td>0</td>\n",
       "      <td>0</td>\n",
       "      <td>205</td>\n",
       "    </tr>\n",
       "    <tr>\n",
       "      <th>24</th>\n",
       "      <td>WD</td>\n",
       "      <td>FT</td>\n",
       "      <td>2020</td>\n",
       "      <td>2020-09-14</td>\n",
       "      <td>RMT-Europe</td>\n",
       "      <td>2020-08-16</td>\n",
       "      <td>2020-09-30</td>\n",
       "      <td>Closed lost</td>\n",
       "      <td>0.0</td>\n",
       "      <td>0.0</td>\n",
       "      <td>...</td>\n",
       "      <td>7500.00</td>\n",
       "      <td>0</td>\n",
       "      <td>Not specified</td>\n",
       "      <td>switchup</td>\n",
       "      <td>Male</td>\n",
       "      <td>83.0</td>\n",
       "      <td>0</td>\n",
       "      <td>0</td>\n",
       "      <td>0</td>\n",
       "      <td>45</td>\n",
       "    </tr>\n",
       "    <tr>\n",
       "      <th>26</th>\n",
       "      <td>UX</td>\n",
       "      <td>PT</td>\n",
       "      <td>2020</td>\n",
       "      <td>2020-08-01</td>\n",
       "      <td>SAO</td>\n",
       "      <td>2019-08-29</td>\n",
       "      <td>2019-09-24</td>\n",
       "      <td>Closed lost</td>\n",
       "      <td>0.0</td>\n",
       "      <td>0.0</td>\n",
       "      <td>...</td>\n",
       "      <td>4000.00</td>\n",
       "      <td>0</td>\n",
       "      <td>Not specified</td>\n",
       "      <td>Social Media</td>\n",
       "      <td>Female</td>\n",
       "      <td>441.0</td>\n",
       "      <td>0</td>\n",
       "      <td>0</td>\n",
       "      <td>0</td>\n",
       "      <td>26</td>\n",
       "    </tr>\n",
       "    <tr>\n",
       "      <th>33</th>\n",
       "      <td>WD</td>\n",
       "      <td>FT</td>\n",
       "      <td>2020</td>\n",
       "      <td>2020-03-23</td>\n",
       "      <td>MAD</td>\n",
       "      <td>2019-08-29</td>\n",
       "      <td>2020-02-17</td>\n",
       "      <td>Closed lost</td>\n",
       "      <td>0.0</td>\n",
       "      <td>0.0</td>\n",
       "      <td>...</td>\n",
       "      <td>5950.00</td>\n",
       "      <td>0</td>\n",
       "      <td>Not specified</td>\n",
       "      <td>other</td>\n",
       "      <td>Female</td>\n",
       "      <td>335.0</td>\n",
       "      <td>0</td>\n",
       "      <td>0</td>\n",
       "      <td>0</td>\n",
       "      <td>172</td>\n",
       "    </tr>\n",
       "  </tbody>\n",
       "</table>\n",
       "<p>5 rows × 21 columns</p>\n",
       "</div>"
      ],
      "text/plain": [
       "   Bootcamp Course Bootcamp Format  Bootcamp Year Bootcamp Start Date  \\\n",
       "11              WD              FT           2020          2020-08-17   \n",
       "19              WD              FT           2020          2020-09-14   \n",
       "24              WD              FT           2020          2020-09-14   \n",
       "26              UX              PT           2020          2020-08-01   \n",
       "33              WD              FT           2020          2020-03-23   \n",
       "\n",
       "   Campus - Timezone Created Date Close Date        Stage  \\\n",
       "11               MIA   2020-07-08 2020-09-30  Closed lost   \n",
       "19        RMT-Europe   2020-03-09 2020-09-30  Closed lost   \n",
       "24        RMT-Europe   2020-08-16 2020-09-30  Closed lost   \n",
       "26               SAO   2019-08-29 2019-09-24  Closed lost   \n",
       "33               MAD   2019-08-29 2020-02-17  Closed lost   \n",
       "\n",
       "    Discount Amount (converted)  Scholarship Amount (converted)  ...  \\\n",
       "11                          0.0                             0.0  ...   \n",
       "19                          0.0                             0.0  ...   \n",
       "24                          0.0                             0.0  ...   \n",
       "26                          0.0                             0.0  ...   \n",
       "33                          0.0                             0.0  ...   \n",
       "\n",
       "    Net Amount With VAT (converted)  Drop    Drop Reason  \\\n",
       "11                         11061.95     0  Not specified   \n",
       "19                          7500.00     0  Not specified   \n",
       "24                          7500.00     0  Not specified   \n",
       "26                          4000.00     0  Not specified   \n",
       "33                          5950.00     0  Not specified   \n",
       "\n",
       "   how did you hear about us? Person Account: Gender Stage Duration  \\\n",
       "11                     google                   Male          117.0   \n",
       "19                     google                   Male           11.0   \n",
       "24                   switchup                   Male           83.0   \n",
       "26               Social Media                 Female          441.0   \n",
       "33                      other                 Female          335.0   \n",
       "\n",
       "    Paid Deposit  Scholarship  Discount  Time Conversion - days  \n",
       "11             0            0         0                      84  \n",
       "19             0            0         0                     205  \n",
       "24             0            0         0                      45  \n",
       "26             0            0         0                      26  \n",
       "33             0            0         0                     172  \n",
       "\n",
       "[5 rows x 21 columns]"
      ]
     },
     "execution_count": 121,
     "metadata": {},
     "output_type": "execute_result"
    }
   ],
   "source": [
    "apps_clean[(apps_clean['Close Date'] > apps_clean['Created Date']) &(apps_clean[\"Bootcamp Year\"]==2020)].head()"
   ]
  },
  {
   "cell_type": "code",
   "execution_count": 122,
   "metadata": {},
   "outputs": [
    {
     "data": {
      "text/html": [
       "<div>\n",
       "<style scoped>\n",
       "    .dataframe tbody tr th:only-of-type {\n",
       "        vertical-align: middle;\n",
       "    }\n",
       "\n",
       "    .dataframe tbody tr th {\n",
       "        vertical-align: top;\n",
       "    }\n",
       "\n",
       "    .dataframe thead th {\n",
       "        text-align: right;\n",
       "    }\n",
       "</style>\n",
       "<table border=\"1\" class=\"dataframe\">\n",
       "  <thead>\n",
       "    <tr style=\"text-align: right;\">\n",
       "      <th></th>\n",
       "      <th>Bootcamp Course</th>\n",
       "      <th>Bootcamp Format</th>\n",
       "      <th>Bootcamp Year</th>\n",
       "      <th>Bootcamp Start Date</th>\n",
       "      <th>Campus - Timezone</th>\n",
       "      <th>Created Date</th>\n",
       "      <th>Close Date</th>\n",
       "      <th>Stage</th>\n",
       "      <th>Discount Amount (converted)</th>\n",
       "      <th>Scholarship Amount (converted)</th>\n",
       "      <th>...</th>\n",
       "      <th>Net Amount With VAT (converted)</th>\n",
       "      <th>Drop</th>\n",
       "      <th>Drop Reason</th>\n",
       "      <th>how did you hear about us?</th>\n",
       "      <th>Person Account: Gender</th>\n",
       "      <th>Stage Duration</th>\n",
       "      <th>Paid Deposit</th>\n",
       "      <th>Scholarship</th>\n",
       "      <th>Discount</th>\n",
       "      <th>Time Conversion - days</th>\n",
       "    </tr>\n",
       "  </thead>\n",
       "  <tbody>\n",
       "  </tbody>\n",
       "</table>\n",
       "<p>0 rows × 21 columns</p>\n",
       "</div>"
      ],
      "text/plain": [
       "Empty DataFrame\n",
       "Columns: [Bootcamp Course, Bootcamp Format, Bootcamp Year, Bootcamp Start Date, Campus - Timezone, Created Date, Close Date, Stage, Discount Amount (converted), Scholarship Amount (converted), Amount (converted), Net Amount With VAT (converted), Drop, Drop Reason, how did you hear about us?, Person Account: Gender, Stage Duration, Paid Deposit, Scholarship, Discount, Time Conversion - days]\n",
       "Index: []\n",
       "\n",
       "[0 rows x 21 columns]"
      ]
     },
     "execution_count": 122,
     "metadata": {},
     "output_type": "execute_result"
    }
   ],
   "source": [
    "apps_clean[apps_clean['Close Date'] < apps_clean['Created Date']].head()"
   ]
  },
  {
   "cell_type": "code",
   "execution_count": 123,
   "metadata": {},
   "outputs": [
    {
     "data": {
      "text/html": [
       "<div>\n",
       "<style scoped>\n",
       "    .dataframe tbody tr th:only-of-type {\n",
       "        vertical-align: middle;\n",
       "    }\n",
       "\n",
       "    .dataframe tbody tr th {\n",
       "        vertical-align: top;\n",
       "    }\n",
       "\n",
       "    .dataframe thead th {\n",
       "        text-align: right;\n",
       "    }\n",
       "</style>\n",
       "<table border=\"1\" class=\"dataframe\">\n",
       "  <thead>\n",
       "    <tr style=\"text-align: right;\">\n",
       "      <th></th>\n",
       "      <th>Bootcamp Course</th>\n",
       "      <th>Bootcamp Format</th>\n",
       "      <th>Bootcamp Year</th>\n",
       "      <th>Bootcamp Start Date</th>\n",
       "      <th>Campus - Timezone</th>\n",
       "      <th>Created Date</th>\n",
       "      <th>Close Date</th>\n",
       "      <th>Stage</th>\n",
       "      <th>Discount Amount (converted)</th>\n",
       "      <th>Scholarship Amount (converted)</th>\n",
       "      <th>...</th>\n",
       "      <th>Net Amount With VAT (converted)</th>\n",
       "      <th>Drop</th>\n",
       "      <th>Drop Reason</th>\n",
       "      <th>how did you hear about us?</th>\n",
       "      <th>Person Account: Gender</th>\n",
       "      <th>Stage Duration</th>\n",
       "      <th>Paid Deposit</th>\n",
       "      <th>Scholarship</th>\n",
       "      <th>Discount</th>\n",
       "      <th>Time Conversion - days</th>\n",
       "    </tr>\n",
       "  </thead>\n",
       "  <tbody>\n",
       "    <tr>\n",
       "      <th>28718</th>\n",
       "      <td>WD</td>\n",
       "      <td>FT</td>\n",
       "      <td>2020</td>\n",
       "      <td>2020-10-19</td>\n",
       "      <td>BER</td>\n",
       "      <td>2020-07-20</td>\n",
       "      <td>2020-08-14</td>\n",
       "      <td>Paid Deposit</td>\n",
       "      <td>750.0</td>\n",
       "      <td>0.0</td>\n",
       "      <td>...</td>\n",
       "      <td>6750.0</td>\n",
       "      <td>0</td>\n",
       "      <td>Not specified</td>\n",
       "      <td>google</td>\n",
       "      <td>Female</td>\n",
       "      <td>123.0</td>\n",
       "      <td>1</td>\n",
       "      <td>0</td>\n",
       "      <td>1</td>\n",
       "      <td>25</td>\n",
       "    </tr>\n",
       "    <tr>\n",
       "      <th>28719</th>\n",
       "      <td>DA</td>\n",
       "      <td>FT</td>\n",
       "      <td>2021</td>\n",
       "      <td>2021-11-01</td>\n",
       "      <td>AMS</td>\n",
       "      <td>2020-07-20</td>\n",
       "      <td>2020-10-27</td>\n",
       "      <td>Paid Deposit</td>\n",
       "      <td>800.0</td>\n",
       "      <td>0.0</td>\n",
       "      <td>...</td>\n",
       "      <td>7200.0</td>\n",
       "      <td>0</td>\n",
       "      <td>Not specified</td>\n",
       "      <td>other</td>\n",
       "      <td>Female</td>\n",
       "      <td>20.0</td>\n",
       "      <td>1</td>\n",
       "      <td>0</td>\n",
       "      <td>1</td>\n",
       "      <td>99</td>\n",
       "    </tr>\n",
       "    <tr>\n",
       "      <th>28720</th>\n",
       "      <td>WD</td>\n",
       "      <td>FT</td>\n",
       "      <td>2020</td>\n",
       "      <td>2020-10-19</td>\n",
       "      <td>BER</td>\n",
       "      <td>2020-07-20</td>\n",
       "      <td>2020-08-25</td>\n",
       "      <td>Paid Deposit</td>\n",
       "      <td>0.0</td>\n",
       "      <td>0.0</td>\n",
       "      <td>...</td>\n",
       "      <td>7500.0</td>\n",
       "      <td>0</td>\n",
       "      <td>Not specified</td>\n",
       "      <td>Referral</td>\n",
       "      <td>Male</td>\n",
       "      <td>106.0</td>\n",
       "      <td>1</td>\n",
       "      <td>0</td>\n",
       "      <td>0</td>\n",
       "      <td>36</td>\n",
       "    </tr>\n",
       "    <tr>\n",
       "      <th>28721</th>\n",
       "      <td>UX</td>\n",
       "      <td>FT</td>\n",
       "      <td>2020</td>\n",
       "      <td>2020-09-28</td>\n",
       "      <td>BCN</td>\n",
       "      <td>2020-07-21</td>\n",
       "      <td>2020-09-30</td>\n",
       "      <td>Closed lost</td>\n",
       "      <td>0.0</td>\n",
       "      <td>0.0</td>\n",
       "      <td>...</td>\n",
       "      <td>7000.0</td>\n",
       "      <td>0</td>\n",
       "      <td>Not specified</td>\n",
       "      <td>IronhackEvent</td>\n",
       "      <td>Female</td>\n",
       "      <td>81.0</td>\n",
       "      <td>0</td>\n",
       "      <td>0</td>\n",
       "      <td>0</td>\n",
       "      <td>71</td>\n",
       "    </tr>\n",
       "    <tr>\n",
       "      <th>28722</th>\n",
       "      <td>DA</td>\n",
       "      <td>FT</td>\n",
       "      <td>2020</td>\n",
       "      <td>2020-10-19</td>\n",
       "      <td>BER</td>\n",
       "      <td>2020-08-07</td>\n",
       "      <td>2020-09-30</td>\n",
       "      <td>Closed lost</td>\n",
       "      <td>2099.0</td>\n",
       "      <td>0.0</td>\n",
       "      <td>...</td>\n",
       "      <td>5401.0</td>\n",
       "      <td>0</td>\n",
       "      <td>Not specified</td>\n",
       "      <td>Social Media</td>\n",
       "      <td>Female</td>\n",
       "      <td>118.0</td>\n",
       "      <td>0</td>\n",
       "      <td>0</td>\n",
       "      <td>1</td>\n",
       "      <td>54</td>\n",
       "    </tr>\n",
       "  </tbody>\n",
       "</table>\n",
       "<p>5 rows × 21 columns</p>\n",
       "</div>"
      ],
      "text/plain": [
       "      Bootcamp Course Bootcamp Format  Bootcamp Year Bootcamp Start Date  \\\n",
       "28718              WD              FT           2020          2020-10-19   \n",
       "28719              DA              FT           2021          2021-11-01   \n",
       "28720              WD              FT           2020          2020-10-19   \n",
       "28721              UX              FT           2020          2020-09-28   \n",
       "28722              DA              FT           2020          2020-10-19   \n",
       "\n",
       "      Campus - Timezone Created Date Close Date         Stage  \\\n",
       "28718               BER   2020-07-20 2020-08-14  Paid Deposit   \n",
       "28719               AMS   2020-07-20 2020-10-27  Paid Deposit   \n",
       "28720               BER   2020-07-20 2020-08-25  Paid Deposit   \n",
       "28721               BCN   2020-07-21 2020-09-30   Closed lost   \n",
       "28722               BER   2020-08-07 2020-09-30   Closed lost   \n",
       "\n",
       "       Discount Amount (converted)  Scholarship Amount (converted)  ...  \\\n",
       "28718                        750.0                             0.0  ...   \n",
       "28719                        800.0                             0.0  ...   \n",
       "28720                          0.0                             0.0  ...   \n",
       "28721                          0.0                             0.0  ...   \n",
       "28722                       2099.0                             0.0  ...   \n",
       "\n",
       "       Net Amount With VAT (converted)  Drop    Drop Reason  \\\n",
       "28718                           6750.0     0  Not specified   \n",
       "28719                           7200.0     0  Not specified   \n",
       "28720                           7500.0     0  Not specified   \n",
       "28721                           7000.0     0  Not specified   \n",
       "28722                           5401.0     0  Not specified   \n",
       "\n",
       "      how did you hear about us? Person Account: Gender Stage Duration  \\\n",
       "28718                     google                 Female          123.0   \n",
       "28719                      other                 Female           20.0   \n",
       "28720                   Referral                   Male          106.0   \n",
       "28721              IronhackEvent                 Female           81.0   \n",
       "28722               Social Media                 Female          118.0   \n",
       "\n",
       "       Paid Deposit  Scholarship  Discount  Time Conversion - days  \n",
       "28718             1            0         1                      25  \n",
       "28719             1            0         1                      99  \n",
       "28720             1            0         0                      36  \n",
       "28721             0            0         0                      71  \n",
       "28722             0            0         1                      54  \n",
       "\n",
       "[5 rows x 21 columns]"
      ]
     },
     "execution_count": 123,
     "metadata": {},
     "output_type": "execute_result"
    }
   ],
   "source": [
    "apps_clean.tail()"
   ]
  },
  {
   "cell_type": "markdown",
   "metadata": {},
   "source": [
    "#### Add Column: Time between Created Date and Start Date (days)"
   ]
  },
  {
   "cell_type": "code",
   "execution_count": 124,
   "metadata": {},
   "outputs": [],
   "source": [
    "\n",
    "apps_clean[\"Time between Created Date and Start Date - days\"]= (apps_clean['Bootcamp Start Date'] - apps_clean['Created Date']).dt.days\n"
   ]
  },
  {
   "cell_type": "markdown",
   "metadata": {},
   "source": [
    "#### Add Column: % Converstion Rate\n"
   ]
  },
  {
   "cell_type": "code",
   "execution_count": 125,
   "metadata": {},
   "outputs": [],
   "source": [
    "bst_campus_course_format= apps_clean[apps_clean[\"Paid Deposit\"]==1].groupby([\"Campus - Timezone\",\"Bootcamp Course\",\"Bootcamp Format\",\n",
    "                    \"Bootcamp Start Date\"]).count()[\"Created Date\"]\n",
    "\n",
    "\n",
    "total_campus_course_format= apps_clean.groupby([\"Campus - Timezone\",\"Bootcamp Course\",\"Bootcamp Format\",\n",
    "                    \"Bootcamp Start Date\"]).count()[\"Created Date\"]\n"
   ]
  },
  {
   "cell_type": "code",
   "execution_count": 126,
   "metadata": {},
   "outputs": [],
   "source": [
    "cvr_campus_course_format=round(bst_campus_course_format/total_campus_course_format,2)"
   ]
  },
  {
   "cell_type": "code",
   "execution_count": 127,
   "metadata": {},
   "outputs": [],
   "source": [
    "cvr_campus_course_format.fillna(0, inplace = True) "
   ]
  },
  {
   "cell_type": "code",
   "execution_count": 128,
   "metadata": {},
   "outputs": [
    {
     "data": {
      "text/html": [
       "<div>\n",
       "<style scoped>\n",
       "    .dataframe tbody tr th:only-of-type {\n",
       "        vertical-align: middle;\n",
       "    }\n",
       "\n",
       "    .dataframe tbody tr th {\n",
       "        vertical-align: top;\n",
       "    }\n",
       "\n",
       "    .dataframe thead th {\n",
       "        text-align: right;\n",
       "    }\n",
       "</style>\n",
       "<table border=\"1\" class=\"dataframe\">\n",
       "  <thead>\n",
       "    <tr style=\"text-align: right;\">\n",
       "      <th></th>\n",
       "      <th></th>\n",
       "      <th></th>\n",
       "      <th></th>\n",
       "      <th>Created Date</th>\n",
       "    </tr>\n",
       "    <tr>\n",
       "      <th>Campus - Timezone</th>\n",
       "      <th>Bootcamp Course</th>\n",
       "      <th>Bootcamp Format</th>\n",
       "      <th>Bootcamp Start Date</th>\n",
       "      <th></th>\n",
       "    </tr>\n",
       "  </thead>\n",
       "  <tbody>\n",
       "    <tr>\n",
       "      <th rowspan=\"5\" valign=\"top\">AMS</th>\n",
       "      <th>CY</th>\n",
       "      <th>FT</th>\n",
       "      <th>2021-07-06</th>\n",
       "      <td>0.00</td>\n",
       "    </tr>\n",
       "    <tr>\n",
       "      <th rowspan=\"4\" valign=\"top\">DA</th>\n",
       "      <th rowspan=\"4\" valign=\"top\">FT</th>\n",
       "      <th>2019-09-23</th>\n",
       "      <td>0.17</td>\n",
       "    </tr>\n",
       "    <tr>\n",
       "      <th>2020-02-17</th>\n",
       "      <td>0.26</td>\n",
       "    </tr>\n",
       "    <tr>\n",
       "      <th>2020-04-05</th>\n",
       "      <td>0.27</td>\n",
       "    </tr>\n",
       "    <tr>\n",
       "      <th>2020-06-15</th>\n",
       "      <td>0.00</td>\n",
       "    </tr>\n",
       "    <tr>\n",
       "      <th>...</th>\n",
       "      <th>...</th>\n",
       "      <th>...</th>\n",
       "      <th>...</th>\n",
       "      <td>...</td>\n",
       "    </tr>\n",
       "    <tr>\n",
       "      <th rowspan=\"5\" valign=\"top\">SAO</th>\n",
       "      <th rowspan=\"5\" valign=\"top\">WD</th>\n",
       "      <th rowspan=\"5\" valign=\"top\">PT</th>\n",
       "      <th>2020-07-07</th>\n",
       "      <td>0.33</td>\n",
       "    </tr>\n",
       "    <tr>\n",
       "      <th>2020-08-01</th>\n",
       "      <td>0.04</td>\n",
       "    </tr>\n",
       "    <tr>\n",
       "      <th>2020-09-22</th>\n",
       "      <td>0.00</td>\n",
       "    </tr>\n",
       "    <tr>\n",
       "      <th>2020-10-20</th>\n",
       "      <td>0.45</td>\n",
       "    </tr>\n",
       "    <tr>\n",
       "      <th>2021-12-01</th>\n",
       "      <td>0.13</td>\n",
       "    </tr>\n",
       "  </tbody>\n",
       "</table>\n",
       "<p>870 rows × 1 columns</p>\n",
       "</div>"
      ],
      "text/plain": [
       "                                                                       Created Date\n",
       "Campus - Timezone Bootcamp Course Bootcamp Format Bootcamp Start Date              \n",
       "AMS               CY              FT              2021-07-06                   0.00\n",
       "                  DA              FT              2019-09-23                   0.17\n",
       "                                                  2020-02-17                   0.26\n",
       "                                                  2020-04-05                   0.27\n",
       "                                                  2020-06-15                   0.00\n",
       "...                                                                             ...\n",
       "SAO               WD              PT              2020-07-07                   0.33\n",
       "                                                  2020-08-01                   0.04\n",
       "                                                  2020-09-22                   0.00\n",
       "                                                  2020-10-20                   0.45\n",
       "                                                  2021-12-01                   0.13\n",
       "\n",
       "[870 rows x 1 columns]"
      ]
     },
     "execution_count": 128,
     "metadata": {},
     "output_type": "execute_result"
    }
   ],
   "source": [
    "new_df=pd.DataFrame(cvr_campus_course_format)\n",
    "new_df"
   ]
  },
  {
   "cell_type": "markdown",
   "metadata": {},
   "source": [
    "This column was not finally added as was gonna bring colliniarity with other columns"
   ]
  },
  {
   "cell_type": "markdown",
   "metadata": {},
   "source": [
    "#### Add Column: % Discount"
   ]
  },
  {
   "cell_type": "code",
   "execution_count": 130,
   "metadata": {},
   "outputs": [],
   "source": [
    "apps_clean[\"Discount(%)\"]= 1- (round(apps_clean[\"Net Amount With VAT (converted)\"]  / apps_clean[\"Amount (converted)\"],2) )\n"
   ]
  },
  {
   "cell_type": "markdown",
   "metadata": {},
   "source": [
    "#### Add Column: Creater Month \n",
    "Aggregate Creater Date by month"
   ]
  },
  {
   "cell_type": "code",
   "execution_count": 131,
   "metadata": {},
   "outputs": [],
   "source": [
    "apps_clean[\"Creater Month\"]=apps_clean['Created Date'].dt.month"
   ]
  },
  {
   "cell_type": "markdown",
   "metadata": {},
   "source": [
    "#### Add Column: Creater Quarter \n",
    "Aggregate Creater Date by quarter"
   ]
  },
  {
   "cell_type": "code",
   "execution_count": 132,
   "metadata": {},
   "outputs": [],
   "source": [
    "apps_clean[\"Creater Quarter\"]=apps_clean['Created Date'].dt.quarter"
   ]
  },
  {
   "cell_type": "markdown",
   "metadata": {},
   "source": [
    "#### Drop columns used to create the new ones and that now have no more use"
   ]
  },
  {
   "cell_type": "code",
   "execution_count": 133,
   "metadata": {
    "scrolled": false
   },
   "outputs": [
    {
     "data": {
      "text/plain": [
       "Index(['Bootcamp Course', 'Bootcamp Format', 'Bootcamp Year',\n",
       "       'Bootcamp Start Date', 'Campus - Timezone', 'Created Date',\n",
       "       'Close Date', 'Stage', 'Discount Amount (converted)',\n",
       "       'Scholarship Amount (converted)', 'Amount (converted)',\n",
       "       'Net Amount With VAT (converted)', 'Drop', 'Drop Reason',\n",
       "       'how did you hear about us?', 'Person Account: Gender',\n",
       "       'Stage Duration', 'Paid Deposit', 'Scholarship', 'Discount',\n",
       "       'Time Conversion - days',\n",
       "       'Time between Created Date and Start Date - days', 'Discount(%)',\n",
       "       'Creater Month', 'Creater Quarter'],\n",
       "      dtype='object')"
      ]
     },
     "execution_count": 133,
     "metadata": {},
     "output_type": "execute_result"
    }
   ],
   "source": [
    "apps_clean.columns"
   ]
  },
  {
   "cell_type": "code",
   "execution_count": 134,
   "metadata": {},
   "outputs": [],
   "source": [
    "apps_clean.drop(columns=[\"Bootcamp Start Date\", \"Created Date\", \"Close Date\",\n",
    "                        \"Discount Amount (converted)\", \"Scholarship Amount (converted)\",\n",
    "                        \"Amount (converted)\", \"Net Amount With VAT (converted)\",\n",
    "                        \"Stage\"], inplace=True)"
   ]
  },
  {
   "cell_type": "code",
   "execution_count": 158,
   "metadata": {},
   "outputs": [
    {
     "data": {
      "text/plain": [
       "Index(['Bootcamp Course', 'Bootcamp Format', 'Bootcamp Year',\n",
       "       'Campus - Timezone', 'Drop', 'Drop Reason',\n",
       "       'how did you hear about us?', 'Person Account: Gender',\n",
       "       'Stage Duration', 'Paid Deposit', 'Scholarship', 'Discount',\n",
       "       'Time Conversion - days',\n",
       "       'Time between Created Date and Start Date - days', 'Discount(%)',\n",
       "       'Creater Month', 'Creater Quarter'],\n",
       "      dtype='object')"
      ]
     },
     "execution_count": 158,
     "metadata": {},
     "output_type": "execute_result"
    }
   ],
   "source": [
    "apps_clean.columns"
   ]
  },
  {
   "cell_type": "code",
   "execution_count": 161,
   "metadata": {},
   "outputs": [
    {
     "data": {
      "text/plain": [
       "(28723, 17)"
      ]
     },
     "execution_count": 161,
     "metadata": {},
     "output_type": "execute_result"
    }
   ],
   "source": [
    "apps_clean.shape"
   ]
  },
  {
   "cell_type": "markdown",
   "metadata": {},
   "source": [
    "## CleanCSV \n",
    "Save CSV ready to model"
   ]
  },
  {
   "cell_type": "code",
   "execution_count": 155,
   "metadata": {},
   "outputs": [],
   "source": [
    "apps_clean.to_csv(\"apps_allYears_clean_selCols_addCols.csv\", index=False)"
   ]
  },
  {
   "cell_type": "markdown",
   "metadata": {},
   "source": [
    "## Insights "
   ]
  },
  {
   "cell_type": "markdown",
   "metadata": {},
   "source": [
    "- We must start **unifying labels** from each column (example: Gender,How did you hear about us?,...\n",
    "- **Wrong years such 1970 & 1900** are shown (actually it was data from 2016) \n",
    "- We should **work with data from campus that finally didn't open** (such us Munich, Bogota and RMT-Chicago) and find out if they were redirected to any ther campus. If not, we should study how \"hot\" those application are.\n",
    "- We have **missing but also wrong dates** (close dates, close month and invoice dates) - not from any specific year, campus or bootcamps type. For example close dates are wrong as 20% of them are smaller then the created date plus 1% is missing.\n",
    "- **Running campaings without selected start data makes it complicated** to later analyse in detail. Plus, we've seen that most of them don't convert. It might make more sense to put is as \"ask for info\" and also include a form of what type of info we would like to have.\n",
    "- Person Account data such us Looking for a Job, Tech Background,Highest degree received,country, city should be well recollected during PIs. **Demographic data is the most missing data**.\n",
    "- Paid Deposit Status is not being linked to stage.\n",
    "\n",
    "- **We've been able to clean data from 12 columns out of 58 columns.\n",
    "- **We'll be working with 17 variables from now on incl those we added (not norml cols).**\n",
    "  Added columns: Paid Deposit(target), Time Conversion (days),Time between Created Date and Start Date (days), %Converstion rate, %Discount,Creater Month,Creater Quarter.\n",
    "\n",
    "“In God we trust, all others must bring data\" W. Edwards Deming"
   ]
  }
 ],
 "metadata": {
  "kernelspec": {
   "display_name": "Python 3",
   "language": "python",
   "name": "python3"
  },
  "language_info": {
   "codemirror_mode": {
    "name": "ipython",
    "version": 3
   },
   "file_extension": ".py",
   "mimetype": "text/x-python",
   "name": "python",
   "nbconvert_exporter": "python",
   "pygments_lexer": "ipython3",
   "version": "3.9.1"
  }
 },
 "nbformat": 4,
 "nbformat_minor": 4
}
