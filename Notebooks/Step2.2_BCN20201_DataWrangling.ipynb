{
 "cells": [
  {
   "cell_type": "markdown",
   "metadata": {},
   "source": [
    "# BCN 2020-2021 Data Wrangling\n",
    "\n",
    "Data Wrangling is the process of cleaning, structuring and enriching raw data into a desired format for better decision making in less time\n",
    "\n",
    "\n",
    "**Index**\n",
    "\n",
    "- [Environment](#Environment)\n",
    "\n",
    "\n",
    "- [Data Wrangling](#DataWrangling)\n",
    "    - [Explore Data](#ExploreData)\n",
    "    - [Clean Data](#CleanData)\n",
    "    - [Remove Useless Columns](#RemoveColumns)\n",
    "    - [Add New Columns](#AddColumns)\n",
    "\n",
    "\n",
    "- [Clean CSV](#CleanCSV)\n",
    "\n",
    "\n",
    "- [Insigths](#Insights)"
   ]
  },
  {
   "cell_type": "markdown",
   "metadata": {},
   "source": [
    "## Environment"
   ]
  },
  {
   "cell_type": "markdown",
   "metadata": {},
   "source": [
    "#### import libraries"
   ]
  },
  {
   "cell_type": "code",
   "execution_count": 1,
   "metadata": {},
   "outputs": [],
   "source": [
    "# Pandas and Numpy\n",
    "import pandas as pd\n",
    "import numpy as np\n",
    "\n",
    "#Time \n",
    "import time\n",
    "from datetime import datetime\n",
    "import datetime as dt\n",
    "\n",
    "# Maths\n",
    "import math\n",
    "from scipy import stats\n",
    "\n",
    "#Transform\n",
    "from sklearn import preprocessing\n",
    "from sklearn.preprocessing import OneHotEncoder\n",
    "\n",
    "\n",
    "# Visualization\n",
    "import seaborn as sns\n",
    "import matplotlib.pyplot as plt\n",
    "%matplotlib inline"
   ]
  },
  {
   "cell_type": "markdown",
   "metadata": {},
   "source": [
    "#### import data"
   ]
  },
  {
   "cell_type": "code",
   "execution_count": 2,
   "metadata": {},
   "outputs": [],
   "source": [
    "apps = pd.read_csv(\"apps_allYears_semiClean.csv\",parse_dates=[\"Bootcamp Start Date\",\"Created Date\",\"Close Date\"],low_memory=False) "
   ]
  },
  {
   "cell_type": "markdown",
   "metadata": {},
   "source": [
    "To go on we select only **Bootcamp Year=2020&2021** and **Campus - Timezone=BCN&2021**"
   ]
  },
  {
   "cell_type": "code",
   "execution_count": 3,
   "metadata": {},
   "outputs": [
    {
     "data": {
      "text/plain": [
       "2020    11060\n",
       "2019     7225\n",
       "2018     4607\n",
       "2021     2676\n",
       "2017     2147\n",
       "2016     1008\n",
       "Name: Bootcamp Year, dtype: int64"
      ]
     },
     "execution_count": 3,
     "metadata": {},
     "output_type": "execute_result"
    }
   ],
   "source": [
    "apps[\"Bootcamp Year\"].value_counts()"
   ]
  },
  {
   "cell_type": "code",
   "execution_count": 4,
   "metadata": {},
   "outputs": [
    {
     "data": {
      "text/plain": [
       "MAD            4632\n",
       "PAR            4343\n",
       "BCN            3876\n",
       "MIA            3483\n",
       "MEX            3044\n",
       "SAO            2606\n",
       "BER            2186\n",
       "RMT-Europe     1656\n",
       "AMS            1326\n",
       "LIS            1129\n",
       "RMT-America     442\n",
       "Name: Campus - Timezone, dtype: int64"
      ]
     },
     "execution_count": 4,
     "metadata": {},
     "output_type": "execute_result"
    }
   ],
   "source": [
    "apps[\"Campus - Timezone\"].value_counts()"
   ]
  },
  {
   "cell_type": "code",
   "execution_count": 5,
   "metadata": {},
   "outputs": [],
   "source": [
    "apps_BCN2020=apps[(apps[\"Campus - Timezone\"]==\"BCN\") & (apps[\"Bootcamp Year\"]==2020)]"
   ]
  },
  {
   "cell_type": "code",
   "execution_count": 6,
   "metadata": {},
   "outputs": [
    {
     "data": {
      "text/plain": [
       "(904, 58)"
      ]
     },
     "execution_count": 6,
     "metadata": {},
     "output_type": "execute_result"
    }
   ],
   "source": [
    "apps_BCN2020.shape"
   ]
  },
  {
   "cell_type": "code",
   "execution_count": 7,
   "metadata": {},
   "outputs": [],
   "source": [
    "apps_BCN20201=apps[((apps[\"Campus - Timezone\"]==\"BCN\") & (apps[\"Bootcamp Year\"]==2020)) | ((apps[\"Campus - Timezone\"]==\"BCN\")& (apps[\"Bootcamp Year\"]==2021))]\n"
   ]
  },
  {
   "cell_type": "code",
   "execution_count": 8,
   "metadata": {},
   "outputs": [
    {
     "data": {
      "text/plain": [
       "(1118, 58)"
      ]
     },
     "execution_count": 8,
     "metadata": {},
     "output_type": "execute_result"
    }
   ],
   "source": [
    "apps_BCN20201.shape"
   ]
  },
  {
   "cell_type": "markdown",
   "metadata": {},
   "source": [
    "### Explore data BCN20201 "
   ]
  },
  {
   "cell_type": "code",
   "execution_count": 9,
   "metadata": {
    "scrolled": true
   },
   "outputs": [
    {
     "data": {
      "text/plain": [
       "Opportunity ID                                 0\n",
       "Opportunity Name                               0\n",
       "Has Courses                                    0\n",
       "Bootcamp Course                                0\n",
       "Bootcamp Format                                0\n",
       "Bootcamp Year                                  0\n",
       "Bootcamp Start Date                            0\n",
       "Campus                                         0\n",
       "Campus - Timezone                              0\n",
       "Created Date                                   0\n",
       "Close Date                                     0\n",
       "Invoice Date                                 906\n",
       "Stage                                          0\n",
       "Discount Amount (converted) Currency         856\n",
       "Discount Amount (converted)                    0\n",
       "Scholarship Amount (converted) Currency     1109\n",
       "Scholarship Amount (converted)                 0\n",
       "Amount (converted) Currency                    0\n",
       "Amount (converted)                             0\n",
       "Net Amount With VAT (converted) Currency       0\n",
       "Net Amount With VAT (converted)                0\n",
       "Drop                                           0\n",
       "Drop Reason                                    0\n",
       "Lost Deal Reason                               0\n",
       "Stage Before Lost                              0\n",
       "how did you hear about us?                     0\n",
       "Person Account: Tech Background              619\n",
       "Person Account: Gender                         0\n",
       "Person Account: Highest degree received      655\n",
       "Person Account: Type of Position             715\n",
       "Person Account: Looking for a Job            636\n",
       "Person Account: Nationality                  612\n",
       "Last Modified Date                             0\n",
       "All Traffic Sources                          522\n",
       "First Click Medium                           425\n",
       "First Click Source                           425\n",
       "Last Click Medium                            423\n",
       "Last Click Source                            425\n",
       "Stage Duration                                 0\n",
       "Inactive Days                                687\n",
       "Last Activity Date                           687\n",
       "Last Call Date                               936\n",
       "Last Event Date                              890\n",
       "Last Task Date                               701\n",
       "Last Email Date                             1118\n",
       "Account: Created Date                          0\n",
       "Account: Last Activity                        54\n",
       "Account: Last Modified Date                    0\n",
       "Age                                         1101\n",
       "First touchpoint Date                        589\n",
       "First Touchpoint type                        589\n",
       "Hours Before First Touchpoint                589\n",
       "Needs Financing                             1104\n",
       "Person Account: City Before Course           659\n",
       "Person Account: Company Located in          1118\n",
       "Person Account: Eligible to Work In          645\n",
       "Person Account: Linkedin URL                1118\n",
       "Programming languages                       1118\n",
       "dtype: int64"
      ]
     },
     "execution_count": 9,
     "metadata": {},
     "output_type": "execute_result"
    }
   ],
   "source": [
    "apps_BCN20201.isnull().sum()"
   ]
  },
  {
   "cell_type": "code",
   "execution_count": 10,
   "metadata": {},
   "outputs": [],
   "source": [
    "total_values_xCol= apps_BCN20201.count()+apps_BCN20201.isnull().sum()"
   ]
  },
  {
   "cell_type": "code",
   "execution_count": 11,
   "metadata": {},
   "outputs": [],
   "source": [
    "total_values= total_values_xCol.sum()"
   ]
  },
  {
   "cell_type": "code",
   "execution_count": 12,
   "metadata": {},
   "outputs": [],
   "source": [
    "total_ExValues=apps_BCN20201.count().sum()"
   ]
  },
  {
   "cell_type": "code",
   "execution_count": 13,
   "metadata": {},
   "outputs": [],
   "source": [
    "total_NanValues=apps_BCN20201.isnull().sum().sum()"
   ]
  },
  {
   "cell_type": "code",
   "execution_count": 14,
   "metadata": {
    "scrolled": true
   },
   "outputs": [
    {
     "name": "stdout",
     "output_type": "stream",
     "text": [
      "33.98 % of our data is null\n",
      "*Taking into account all IH organic apps (40228) and the 58 columns from IH that refers to the user and its moves during the Admissions Process\n"
     ]
    }
   ],
   "source": [
    "print(round(total_NanValues/total_values*100,2),\"% of our data is null\")\n",
    "print(\"*Taking into account all IH organic apps (40228) and the 58 columns from IH that refers to the user and its moves during the Admissions Process\")\n"
   ]
  },
  {
   "cell_type": "code",
   "execution_count": 15,
   "metadata": {},
   "outputs": [],
   "source": [
    "# check nuls"
   ]
  },
  {
   "cell_type": "code",
   "execution_count": 16,
   "metadata": {},
   "outputs": [
    {
     "data": {
      "text/plain": [
       "Last Email Date                            1118\n",
       "Person Account: Company Located in         1118\n",
       "Person Account: Linkedin URL               1118\n",
       "Programming languages                      1118\n",
       "Scholarship Amount (converted) Currency    1109\n",
       "Needs Financing                            1104\n",
       "Age                                        1101\n",
       "Last Call Date                              936\n",
       "Invoice Date                                906\n",
       "Last Event Date                             890\n",
       "Discount Amount (converted) Currency        856\n",
       "Person Account: Type of Position            715\n",
       "Last Task Date                              701\n",
       "Inactive Days                               687\n",
       "dtype: int64"
      ]
     },
     "execution_count": 16,
     "metadata": {},
     "output_type": "execute_result"
    }
   ],
   "source": [
    "apps_BCN20201.isnull().sum().nlargest(14)"
   ]
  },
  {
   "cell_type": "code",
   "execution_count": 17,
   "metadata": {},
   "outputs": [],
   "source": [
    "column_with_nan = apps_BCN20201.columns[apps_BCN20201.isnull().any()]"
   ]
  },
  {
   "cell_type": "code",
   "execution_count": 18,
   "metadata": {},
   "outputs": [],
   "source": [
    "df_shape=apps_BCN20201.shape"
   ]
  },
  {
   "cell_type": "code",
   "execution_count": 19,
   "metadata": {},
   "outputs": [
    {
     "name": "stderr",
     "output_type": "stream",
     "text": [
      "/usr/local/lib/python3.9/site-packages/pandas/core/frame.py:4167: SettingWithCopyWarning: \n",
      "A value is trying to be set on a copy of a slice from a DataFrame\n",
      "\n",
      "See the caveats in the documentation: https://pandas.pydata.org/pandas-docs/stable/user_guide/indexing.html#returning-a-view-versus-a-copy\n",
      "  return super().drop(\n"
     ]
    }
   ],
   "source": [
    "for column in column_with_nan:\n",
    "    if apps_BCN20201[column].isnull().sum()*100.0/df_shape[0] > 60:\n",
    "        apps_BCN20201.drop(column,1, inplace=True)"
   ]
  },
  {
   "cell_type": "code",
   "execution_count": 20,
   "metadata": {
    "scrolled": true
   },
   "outputs": [
    {
     "data": {
      "text/plain": [
       "Opportunity ID                                0\n",
       "Opportunity Name                              0\n",
       "Has Courses                                   0\n",
       "Bootcamp Course                               0\n",
       "Bootcamp Format                               0\n",
       "Bootcamp Year                                 0\n",
       "Bootcamp Start Date                           0\n",
       "Campus                                        0\n",
       "Campus - Timezone                             0\n",
       "Created Date                                  0\n",
       "Close Date                                    0\n",
       "Stage                                         0\n",
       "Discount Amount (converted)                   0\n",
       "Scholarship Amount (converted)                0\n",
       "Amount (converted) Currency                   0\n",
       "Amount (converted)                            0\n",
       "Net Amount With VAT (converted) Currency      0\n",
       "Net Amount With VAT (converted)               0\n",
       "Drop                                          0\n",
       "Drop Reason                                   0\n",
       "Lost Deal Reason                              0\n",
       "Stage Before Lost                             0\n",
       "how did you hear about us?                    0\n",
       "Person Account: Tech Background             619\n",
       "Person Account: Gender                        0\n",
       "Person Account: Highest degree received     655\n",
       "Person Account: Looking for a Job           636\n",
       "Person Account: Nationality                 612\n",
       "Last Modified Date                            0\n",
       "All Traffic Sources                         522\n",
       "First Click Medium                          425\n",
       "First Click Source                          425\n",
       "Last Click Medium                           423\n",
       "Last Click Source                           425\n",
       "Stage Duration                                0\n",
       "Account: Created Date                         0\n",
       "Account: Last Activity                       54\n",
       "Account: Last Modified Date                   0\n",
       "First touchpoint Date                       589\n",
       "First Touchpoint type                       589\n",
       "Hours Before First Touchpoint               589\n",
       "Person Account: City Before Course          659\n",
       "Person Account: Eligible to Work In         645\n",
       "dtype: int64"
      ]
     },
     "execution_count": 20,
     "metadata": {},
     "output_type": "execute_result"
    }
   ],
   "source": [
    "apps_BCN20201.isnull().sum()"
   ]
  },
  {
   "cell_type": "code",
   "execution_count": 21,
   "metadata": {},
   "outputs": [
    {
     "data": {
      "text/plain": [
       "(971,)"
      ]
     },
     "execution_count": 21,
     "metadata": {},
     "output_type": "execute_result"
    }
   ],
   "source": [
    "index_with_nan = apps_BCN20201.index[apps_BCN20201.isnull().any(axis=1)]\n",
    "index_with_nan.shape"
   ]
  },
  {
   "cell_type": "code",
   "execution_count": 22,
   "metadata": {},
   "outputs": [],
   "source": [
    "apps_BCN20201.drop(index_with_nan,0, inplace=True)"
   ]
  },
  {
   "cell_type": "code",
   "execution_count": 23,
   "metadata": {},
   "outputs": [
    {
     "data": {
      "text/plain": [
       "(147, 43)"
      ]
     },
     "execution_count": 23,
     "metadata": {},
     "output_type": "execute_result"
    }
   ],
   "source": [
    "apps_BCN20201.shape"
   ]
  },
  {
   "cell_type": "markdown",
   "metadata": {},
   "source": [
    "# CleanData 20201"
   ]
  },
  {
   "cell_type": "markdown",
   "metadata": {},
   "source": [
    "Now will continue to clean the columns we'll use."
   ]
  },
  {
   "cell_type": "markdown",
   "metadata": {},
   "source": [
    "**Column: Account: Last Activity**"
   ]
  },
  {
   "cell_type": "code",
   "execution_count": 24,
   "metadata": {},
   "outputs": [
    {
     "data": {
      "text/plain": [
       "107      22/09/2020\n",
       "257       8/09/2020\n",
       "272      11/08/2020\n",
       "682      15/10/2020\n",
       "966      31/08/2020\n",
       "            ...    \n",
       "28300    19/11/2020\n",
       "28386     6/08/2020\n",
       "28389     4/06/2020\n",
       "28551    10/08/2020\n",
       "28683    27/07/2020\n",
       "Name: Account: Last Activity, Length: 147, dtype: object"
      ]
     },
     "execution_count": 24,
     "metadata": {},
     "output_type": "execute_result"
    }
   ],
   "source": [
    "apps_BCN20201['Account: Last Activity']"
   ]
  },
  {
   "cell_type": "code",
   "execution_count": 25,
   "metadata": {},
   "outputs": [
    {
     "name": "stderr",
     "output_type": "stream",
     "text": [
      "<ipython-input-25-b113029573c4>:1: SettingWithCopyWarning: \n",
      "A value is trying to be set on a copy of a slice from a DataFrame.\n",
      "Try using .loc[row_indexer,col_indexer] = value instead\n",
      "\n",
      "See the caveats in the documentation: https://pandas.pydata.org/pandas-docs/stable/user_guide/indexing.html#returning-a-view-versus-a-copy\n",
      "  apps_BCN20201[\"Account: Last Activity\"]= pd.to_datetime(apps[\"Account: Last Activity\"])\n"
     ]
    }
   ],
   "source": [
    "apps_BCN20201[\"Account: Last Activity\"]= pd.to_datetime(apps[\"Account: Last Activity\"])"
   ]
  },
  {
   "cell_type": "markdown",
   "metadata": {},
   "source": [
    "**Column: First touchpoint Date**"
   ]
  },
  {
   "cell_type": "code",
   "execution_count": 26,
   "metadata": {},
   "outputs": [
    {
     "data": {
      "text/plain": [
       "107      27/08/2020 15:14\n",
       "257      26/03/2020 15:42\n",
       "272      23/07/2020 14:42\n",
       "682      27/03/2020 13:44\n",
       "966      29/06/2020 13:04\n",
       "               ...       \n",
       "28300     5/06/2020 11:44\n",
       "28386     3/06/2020 18:43\n",
       "28389     3/06/2020 18:39\n",
       "28551    27/07/2020 18:09\n",
       "28683    27/07/2020 12:41\n",
       "Name: First touchpoint Date, Length: 147, dtype: object"
      ]
     },
     "execution_count": 26,
     "metadata": {},
     "output_type": "execute_result"
    }
   ],
   "source": [
    "apps_BCN20201['First touchpoint Date']"
   ]
  },
  {
   "cell_type": "code",
   "execution_count": 27,
   "metadata": {},
   "outputs": [
    {
     "name": "stderr",
     "output_type": "stream",
     "text": [
      "<ipython-input-27-00c68c246c3a>:1: SettingWithCopyWarning: \n",
      "A value is trying to be set on a copy of a slice from a DataFrame.\n",
      "Try using .loc[row_indexer,col_indexer] = value instead\n",
      "\n",
      "See the caveats in the documentation: https://pandas.pydata.org/pandas-docs/stable/user_guide/indexing.html#returning-a-view-versus-a-copy\n",
      "  apps_BCN20201['First touchpoint Date']=apps_BCN20201['First touchpoint Date'].apply(lambda x: x[:10])\n"
     ]
    }
   ],
   "source": [
    "apps_BCN20201['First touchpoint Date']=apps_BCN20201['First touchpoint Date'].apply(lambda x: x[:10])"
   ]
  },
  {
   "cell_type": "code",
   "execution_count": 28,
   "metadata": {},
   "outputs": [
    {
     "name": "stderr",
     "output_type": "stream",
     "text": [
      "<ipython-input-28-4f67e09ca177>:1: SettingWithCopyWarning: \n",
      "A value is trying to be set on a copy of a slice from a DataFrame.\n",
      "Try using .loc[row_indexer,col_indexer] = value instead\n",
      "\n",
      "See the caveats in the documentation: https://pandas.pydata.org/pandas-docs/stable/user_guide/indexing.html#returning-a-view-versus-a-copy\n",
      "  apps_BCN20201['First touchpoint Date']= pd.to_datetime(apps_BCN20201['First touchpoint Date'])\n"
     ]
    }
   ],
   "source": [
    "apps_BCN20201['First touchpoint Date']= pd.to_datetime(apps_BCN20201['First touchpoint Date'])"
   ]
  },
  {
   "cell_type": "markdown",
   "metadata": {},
   "source": [
    "**Column: First Touchpoint type**"
   ]
  },
  {
   "cell_type": "code",
   "execution_count": 29,
   "metadata": {
    "scrolled": true
   },
   "outputs": [
    {
     "data": {
      "text/plain": [
       "Call    147\n",
       "Name: First Touchpoint type, dtype: int64"
      ]
     },
     "execution_count": 29,
     "metadata": {},
     "output_type": "execute_result"
    }
   ],
   "source": [
    "apps_BCN20201['First Touchpoint type'].value_counts()"
   ]
  },
  {
   "cell_type": "markdown",
   "metadata": {},
   "source": [
    "We'll later remove this columns as it only have a unique value"
   ]
  },
  {
   "cell_type": "markdown",
   "metadata": {},
   "source": [
    "**Column: Hours Before First Touchpoint**"
   ]
  },
  {
   "cell_type": "code",
   "execution_count": 30,
   "metadata": {},
   "outputs": [
    {
     "data": {
      "text/plain": [
       "107      1010,94\n",
       "257      1275,60\n",
       "272       149,47\n",
       "682         1,69\n",
       "966        88,11\n",
       "          ...   \n",
       "28300      15,09\n",
       "28386       0,87\n",
       "28389       2,05\n",
       "28551     308,76\n",
       "28683     161,91\n",
       "Name: Hours Before First Touchpoint, Length: 147, dtype: object"
      ]
     },
     "execution_count": 30,
     "metadata": {},
     "output_type": "execute_result"
    }
   ],
   "source": [
    "apps_BCN20201['Hours Before First Touchpoint']"
   ]
  },
  {
   "cell_type": "code",
   "execution_count": 31,
   "metadata": {},
   "outputs": [
    {
     "name": "stderr",
     "output_type": "stream",
     "text": [
      "<ipython-input-31-5344d6d95dcc>:1: SettingWithCopyWarning: \n",
      "A value is trying to be set on a copy of a slice from a DataFrame.\n",
      "Try using .loc[row_indexer,col_indexer] = value instead\n",
      "\n",
      "See the caveats in the documentation: https://pandas.pydata.org/pandas-docs/stable/user_guide/indexing.html#returning-a-view-versus-a-copy\n",
      "  apps_BCN20201['Hours Before First Touchpoint'] = apps_BCN20201['Hours Before First Touchpoint'].str.replace(\",\",\".\")\n"
     ]
    }
   ],
   "source": [
    "apps_BCN20201['Hours Before First Touchpoint'] = apps_BCN20201['Hours Before First Touchpoint'].str.replace(\",\",\".\")"
   ]
  },
  {
   "cell_type": "code",
   "execution_count": 32,
   "metadata": {},
   "outputs": [
    {
     "name": "stderr",
     "output_type": "stream",
     "text": [
      "<ipython-input-32-1c94fede6871>:1: SettingWithCopyWarning: \n",
      "A value is trying to be set on a copy of a slice from a DataFrame.\n",
      "Try using .loc[row_indexer,col_indexer] = value instead\n",
      "\n",
      "See the caveats in the documentation: https://pandas.pydata.org/pandas-docs/stable/user_guide/indexing.html#returning-a-view-versus-a-copy\n",
      "  apps_BCN20201['Hours Before First Touchpoint'] = apps_BCN20201['Hours Before First Touchpoint'].apply(pd.to_numeric, errors='coerce')\n"
     ]
    }
   ],
   "source": [
    "apps_BCN20201['Hours Before First Touchpoint'] = apps_BCN20201['Hours Before First Touchpoint'].apply(pd.to_numeric, errors='coerce')"
   ]
  },
  {
   "cell_type": "markdown",
   "metadata": {},
   "source": [
    "**Stage Duration**"
   ]
  },
  {
   "cell_type": "code",
   "execution_count": 33,
   "metadata": {},
   "outputs": [
    {
     "data": {
      "text/plain": [
       "107       77.0\n",
       "257      229.0\n",
       "272      102.0\n",
       "682      218.0\n",
       "966       99.0\n",
       "         ...  \n",
       "28300     47.0\n",
       "28386    179.0\n",
       "28389    187.0\n",
       "28551     92.0\n",
       "28683     62.0\n",
       "Name: Stage Duration, Length: 147, dtype: float64"
      ]
     },
     "execution_count": 33,
     "metadata": {},
     "output_type": "execute_result"
    }
   ],
   "source": [
    "apps_BCN20201['Stage Duration']"
   ]
  },
  {
   "cell_type": "markdown",
   "metadata": {},
   "source": [
    "**Account: Last Modified Date**"
   ]
  },
  {
   "cell_type": "code",
   "execution_count": 34,
   "metadata": {},
   "outputs": [
    {
     "data": {
      "text/plain": [
       "107       4/12/2020\n",
       "257      26/11/2020\n",
       "272       4/12/2020\n",
       "682       9/10/2020\n",
       "966       8/10/2020\n",
       "            ...    \n",
       "28300    26/11/2020\n",
       "28386     2/11/2020\n",
       "28389     7/12/2020\n",
       "28551     8/10/2020\n",
       "28683     8/10/2020\n",
       "Name: Account: Last Modified Date, Length: 147, dtype: object"
      ]
     },
     "execution_count": 34,
     "metadata": {},
     "output_type": "execute_result"
    }
   ],
   "source": [
    "apps_BCN20201['Account: Last Modified Date']"
   ]
  },
  {
   "cell_type": "code",
   "execution_count": 35,
   "metadata": {},
   "outputs": [
    {
     "name": "stderr",
     "output_type": "stream",
     "text": [
      "<ipython-input-35-efa61643b4fe>:1: SettingWithCopyWarning: \n",
      "A value is trying to be set on a copy of a slice from a DataFrame.\n",
      "Try using .loc[row_indexer,col_indexer] = value instead\n",
      "\n",
      "See the caveats in the documentation: https://pandas.pydata.org/pandas-docs/stable/user_guide/indexing.html#returning-a-view-versus-a-copy\n",
      "  apps_BCN20201['Account: Last Modified Date']= pd.to_datetime(apps_BCN20201['Account: Last Modified Date'])\n"
     ]
    }
   ],
   "source": [
    "apps_BCN20201['Account: Last Modified Date']= pd.to_datetime(apps_BCN20201['Account: Last Modified Date'])"
   ]
  },
  {
   "cell_type": "markdown",
   "metadata": {},
   "source": [
    "**Person Account: Nationality**"
   ]
  },
  {
   "cell_type": "code",
   "execution_count": 36,
   "metadata": {
    "scrolled": true
   },
   "outputs": [
    {
     "data": {
      "text/plain": [
       "Spain             79\n",
       "Spanish           16\n",
       "Argentina         10\n",
       "Venezuela          5\n",
       "Brazil             5\n",
       "Poland             3\n",
       "Italian            3\n",
       "Mexico             2\n",
       "Romania            2\n",
       "United States      2\n",
       "United Kingdom     2\n",
       "Panama             1\n",
       "Germany            1\n",
       "Italy              1\n",
       "Bulgaria           1\n",
       "Colombia           1\n",
       "Croatia            1\n",
       "Bolivia            1\n",
       "India              1\n",
       "Puerto Rico        1\n",
       "Ecuador            1\n",
       "Djibouti           1\n",
       "French             1\n",
       "Ireland            1\n",
       "Ghana              1\n",
       "Cuba               1\n",
       "Costa Rica         1\n",
       "German             1\n",
       "Russia             1\n",
       "Name: Person Account: Nationality, dtype: int64"
      ]
     },
     "execution_count": 36,
     "metadata": {},
     "output_type": "execute_result"
    }
   ],
   "source": [
    "apps_BCN20201[\"Person Account: Nationality\"].value_counts()"
   ]
  },
  {
   "cell_type": "code",
   "execution_count": 37,
   "metadata": {},
   "outputs": [
    {
     "name": "stderr",
     "output_type": "stream",
     "text": [
      "<ipython-input-37-522ce9349e99>:1: SettingWithCopyWarning: \n",
      "A value is trying to be set on a copy of a slice from a DataFrame\n",
      "\n",
      "See the caveats in the documentation: https://pandas.pydata.org/pandas-docs/stable/user_guide/indexing.html#returning-a-view-versus-a-copy\n",
      "  apps_BCN20201[\"Person Account: Nationality\"][(apps_BCN20201[\"Person Account: Nationality\"]==\"Spanish\"\n",
      "/usr/local/lib/python3.9/site-packages/pandas/core/series.py:1021: SettingWithCopyWarning: \n",
      "A value is trying to be set on a copy of a slice from a DataFrame\n",
      "\n",
      "See the caveats in the documentation: https://pandas.pydata.org/pandas-docs/stable/user_guide/indexing.html#returning-a-view-versus-a-copy\n",
      "  self._where(~key, value, inplace=True)\n"
     ]
    }
   ],
   "source": [
    "apps_BCN20201[\"Person Account: Nationality\"][(apps_BCN20201[\"Person Account: Nationality\"]==\"Spanish\"\n",
    "                                    )]=\"Spain\" "
   ]
  },
  {
   "cell_type": "code",
   "execution_count": 38,
   "metadata": {},
   "outputs": [
    {
     "name": "stderr",
     "output_type": "stream",
     "text": [
      "<ipython-input-38-e531b3e4dfd5>:1: SettingWithCopyWarning: \n",
      "A value is trying to be set on a copy of a slice from a DataFrame\n",
      "\n",
      "See the caveats in the documentation: https://pandas.pydata.org/pandas-docs/stable/user_guide/indexing.html#returning-a-view-versus-a-copy\n",
      "  apps_BCN20201[\"Person Account: Nationality\"][(apps_BCN20201[\"Person Account: Nationality\"]==\"Argentina\")|\n"
     ]
    }
   ],
   "source": [
    "apps_BCN20201[\"Person Account: Nationality\"][(apps_BCN20201[\"Person Account: Nationality\"]==\"Argentina\")|\n",
    "                                             (apps_BCN20201[\"Person Account: Nationality\"]==\"Brazil\")|\n",
    "                                             (apps_BCN20201[\"Person Account: Nationality\"]==\"Venezuela\")|\n",
    "                                             (apps_BCN20201[\"Person Account: Nationality\"]==\"United States\")|\n",
    "                                             (apps_BCN20201[\"Person Account: Nationality\"]==\"Bolivia\")|\n",
    "                                             (apps_BCN20201[\"Person Account: Nationality\"]==\"Cuba\")|\n",
    "                                             (apps_BCN20201[\"Person Account: Nationality\"]==\"Ecuador\")|\n",
    "                                             (apps_BCN20201[\"Person Account: Nationality\"]==\"Panama\")|\n",
    "                                             (apps_BCN20201[\"Person Account: Nationality\"]==\"Costa Rica\")|\n",
    "                                             (apps_BCN20201[\"Person Account: Nationality\"]==\"Puerto Rica\")|\n",
    "                                             (apps_BCN20201[\"Person Account: Nationality\"]==\"Puerto Rica\")\n",
    "                                            ]=\"Americas\" "
   ]
  },
  {
   "cell_type": "code",
   "execution_count": 39,
   "metadata": {},
   "outputs": [
    {
     "name": "stderr",
     "output_type": "stream",
     "text": [
      "<ipython-input-39-aaea839d83f9>:1: SettingWithCopyWarning: \n",
      "A value is trying to be set on a copy of a slice from a DataFrame\n",
      "\n",
      "See the caveats in the documentation: https://pandas.pydata.org/pandas-docs/stable/user_guide/indexing.html#returning-a-view-versus-a-copy\n",
      "  apps_BCN20201[\"Person Account: Nationality\"][(apps_BCN20201[\"Person Account: Nationality\"]!=\"Spain\")&\n"
     ]
    }
   ],
   "source": [
    "apps_BCN20201[\"Person Account: Nationality\"][(apps_BCN20201[\"Person Account: Nationality\"]!=\"Spain\")&\n",
    "                                            (apps_BCN20201[\"Person Account: Nationality\"]!=\"Americas\")\n",
    "                                            ]=\"Europa-Asia\" "
   ]
  },
  {
   "cell_type": "markdown",
   "metadata": {},
   "source": [
    "#### Person Account: First & Last Click Medium"
   ]
  },
  {
   "cell_type": "code",
   "execution_count": 40,
   "metadata": {},
   "outputs": [
    {
     "data": {
      "text/plain": [
       "cpc          73\n",
       "organic      40\n",
       "(none)       25\n",
       "socialads     4\n",
       "referral      3\n",
       "social        2\n",
       "Name: First Click Medium, dtype: int64"
      ]
     },
     "execution_count": 40,
     "metadata": {},
     "output_type": "execute_result"
    }
   ],
   "source": [
    "apps_BCN20201[\"First Click Medium\"].value_counts()"
   ]
  },
  {
   "cell_type": "code",
   "execution_count": 41,
   "metadata": {},
   "outputs": [
    {
     "data": {
      "text/plain": [
       "cpc          67\n",
       "organic      47\n",
       "(none)       18\n",
       "referral      8\n",
       "socialads     4\n",
       "social        3\n",
       "Name: Last Click Medium, dtype: int64"
      ]
     },
     "execution_count": 41,
     "metadata": {},
     "output_type": "execute_result"
    }
   ],
   "source": [
    "apps_BCN20201[\"Last Click Medium\"].value_counts()"
   ]
  },
  {
   "cell_type": "code",
   "execution_count": 42,
   "metadata": {
    "scrolled": true
   },
   "outputs": [
    {
     "data": {
      "text/plain": [
       "Opportunity ID                              0\n",
       "Opportunity Name                            0\n",
       "Has Courses                                 0\n",
       "Bootcamp Course                             0\n",
       "Bootcamp Format                             0\n",
       "Bootcamp Year                               0\n",
       "Bootcamp Start Date                         0\n",
       "Campus                                      0\n",
       "Campus - Timezone                           0\n",
       "Created Date                                0\n",
       "Close Date                                  0\n",
       "Stage                                       0\n",
       "Discount Amount (converted)                 0\n",
       "Scholarship Amount (converted)              0\n",
       "Amount (converted) Currency                 0\n",
       "Amount (converted)                          0\n",
       "Net Amount With VAT (converted) Currency    0\n",
       "Net Amount With VAT (converted)             0\n",
       "Drop                                        0\n",
       "Drop Reason                                 0\n",
       "Lost Deal Reason                            0\n",
       "Stage Before Lost                           0\n",
       "how did you hear about us?                  0\n",
       "Person Account: Tech Background             0\n",
       "Person Account: Gender                      0\n",
       "Person Account: Highest degree received     0\n",
       "Person Account: Looking for a Job           0\n",
       "Person Account: Nationality                 0\n",
       "Last Modified Date                          0\n",
       "All Traffic Sources                         0\n",
       "First Click Medium                          0\n",
       "First Click Source                          0\n",
       "Last Click Medium                           0\n",
       "Last Click Source                           0\n",
       "Stage Duration                              0\n",
       "Account: Created Date                       0\n",
       "Account: Last Activity                      0\n",
       "Account: Last Modified Date                 0\n",
       "First touchpoint Date                       0\n",
       "First Touchpoint type                       0\n",
       "Hours Before First Touchpoint               0\n",
       "Person Account: City Before Course          0\n",
       "Person Account: Eligible to Work In         0\n",
       "dtype: int64"
      ]
     },
     "execution_count": 42,
     "metadata": {},
     "output_type": "execute_result"
    }
   ],
   "source": [
    "apps_BCN20201.isnull().sum()"
   ]
  },
  {
   "cell_type": "markdown",
   "metadata": {},
   "source": [
    "## RemoveColumns \n",
    "To continue, we remove not usefull columns or those than bring colliniarity (such as Lost lead reasons), to have a 100% clean df to transform and add new columns"
   ]
  },
  {
   "cell_type": "code",
   "execution_count": 43,
   "metadata": {},
   "outputs": [],
   "source": [
    "apps_BCN20201.drop(columns=[\"Opportunity ID\", \"Opportunity Name\", \"Has Courses\",\n",
    "                           \"Campus\",\"All Traffic Sources\",\"First Click Medium\",\"First Click Source\",\n",
    "                           \"Last Click Medium\", \"Last Click Source\",\"Last Modified Date\", \n",
    "                           \"Account: Created Date\", \"Account: Last Activity\",\"First Touchpoint type\",\n",
    "                           \"Lost Deal Reason\",\"Stage Before Lost\",\"Amount (converted) Currency\",\n",
    "                           \"Net Amount With VAT (converted) Currency\"\n",
    "                  ], inplace=True)"
   ]
  },
  {
   "cell_type": "code",
   "execution_count": 44,
   "metadata": {},
   "outputs": [
    {
     "data": {
      "text/html": [
       "<div>\n",
       "<style scoped>\n",
       "    .dataframe tbody tr th:only-of-type {\n",
       "        vertical-align: middle;\n",
       "    }\n",
       "\n",
       "    .dataframe tbody tr th {\n",
       "        vertical-align: top;\n",
       "    }\n",
       "\n",
       "    .dataframe thead th {\n",
       "        text-align: right;\n",
       "    }\n",
       "</style>\n",
       "<table border=\"1\" class=\"dataframe\">\n",
       "  <thead>\n",
       "    <tr style=\"text-align: right;\">\n",
       "      <th></th>\n",
       "      <th>Bootcamp Course</th>\n",
       "      <th>Bootcamp Format</th>\n",
       "      <th>Bootcamp Year</th>\n",
       "      <th>Bootcamp Start Date</th>\n",
       "      <th>Campus - Timezone</th>\n",
       "      <th>Created Date</th>\n",
       "      <th>Close Date</th>\n",
       "      <th>Stage</th>\n",
       "      <th>Discount Amount (converted)</th>\n",
       "      <th>Scholarship Amount (converted)</th>\n",
       "      <th>...</th>\n",
       "      <th>Person Account: Gender</th>\n",
       "      <th>Person Account: Highest degree received</th>\n",
       "      <th>Person Account: Looking for a Job</th>\n",
       "      <th>Person Account: Nationality</th>\n",
       "      <th>Stage Duration</th>\n",
       "      <th>Account: Last Modified Date</th>\n",
       "      <th>First touchpoint Date</th>\n",
       "      <th>Hours Before First Touchpoint</th>\n",
       "      <th>Person Account: City Before Course</th>\n",
       "      <th>Person Account: Eligible to Work In</th>\n",
       "    </tr>\n",
       "  </thead>\n",
       "  <tbody>\n",
       "    <tr>\n",
       "      <th>107</th>\n",
       "      <td>WD</td>\n",
       "      <td>FT</td>\n",
       "      <td>2020</td>\n",
       "      <td>2020-09-28</td>\n",
       "      <td>BCN</td>\n",
       "      <td>2020-07-16</td>\n",
       "      <td>2020-09-30</td>\n",
       "      <td>Closed lost</td>\n",
       "      <td>700.0</td>\n",
       "      <td>0.0</td>\n",
       "      <td>...</td>\n",
       "      <td>Female</td>\n",
       "      <td>Bachelor Degree</td>\n",
       "      <td>Yes</td>\n",
       "      <td>Americas</td>\n",
       "      <td>77.0</td>\n",
       "      <td>2020-04-12</td>\n",
       "      <td>2020-08-27</td>\n",
       "      <td>1010.94</td>\n",
       "      <td>Barcelona</td>\n",
       "      <td>Yes</td>\n",
       "    </tr>\n",
       "    <tr>\n",
       "      <th>257</th>\n",
       "      <td>WD</td>\n",
       "      <td>FT</td>\n",
       "      <td>2020</td>\n",
       "      <td>2020-06-29</td>\n",
       "      <td>BCN</td>\n",
       "      <td>2020-02-02</td>\n",
       "      <td>2020-03-31</td>\n",
       "      <td>Closed lost</td>\n",
       "      <td>0.0</td>\n",
       "      <td>0.0</td>\n",
       "      <td>...</td>\n",
       "      <td>Male</td>\n",
       "      <td>No Formal Schooling</td>\n",
       "      <td>Yes</td>\n",
       "      <td>Spain</td>\n",
       "      <td>229.0</td>\n",
       "      <td>2020-11-26</td>\n",
       "      <td>2020-03-26</td>\n",
       "      <td>1275.60</td>\n",
       "      <td>Barcelona</td>\n",
       "      <td>Yes</td>\n",
       "    </tr>\n",
       "    <tr>\n",
       "      <th>272</th>\n",
       "      <td>UX</td>\n",
       "      <td>PT</td>\n",
       "      <td>2020</td>\n",
       "      <td>2020-09-29</td>\n",
       "      <td>BCN</td>\n",
       "      <td>2020-07-17</td>\n",
       "      <td>2020-08-28</td>\n",
       "      <td>Paid Deposit</td>\n",
       "      <td>500.0</td>\n",
       "      <td>0.0</td>\n",
       "      <td>...</td>\n",
       "      <td>Male</td>\n",
       "      <td>Bachelor Degree</td>\n",
       "      <td>Yes</td>\n",
       "      <td>Spain</td>\n",
       "      <td>102.0</td>\n",
       "      <td>2020-04-12</td>\n",
       "      <td>2020-07-23</td>\n",
       "      <td>149.47</td>\n",
       "      <td>Barcelona</td>\n",
       "      <td>Yes</td>\n",
       "    </tr>\n",
       "    <tr>\n",
       "      <th>682</th>\n",
       "      <td>DA</td>\n",
       "      <td>FT</td>\n",
       "      <td>2020</td>\n",
       "      <td>2020-10-19</td>\n",
       "      <td>BCN</td>\n",
       "      <td>2020-03-27</td>\n",
       "      <td>2020-06-05</td>\n",
       "      <td>Paid Deposit</td>\n",
       "      <td>0.0</td>\n",
       "      <td>0.0</td>\n",
       "      <td>...</td>\n",
       "      <td>Male</td>\n",
       "      <td>Bachelor Degree</td>\n",
       "      <td>Yes</td>\n",
       "      <td>Spain</td>\n",
       "      <td>218.0</td>\n",
       "      <td>2020-09-10</td>\n",
       "      <td>2020-03-27</td>\n",
       "      <td>1.69</td>\n",
       "      <td>Barcelona</td>\n",
       "      <td>Yes</td>\n",
       "    </tr>\n",
       "    <tr>\n",
       "      <th>966</th>\n",
       "      <td>DA</td>\n",
       "      <td>FT</td>\n",
       "      <td>2020</td>\n",
       "      <td>2020-10-19</td>\n",
       "      <td>BCN</td>\n",
       "      <td>2020-06-25</td>\n",
       "      <td>2020-06-30</td>\n",
       "      <td>Closed lost</td>\n",
       "      <td>700.0</td>\n",
       "      <td>0.0</td>\n",
       "      <td>...</td>\n",
       "      <td>Female</td>\n",
       "      <td>Bachelor Degree</td>\n",
       "      <td>Yes</td>\n",
       "      <td>Americas</td>\n",
       "      <td>99.0</td>\n",
       "      <td>2020-08-10</td>\n",
       "      <td>2020-06-29</td>\n",
       "      <td>88.11</td>\n",
       "      <td>Barcelona</td>\n",
       "      <td>Yes</td>\n",
       "    </tr>\n",
       "  </tbody>\n",
       "</table>\n",
       "<p>5 rows × 26 columns</p>\n",
       "</div>"
      ],
      "text/plain": [
       "    Bootcamp Course Bootcamp Format  Bootcamp Year Bootcamp Start Date  \\\n",
       "107              WD              FT           2020          2020-09-28   \n",
       "257              WD              FT           2020          2020-06-29   \n",
       "272              UX              PT           2020          2020-09-29   \n",
       "682              DA              FT           2020          2020-10-19   \n",
       "966              DA              FT           2020          2020-10-19   \n",
       "\n",
       "    Campus - Timezone Created Date Close Date         Stage  \\\n",
       "107               BCN   2020-07-16 2020-09-30   Closed lost   \n",
       "257               BCN   2020-02-02 2020-03-31   Closed lost   \n",
       "272               BCN   2020-07-17 2020-08-28  Paid Deposit   \n",
       "682               BCN   2020-03-27 2020-06-05  Paid Deposit   \n",
       "966               BCN   2020-06-25 2020-06-30   Closed lost   \n",
       "\n",
       "     Discount Amount (converted)  Scholarship Amount (converted)  ...  \\\n",
       "107                        700.0                             0.0  ...   \n",
       "257                          0.0                             0.0  ...   \n",
       "272                        500.0                             0.0  ...   \n",
       "682                          0.0                             0.0  ...   \n",
       "966                        700.0                             0.0  ...   \n",
       "\n",
       "     Person Account: Gender  Person Account: Highest degree received  \\\n",
       "107                  Female                          Bachelor Degree   \n",
       "257                    Male                      No Formal Schooling   \n",
       "272                    Male                          Bachelor Degree   \n",
       "682                    Male                          Bachelor Degree   \n",
       "966                  Female                          Bachelor Degree   \n",
       "\n",
       "     Person Account: Looking for a Job Person Account: Nationality  \\\n",
       "107                                Yes                    Americas   \n",
       "257                                Yes                       Spain   \n",
       "272                                Yes                       Spain   \n",
       "682                                Yes                       Spain   \n",
       "966                                Yes                    Americas   \n",
       "\n",
       "    Stage Duration Account: Last Modified Date First touchpoint Date  \\\n",
       "107           77.0                  2020-04-12            2020-08-27   \n",
       "257          229.0                  2020-11-26            2020-03-26   \n",
       "272          102.0                  2020-04-12            2020-07-23   \n",
       "682          218.0                  2020-09-10            2020-03-27   \n",
       "966           99.0                  2020-08-10            2020-06-29   \n",
       "\n",
       "    Hours Before First Touchpoint Person Account: City Before Course  \\\n",
       "107                       1010.94                          Barcelona   \n",
       "257                       1275.60                          Barcelona   \n",
       "272                        149.47                          Barcelona   \n",
       "682                          1.69                          Barcelona   \n",
       "966                         88.11                          Barcelona   \n",
       "\n",
       "    Person Account: Eligible to Work In  \n",
       "107                                 Yes  \n",
       "257                                 Yes  \n",
       "272                                 Yes  \n",
       "682                                 Yes  \n",
       "966                                 Yes  \n",
       "\n",
       "[5 rows x 26 columns]"
      ]
     },
     "execution_count": 44,
     "metadata": {},
     "output_type": "execute_result"
    }
   ],
   "source": [
    "apps_BCN20201.head()"
   ]
  },
  {
   "cell_type": "code",
   "execution_count": 45,
   "metadata": {},
   "outputs": [
    {
     "data": {
      "text/plain": [
       "(147, 26)"
      ]
     },
     "execution_count": 45,
     "metadata": {},
     "output_type": "execute_result"
    }
   ],
   "source": [
    "apps_BCN20201.shape"
   ]
  },
  {
   "cell_type": "code",
   "execution_count": 46,
   "metadata": {},
   "outputs": [],
   "source": [
    "apps_BCN20201.to_csv(\"apps_BCN20201_clean_selCols.csv\", index=False)"
   ]
  },
  {
   "cell_type": "markdown",
   "metadata": {},
   "source": [
    "## AddColumns"
   ]
  },
  {
   "cell_type": "code",
   "execution_count": 47,
   "metadata": {},
   "outputs": [],
   "source": [
    "apps_clean = pd.read_csv(\"apps_BCN20201_clean_selCols.csv\", parse_dates=[\"Bootcamp Start Date\",\"Created Date\",\n",
    "                                                                \"Close Date\",\"Account: Last Modified Date\",\n",
    "                                                                \"First touchpoint Date\"])"
   ]
  },
  {
   "cell_type": "code",
   "execution_count": 48,
   "metadata": {},
   "outputs": [
    {
     "data": {
      "text/plain": [
       "Index(['Bootcamp Course', 'Bootcamp Format', 'Bootcamp Year',\n",
       "       'Bootcamp Start Date', 'Campus - Timezone', 'Created Date',\n",
       "       'Close Date', 'Stage', 'Discount Amount (converted)',\n",
       "       'Scholarship Amount (converted)', 'Amount (converted)',\n",
       "       'Net Amount With VAT (converted)', 'Drop', 'Drop Reason',\n",
       "       'how did you hear about us?', 'Person Account: Tech Background',\n",
       "       'Person Account: Gender', 'Person Account: Highest degree received',\n",
       "       'Person Account: Looking for a Job', 'Person Account: Nationality',\n",
       "       'Stage Duration', 'Account: Last Modified Date',\n",
       "       'First touchpoint Date', 'Hours Before First Touchpoint',\n",
       "       'Person Account: City Before Course',\n",
       "       'Person Account: Eligible to Work In'],\n",
       "      dtype='object')"
      ]
     },
     "execution_count": 48,
     "metadata": {},
     "output_type": "execute_result"
    }
   ],
   "source": [
    "apps_clean.columns"
   ]
  },
  {
   "cell_type": "markdown",
   "metadata": {},
   "source": [
    "#### Add Column: Paid Deposit \n",
    "This column will be our target\n",
    "Ans, later we will remove Stage Column not not bring colliniarity."
   ]
  },
  {
   "cell_type": "code",
   "execution_count": 49,
   "metadata": {},
   "outputs": [],
   "source": [
    "apps_clean[\"Paid Deposit\"]= [1 if (value == \"Paid Deposit\")| (value == \"ISA won on account\")else 0 for value in apps_clean[\"Stage\"]]"
   ]
  },
  {
   "cell_type": "markdown",
   "metadata": {},
   "source": [
    "#### Add Column: Time to first touchpoint"
   ]
  },
  {
   "cell_type": "markdown",
   "metadata": {},
   "source": [
    "Later will remove dates that are used below to make the new columns"
   ]
  },
  {
   "cell_type": "code",
   "execution_count": 50,
   "metadata": {
    "scrolled": true
   },
   "outputs": [
    {
     "data": {
      "text/html": [
       "<div>\n",
       "<style scoped>\n",
       "    .dataframe tbody tr th:only-of-type {\n",
       "        vertical-align: middle;\n",
       "    }\n",
       "\n",
       "    .dataframe tbody tr th {\n",
       "        vertical-align: top;\n",
       "    }\n",
       "\n",
       "    .dataframe thead th {\n",
       "        text-align: right;\n",
       "    }\n",
       "</style>\n",
       "<table border=\"1\" class=\"dataframe\">\n",
       "  <thead>\n",
       "    <tr style=\"text-align: right;\">\n",
       "      <th></th>\n",
       "      <th>Bootcamp Course</th>\n",
       "      <th>Bootcamp Format</th>\n",
       "      <th>Bootcamp Year</th>\n",
       "      <th>Bootcamp Start Date</th>\n",
       "      <th>Campus - Timezone</th>\n",
       "      <th>Created Date</th>\n",
       "      <th>Close Date</th>\n",
       "      <th>Stage</th>\n",
       "      <th>Discount Amount (converted)</th>\n",
       "      <th>Scholarship Amount (converted)</th>\n",
       "      <th>...</th>\n",
       "      <th>Person Account: Highest degree received</th>\n",
       "      <th>Person Account: Looking for a Job</th>\n",
       "      <th>Person Account: Nationality</th>\n",
       "      <th>Stage Duration</th>\n",
       "      <th>Account: Last Modified Date</th>\n",
       "      <th>First touchpoint Date</th>\n",
       "      <th>Hours Before First Touchpoint</th>\n",
       "      <th>Person Account: City Before Course</th>\n",
       "      <th>Person Account: Eligible to Work In</th>\n",
       "      <th>Paid Deposit</th>\n",
       "    </tr>\n",
       "  </thead>\n",
       "  <tbody>\n",
       "    <tr>\n",
       "      <th>66</th>\n",
       "      <td>DA</td>\n",
       "      <td>FT</td>\n",
       "      <td>2020</td>\n",
       "      <td>2020-10-19</td>\n",
       "      <td>BCN</td>\n",
       "      <td>2020-09-30</td>\n",
       "      <td>2020-09-30</td>\n",
       "      <td>Closed lost</td>\n",
       "      <td>0.0</td>\n",
       "      <td>0.0</td>\n",
       "      <td>...</td>\n",
       "      <td>Master's Degree</td>\n",
       "      <td>Yes</td>\n",
       "      <td>Americas</td>\n",
       "      <td>63.0</td>\n",
       "      <td>2020-06-10</td>\n",
       "      <td>2020-02-10</td>\n",
       "      <td>45.60</td>\n",
       "      <td>Barcelona</td>\n",
       "      <td>Yes</td>\n",
       "      <td>0</td>\n",
       "    </tr>\n",
       "    <tr>\n",
       "      <th>68</th>\n",
       "      <td>DA</td>\n",
       "      <td>PT</td>\n",
       "      <td>2021</td>\n",
       "      <td>2021-09-02</td>\n",
       "      <td>BCN</td>\n",
       "      <td>2020-09-30</td>\n",
       "      <td>2020-09-30</td>\n",
       "      <td>Closed lost</td>\n",
       "      <td>0.0</td>\n",
       "      <td>0.0</td>\n",
       "      <td>...</td>\n",
       "      <td>Bachelor Degree</td>\n",
       "      <td>Yes</td>\n",
       "      <td>Americas</td>\n",
       "      <td>7.0</td>\n",
       "      <td>2020-01-12</td>\n",
       "      <td>2020-08-10</td>\n",
       "      <td>189.40</td>\n",
       "      <td>Barcelona</td>\n",
       "      <td>Yes</td>\n",
       "      <td>0</td>\n",
       "    </tr>\n",
       "    <tr>\n",
       "      <th>69</th>\n",
       "      <td>UX</td>\n",
       "      <td>FT</td>\n",
       "      <td>2020</td>\n",
       "      <td>2020-10-19</td>\n",
       "      <td>BCN</td>\n",
       "      <td>2020-08-31</td>\n",
       "      <td>2020-09-18</td>\n",
       "      <td>Paid Deposit</td>\n",
       "      <td>500.0</td>\n",
       "      <td>0.0</td>\n",
       "      <td>...</td>\n",
       "      <td>Bachelor Degree</td>\n",
       "      <td>Yes</td>\n",
       "      <td>Spain</td>\n",
       "      <td>81.0</td>\n",
       "      <td>2020-11-25</td>\n",
       "      <td>2020-08-09</td>\n",
       "      <td>194.69</td>\n",
       "      <td>Barcelona</td>\n",
       "      <td>Yes</td>\n",
       "      <td>1</td>\n",
       "    </tr>\n",
       "    <tr>\n",
       "      <th>73</th>\n",
       "      <td>DA</td>\n",
       "      <td>FT</td>\n",
       "      <td>2021</td>\n",
       "      <td>2021-11-01</td>\n",
       "      <td>BCN</td>\n",
       "      <td>2020-09-29</td>\n",
       "      <td>2020-09-30</td>\n",
       "      <td>Closed lost</td>\n",
       "      <td>500.0</td>\n",
       "      <td>0.0</td>\n",
       "      <td>...</td>\n",
       "      <td>Bachelor Degree</td>\n",
       "      <td>Yes</td>\n",
       "      <td>Spain</td>\n",
       "      <td>12.0</td>\n",
       "      <td>2020-11-26</td>\n",
       "      <td>2020-07-10</td>\n",
       "      <td>190.44</td>\n",
       "      <td>Barcelona</td>\n",
       "      <td>Yes</td>\n",
       "      <td>0</td>\n",
       "    </tr>\n",
       "    <tr>\n",
       "      <th>78</th>\n",
       "      <td>UX</td>\n",
       "      <td>FT</td>\n",
       "      <td>2021</td>\n",
       "      <td>2021-11-01</td>\n",
       "      <td>BCN</td>\n",
       "      <td>2020-08-09</td>\n",
       "      <td>2020-11-18</td>\n",
       "      <td>Paid Deposit</td>\n",
       "      <td>500.0</td>\n",
       "      <td>0.0</td>\n",
       "      <td>...</td>\n",
       "      <td>Master's Degree</td>\n",
       "      <td>Yes</td>\n",
       "      <td>Europa-Asia</td>\n",
       "      <td>20.0</td>\n",
       "      <td>2020-04-12</td>\n",
       "      <td>2020-05-10</td>\n",
       "      <td>642.94</td>\n",
       "      <td>Barcelona</td>\n",
       "      <td>Yes</td>\n",
       "      <td>1</td>\n",
       "    </tr>\n",
       "    <tr>\n",
       "      <th>82</th>\n",
       "      <td>UX</td>\n",
       "      <td>FT</td>\n",
       "      <td>2021</td>\n",
       "      <td>2021-11-01</td>\n",
       "      <td>BCN</td>\n",
       "      <td>2020-10-22</td>\n",
       "      <td>2020-12-31</td>\n",
       "      <td>Technical Interview</td>\n",
       "      <td>0.0</td>\n",
       "      <td>0.0</td>\n",
       "      <td>...</td>\n",
       "      <td>Bachelor Degree</td>\n",
       "      <td>Yes</td>\n",
       "      <td>Spain</td>\n",
       "      <td>33.0</td>\n",
       "      <td>2020-05-11</td>\n",
       "      <td>2020-04-11</td>\n",
       "      <td>312.60</td>\n",
       "      <td>Barcelona</td>\n",
       "      <td>Yes</td>\n",
       "      <td>0</td>\n",
       "    </tr>\n",
       "    <tr>\n",
       "      <th>87</th>\n",
       "      <td>UX</td>\n",
       "      <td>FT</td>\n",
       "      <td>2021</td>\n",
       "      <td>2021-11-01</td>\n",
       "      <td>BCN</td>\n",
       "      <td>2020-10-24</td>\n",
       "      <td>2020-12-31</td>\n",
       "      <td>Closed lost</td>\n",
       "      <td>0.0</td>\n",
       "      <td>0.0</td>\n",
       "      <td>...</td>\n",
       "      <td>Bachelor Degree</td>\n",
       "      <td>Yes</td>\n",
       "      <td>Spain</td>\n",
       "      <td>7.0</td>\n",
       "      <td>2020-01-12</td>\n",
       "      <td>2020-01-12</td>\n",
       "      <td>906.14</td>\n",
       "      <td>Barcelona</td>\n",
       "      <td>Yes</td>\n",
       "      <td>0</td>\n",
       "    </tr>\n",
       "    <tr>\n",
       "      <th>88</th>\n",
       "      <td>DA</td>\n",
       "      <td>FT</td>\n",
       "      <td>2021</td>\n",
       "      <td>2021-11-01</td>\n",
       "      <td>BCN</td>\n",
       "      <td>2020-10-30</td>\n",
       "      <td>2020-12-31</td>\n",
       "      <td>Closed lost</td>\n",
       "      <td>0.0</td>\n",
       "      <td>0.0</td>\n",
       "      <td>...</td>\n",
       "      <td>No Formal Schooling</td>\n",
       "      <td>Yes</td>\n",
       "      <td>Spain</td>\n",
       "      <td>36.0</td>\n",
       "      <td>2020-02-11</td>\n",
       "      <td>2020-02-11</td>\n",
       "      <td>67.43</td>\n",
       "      <td>Barcelona</td>\n",
       "      <td>Yes</td>\n",
       "      <td>0</td>\n",
       "    </tr>\n",
       "    <tr>\n",
       "      <th>90</th>\n",
       "      <td>WD</td>\n",
       "      <td>FT</td>\n",
       "      <td>2021</td>\n",
       "      <td>2021-03-22</td>\n",
       "      <td>BCN</td>\n",
       "      <td>2020-10-31</td>\n",
       "      <td>2020-12-31</td>\n",
       "      <td>Technical Interview</td>\n",
       "      <td>700.0</td>\n",
       "      <td>0.0</td>\n",
       "      <td>...</td>\n",
       "      <td>Bachelor Degree</td>\n",
       "      <td>Yes</td>\n",
       "      <td>Spain</td>\n",
       "      <td>33.0</td>\n",
       "      <td>2020-05-11</td>\n",
       "      <td>2020-02-11</td>\n",
       "      <td>36.22</td>\n",
       "      <td>Barcelona</td>\n",
       "      <td>Yes</td>\n",
       "      <td>0</td>\n",
       "    </tr>\n",
       "    <tr>\n",
       "      <th>95</th>\n",
       "      <td>UX</td>\n",
       "      <td>PT</td>\n",
       "      <td>2021</td>\n",
       "      <td>2021-09-02</td>\n",
       "      <td>BCN</td>\n",
       "      <td>2020-12-11</td>\n",
       "      <td>2020-12-31</td>\n",
       "      <td>Technical Interview</td>\n",
       "      <td>0.0</td>\n",
       "      <td>0.0</td>\n",
       "      <td>...</td>\n",
       "      <td>Bachelor Degree</td>\n",
       "      <td>No</td>\n",
       "      <td>Spain</td>\n",
       "      <td>7.0</td>\n",
       "      <td>2020-01-12</td>\n",
       "      <td>2020-11-20</td>\n",
       "      <td>198.63</td>\n",
       "      <td>Barcelona</td>\n",
       "      <td>Yes</td>\n",
       "      <td>0</td>\n",
       "    </tr>\n",
       "    <tr>\n",
       "      <th>96</th>\n",
       "      <td>WD</td>\n",
       "      <td>PT</td>\n",
       "      <td>2021</td>\n",
       "      <td>2021-09-02</td>\n",
       "      <td>BCN</td>\n",
       "      <td>2020-10-11</td>\n",
       "      <td>2020-12-31</td>\n",
       "      <td>Student Agreement</td>\n",
       "      <td>750.0</td>\n",
       "      <td>0.0</td>\n",
       "      <td>...</td>\n",
       "      <td>Bachelor Degree</td>\n",
       "      <td>Yes</td>\n",
       "      <td>Spain</td>\n",
       "      <td>1.0</td>\n",
       "      <td>2020-11-11</td>\n",
       "      <td>2020-01-12</td>\n",
       "      <td>507.03</td>\n",
       "      <td>Barcelona</td>\n",
       "      <td>Yes</td>\n",
       "      <td>0</td>\n",
       "    </tr>\n",
       "    <tr>\n",
       "      <th>103</th>\n",
       "      <td>WD</td>\n",
       "      <td>PT</td>\n",
       "      <td>2021</td>\n",
       "      <td>2021-09-02</td>\n",
       "      <td>BCN</td>\n",
       "      <td>2020-11-30</td>\n",
       "      <td>2020-12-31</td>\n",
       "      <td>Technical Interview</td>\n",
       "      <td>750.0</td>\n",
       "      <td>0.0</td>\n",
       "      <td>...</td>\n",
       "      <td>Bachelor Degree</td>\n",
       "      <td>Yes</td>\n",
       "      <td>Spain</td>\n",
       "      <td>5.0</td>\n",
       "      <td>2020-04-12</td>\n",
       "      <td>2020-01-12</td>\n",
       "      <td>11.52</td>\n",
       "      <td>Barcelona</td>\n",
       "      <td>Yes</td>\n",
       "      <td>0</td>\n",
       "    </tr>\n",
       "    <tr>\n",
       "      <th>104</th>\n",
       "      <td>WD</td>\n",
       "      <td>PT</td>\n",
       "      <td>2020</td>\n",
       "      <td>2020-09-29</td>\n",
       "      <td>BCN</td>\n",
       "      <td>2020-04-13</td>\n",
       "      <td>2020-06-30</td>\n",
       "      <td>Closed lost</td>\n",
       "      <td>0.0</td>\n",
       "      <td>0.0</td>\n",
       "      <td>...</td>\n",
       "      <td>No Formal Schooling</td>\n",
       "      <td>Yes</td>\n",
       "      <td>Spain</td>\n",
       "      <td>158.0</td>\n",
       "      <td>2020-08-10</td>\n",
       "      <td>2020-03-07</td>\n",
       "      <td>1936.34</td>\n",
       "      <td>Barcelona</td>\n",
       "      <td>Yes</td>\n",
       "      <td>0</td>\n",
       "    </tr>\n",
       "    <tr>\n",
       "      <th>106</th>\n",
       "      <td>UX</td>\n",
       "      <td>FT</td>\n",
       "      <td>2020</td>\n",
       "      <td>2020-06-22</td>\n",
       "      <td>BCN</td>\n",
       "      <td>2020-05-31</td>\n",
       "      <td>2020-06-17</td>\n",
       "      <td>ISA won on account</td>\n",
       "      <td>0.0</td>\n",
       "      <td>0.0</td>\n",
       "      <td>...</td>\n",
       "      <td>Bachelor Degree</td>\n",
       "      <td>Yes</td>\n",
       "      <td>Americas</td>\n",
       "      <td>174.0</td>\n",
       "      <td>2020-09-16</td>\n",
       "      <td>2020-02-06</td>\n",
       "      <td>44.21</td>\n",
       "      <td>Barcelona</td>\n",
       "      <td>Yes</td>\n",
       "      <td>1</td>\n",
       "    </tr>\n",
       "    <tr>\n",
       "      <th>129</th>\n",
       "      <td>WD</td>\n",
       "      <td>FT</td>\n",
       "      <td>2020</td>\n",
       "      <td>2020-09-28</td>\n",
       "      <td>BCN</td>\n",
       "      <td>2020-06-29</td>\n",
       "      <td>2020-09-07</td>\n",
       "      <td>Paid Deposit</td>\n",
       "      <td>1050.0</td>\n",
       "      <td>0.0</td>\n",
       "      <td>...</td>\n",
       "      <td>No Formal Schooling</td>\n",
       "      <td>Yes</td>\n",
       "      <td>Spain</td>\n",
       "      <td>151.0</td>\n",
       "      <td>2020-06-12</td>\n",
       "      <td>2020-02-07</td>\n",
       "      <td>64.54</td>\n",
       "      <td>Barcelona</td>\n",
       "      <td>Yes</td>\n",
       "      <td>1</td>\n",
       "    </tr>\n",
       "    <tr>\n",
       "      <th>134</th>\n",
       "      <td>WD</td>\n",
       "      <td>PT</td>\n",
       "      <td>2020</td>\n",
       "      <td>2020-09-29</td>\n",
       "      <td>BCN</td>\n",
       "      <td>2020-06-30</td>\n",
       "      <td>2020-06-30</td>\n",
       "      <td>Closed lost</td>\n",
       "      <td>0.0</td>\n",
       "      <td>0.0</td>\n",
       "      <td>...</td>\n",
       "      <td>Bachelor Degree</td>\n",
       "      <td>Yes</td>\n",
       "      <td>Spain</td>\n",
       "      <td>62.0</td>\n",
       "      <td>2020-08-10</td>\n",
       "      <td>2020-02-07</td>\n",
       "      <td>41.64</td>\n",
       "      <td>Barcelona</td>\n",
       "      <td>Yes</td>\n",
       "      <td>0</td>\n",
       "    </tr>\n",
       "    <tr>\n",
       "      <th>137</th>\n",
       "      <td>DA</td>\n",
       "      <td>PT</td>\n",
       "      <td>2020</td>\n",
       "      <td>2020-06-16</td>\n",
       "      <td>BCN</td>\n",
       "      <td>2020-05-28</td>\n",
       "      <td>2020-06-30</td>\n",
       "      <td>Closed lost</td>\n",
       "      <td>0.0</td>\n",
       "      <td>0.0</td>\n",
       "      <td>...</td>\n",
       "      <td>Bachelor Degree</td>\n",
       "      <td>Yes</td>\n",
       "      <td>Americas</td>\n",
       "      <td>181.0</td>\n",
       "      <td>2020-08-10</td>\n",
       "      <td>2020-02-06</td>\n",
       "      <td>126.26</td>\n",
       "      <td>Barcelona</td>\n",
       "      <td>Yes</td>\n",
       "      <td>0</td>\n",
       "    </tr>\n",
       "  </tbody>\n",
       "</table>\n",
       "<p>17 rows × 27 columns</p>\n",
       "</div>"
      ],
      "text/plain": [
       "    Bootcamp Course Bootcamp Format  Bootcamp Year Bootcamp Start Date  \\\n",
       "66               DA              FT           2020          2020-10-19   \n",
       "68               DA              PT           2021          2021-09-02   \n",
       "69               UX              FT           2020          2020-10-19   \n",
       "73               DA              FT           2021          2021-11-01   \n",
       "78               UX              FT           2021          2021-11-01   \n",
       "82               UX              FT           2021          2021-11-01   \n",
       "87               UX              FT           2021          2021-11-01   \n",
       "88               DA              FT           2021          2021-11-01   \n",
       "90               WD              FT           2021          2021-03-22   \n",
       "95               UX              PT           2021          2021-09-02   \n",
       "96               WD              PT           2021          2021-09-02   \n",
       "103              WD              PT           2021          2021-09-02   \n",
       "104              WD              PT           2020          2020-09-29   \n",
       "106              UX              FT           2020          2020-06-22   \n",
       "129              WD              FT           2020          2020-09-28   \n",
       "134              WD              PT           2020          2020-09-29   \n",
       "137              DA              PT           2020          2020-06-16   \n",
       "\n",
       "    Campus - Timezone Created Date Close Date                Stage  \\\n",
       "66                BCN   2020-09-30 2020-09-30          Closed lost   \n",
       "68                BCN   2020-09-30 2020-09-30          Closed lost   \n",
       "69                BCN   2020-08-31 2020-09-18         Paid Deposit   \n",
       "73                BCN   2020-09-29 2020-09-30          Closed lost   \n",
       "78                BCN   2020-08-09 2020-11-18         Paid Deposit   \n",
       "82                BCN   2020-10-22 2020-12-31  Technical Interview   \n",
       "87                BCN   2020-10-24 2020-12-31          Closed lost   \n",
       "88                BCN   2020-10-30 2020-12-31          Closed lost   \n",
       "90                BCN   2020-10-31 2020-12-31  Technical Interview   \n",
       "95                BCN   2020-12-11 2020-12-31  Technical Interview   \n",
       "96                BCN   2020-10-11 2020-12-31    Student Agreement   \n",
       "103               BCN   2020-11-30 2020-12-31  Technical Interview   \n",
       "104               BCN   2020-04-13 2020-06-30          Closed lost   \n",
       "106               BCN   2020-05-31 2020-06-17   ISA won on account   \n",
       "129               BCN   2020-06-29 2020-09-07         Paid Deposit   \n",
       "134               BCN   2020-06-30 2020-06-30          Closed lost   \n",
       "137               BCN   2020-05-28 2020-06-30          Closed lost   \n",
       "\n",
       "     Discount Amount (converted)  Scholarship Amount (converted)  ...  \\\n",
       "66                           0.0                             0.0  ...   \n",
       "68                           0.0                             0.0  ...   \n",
       "69                         500.0                             0.0  ...   \n",
       "73                         500.0                             0.0  ...   \n",
       "78                         500.0                             0.0  ...   \n",
       "82                           0.0                             0.0  ...   \n",
       "87                           0.0                             0.0  ...   \n",
       "88                           0.0                             0.0  ...   \n",
       "90                         700.0                             0.0  ...   \n",
       "95                           0.0                             0.0  ...   \n",
       "96                         750.0                             0.0  ...   \n",
       "103                        750.0                             0.0  ...   \n",
       "104                          0.0                             0.0  ...   \n",
       "106                          0.0                             0.0  ...   \n",
       "129                       1050.0                             0.0  ...   \n",
       "134                          0.0                             0.0  ...   \n",
       "137                          0.0                             0.0  ...   \n",
       "\n",
       "     Person Account: Highest degree received  \\\n",
       "66                           Master's Degree   \n",
       "68                           Bachelor Degree   \n",
       "69                           Bachelor Degree   \n",
       "73                           Bachelor Degree   \n",
       "78                           Master's Degree   \n",
       "82                           Bachelor Degree   \n",
       "87                           Bachelor Degree   \n",
       "88                       No Formal Schooling   \n",
       "90                           Bachelor Degree   \n",
       "95                           Bachelor Degree   \n",
       "96                           Bachelor Degree   \n",
       "103                          Bachelor Degree   \n",
       "104                      No Formal Schooling   \n",
       "106                          Bachelor Degree   \n",
       "129                      No Formal Schooling   \n",
       "134                          Bachelor Degree   \n",
       "137                          Bachelor Degree   \n",
       "\n",
       "     Person Account: Looking for a Job  Person Account: Nationality  \\\n",
       "66                                 Yes                     Americas   \n",
       "68                                 Yes                     Americas   \n",
       "69                                 Yes                        Spain   \n",
       "73                                 Yes                        Spain   \n",
       "78                                 Yes                  Europa-Asia   \n",
       "82                                 Yes                        Spain   \n",
       "87                                 Yes                        Spain   \n",
       "88                                 Yes                        Spain   \n",
       "90                                 Yes                        Spain   \n",
       "95                                  No                        Spain   \n",
       "96                                 Yes                        Spain   \n",
       "103                                Yes                        Spain   \n",
       "104                                Yes                        Spain   \n",
       "106                                Yes                     Americas   \n",
       "129                                Yes                        Spain   \n",
       "134                                Yes                        Spain   \n",
       "137                                Yes                     Americas   \n",
       "\n",
       "    Stage Duration Account: Last Modified Date First touchpoint Date  \\\n",
       "66            63.0                  2020-06-10            2020-02-10   \n",
       "68             7.0                  2020-01-12            2020-08-10   \n",
       "69            81.0                  2020-11-25            2020-08-09   \n",
       "73            12.0                  2020-11-26            2020-07-10   \n",
       "78            20.0                  2020-04-12            2020-05-10   \n",
       "82            33.0                  2020-05-11            2020-04-11   \n",
       "87             7.0                  2020-01-12            2020-01-12   \n",
       "88            36.0                  2020-02-11            2020-02-11   \n",
       "90            33.0                  2020-05-11            2020-02-11   \n",
       "95             7.0                  2020-01-12            2020-11-20   \n",
       "96             1.0                  2020-11-11            2020-01-12   \n",
       "103            5.0                  2020-04-12            2020-01-12   \n",
       "104          158.0                  2020-08-10            2020-03-07   \n",
       "106          174.0                  2020-09-16            2020-02-06   \n",
       "129          151.0                  2020-06-12            2020-02-07   \n",
       "134           62.0                  2020-08-10            2020-02-07   \n",
       "137          181.0                  2020-08-10            2020-02-06   \n",
       "\n",
       "    Hours Before First Touchpoint Person Account: City Before Course  \\\n",
       "66                          45.60                          Barcelona   \n",
       "68                         189.40                          Barcelona   \n",
       "69                         194.69                          Barcelona   \n",
       "73                         190.44                          Barcelona   \n",
       "78                         642.94                          Barcelona   \n",
       "82                         312.60                          Barcelona   \n",
       "87                         906.14                          Barcelona   \n",
       "88                          67.43                          Barcelona   \n",
       "90                          36.22                          Barcelona   \n",
       "95                         198.63                          Barcelona   \n",
       "96                         507.03                          Barcelona   \n",
       "103                         11.52                          Barcelona   \n",
       "104                       1936.34                          Barcelona   \n",
       "106                         44.21                          Barcelona   \n",
       "129                         64.54                          Barcelona   \n",
       "134                         41.64                          Barcelona   \n",
       "137                        126.26                          Barcelona   \n",
       "\n",
       "    Person Account: Eligible to Work In Paid Deposit  \n",
       "66                                  Yes            0  \n",
       "68                                  Yes            0  \n",
       "69                                  Yes            1  \n",
       "73                                  Yes            0  \n",
       "78                                  Yes            1  \n",
       "82                                  Yes            0  \n",
       "87                                  Yes            0  \n",
       "88                                  Yes            0  \n",
       "90                                  Yes            0  \n",
       "95                                  Yes            0  \n",
       "96                                  Yes            0  \n",
       "103                                 Yes            0  \n",
       "104                                 Yes            0  \n",
       "106                                 Yes            1  \n",
       "129                                 Yes            1  \n",
       "134                                 Yes            0  \n",
       "137                                 Yes            0  \n",
       "\n",
       "[17 rows x 27 columns]"
      ]
     },
     "execution_count": 50,
     "metadata": {},
     "output_type": "execute_result"
    }
   ],
   "source": [
    "apps_clean[apps_clean['First touchpoint Date']<apps_clean['Created Date']]"
   ]
  },
  {
   "cell_type": "code",
   "execution_count": 51,
   "metadata": {},
   "outputs": [],
   "source": [
    "apps_clean.drop(apps_clean[apps_clean['First touchpoint Date']<apps_clean['Created Date']].index, inplace=True)  "
   ]
  },
  {
   "cell_type": "code",
   "execution_count": 52,
   "metadata": {},
   "outputs": [],
   "source": [
    "apps_clean[\"Time to first touchpoint - days\"]=(apps_clean['First touchpoint Date'\n",
    "                                                                          ] - apps_clean['Created Date']).dt.days\n"
   ]
  },
  {
   "cell_type": "code",
   "execution_count": 53,
   "metadata": {},
   "outputs": [
    {
     "data": {
      "text/plain": [
       "0      42\n",
       "1      53\n",
       "2       6\n",
       "3       0\n",
       "4       4\n",
       "       ..\n",
       "142    30\n",
       "143     0\n",
       "144     0\n",
       "145    13\n",
       "146     7\n",
       "Name: Time to first touchpoint - days, Length: 130, dtype: int64"
      ]
     },
     "execution_count": 53,
     "metadata": {},
     "output_type": "execute_result"
    }
   ],
   "source": [
    "apps_clean[\"Time to first touchpoint - days\"]"
   ]
  },
  {
   "cell_type": "code",
   "execution_count": 54,
   "metadata": {},
   "outputs": [
    {
     "data": {
      "image/png": "[encoded data removed]",
      "text/plain": [
       "<Figure size 432x288 with 1 Axes>"
      ]
     },
     "metadata": {
      "needs_background": "light"
     },
     "output_type": "display_data"
    }
   ],
   "source": [
    "plt.hist(apps_clean[\"Time to first touchpoint - days\"]);"
   ]
  },
  {
   "cell_type": "markdown",
   "metadata": {},
   "source": [
    "#### Add Column: Time from First touchpoint to Close date"
   ]
  },
  {
   "cell_type": "code",
   "execution_count": 55,
   "metadata": {
    "scrolled": true
   },
   "outputs": [
    {
     "data": {
      "text/html": [
       "<div>\n",
       "<style scoped>\n",
       "    .dataframe tbody tr th:only-of-type {\n",
       "        vertical-align: middle;\n",
       "    }\n",
       "\n",
       "    .dataframe tbody tr th {\n",
       "        vertical-align: top;\n",
       "    }\n",
       "\n",
       "    .dataframe thead th {\n",
       "        text-align: right;\n",
       "    }\n",
       "</style>\n",
       "<table border=\"1\" class=\"dataframe\">\n",
       "  <thead>\n",
       "    <tr style=\"text-align: right;\">\n",
       "      <th></th>\n",
       "      <th>Bootcamp Course</th>\n",
       "      <th>Bootcamp Format</th>\n",
       "      <th>Bootcamp Year</th>\n",
       "      <th>Bootcamp Start Date</th>\n",
       "      <th>Campus - Timezone</th>\n",
       "      <th>Created Date</th>\n",
       "      <th>Close Date</th>\n",
       "      <th>Stage</th>\n",
       "      <th>Discount Amount (converted)</th>\n",
       "      <th>Scholarship Amount (converted)</th>\n",
       "      <th>...</th>\n",
       "      <th>Person Account: Looking for a Job</th>\n",
       "      <th>Person Account: Nationality</th>\n",
       "      <th>Stage Duration</th>\n",
       "      <th>Account: Last Modified Date</th>\n",
       "      <th>First touchpoint Date</th>\n",
       "      <th>Hours Before First Touchpoint</th>\n",
       "      <th>Person Account: City Before Course</th>\n",
       "      <th>Person Account: Eligible to Work In</th>\n",
       "      <th>Paid Deposit</th>\n",
       "      <th>Time to first touchpoint - days</th>\n",
       "    </tr>\n",
       "  </thead>\n",
       "  <tbody>\n",
       "    <tr>\n",
       "      <th>11</th>\n",
       "      <td>DA</td>\n",
       "      <td>FT</td>\n",
       "      <td>2020</td>\n",
       "      <td>2020-06-22</td>\n",
       "      <td>BCN</td>\n",
       "      <td>2020-02-16</td>\n",
       "      <td>2020-03-31</td>\n",
       "      <td>Closed lost</td>\n",
       "      <td>0.0</td>\n",
       "      <td>0.0</td>\n",
       "      <td>...</td>\n",
       "      <td>Yes</td>\n",
       "      <td>Europa-Asia</td>\n",
       "      <td>181.0</td>\n",
       "      <td>2020-08-10</td>\n",
       "      <td>2020-04-23</td>\n",
       "      <td>1606.52</td>\n",
       "      <td>Milan</td>\n",
       "      <td>Yes</td>\n",
       "      <td>0</td>\n",
       "      <td>67</td>\n",
       "    </tr>\n",
       "    <tr>\n",
       "      <th>12</th>\n",
       "      <td>WD</td>\n",
       "      <td>FT</td>\n",
       "      <td>2020</td>\n",
       "      <td>2020-02-17</td>\n",
       "      <td>BCN</td>\n",
       "      <td>2020-01-24</td>\n",
       "      <td>2020-03-31</td>\n",
       "      <td>Closed lost</td>\n",
       "      <td>0.0</td>\n",
       "      <td>0.0</td>\n",
       "      <td>...</td>\n",
       "      <td>Yes</td>\n",
       "      <td>Americas</td>\n",
       "      <td>306.0</td>\n",
       "      <td>2020-08-10</td>\n",
       "      <td>2020-06-02</td>\n",
       "      <td>310.30</td>\n",
       "      <td>Barcelona</td>\n",
       "      <td>Yes</td>\n",
       "      <td>0</td>\n",
       "      <td>130</td>\n",
       "    </tr>\n",
       "    <tr>\n",
       "      <th>15</th>\n",
       "      <td>DA</td>\n",
       "      <td>FT</td>\n",
       "      <td>2020</td>\n",
       "      <td>2020-06-22</td>\n",
       "      <td>BCN</td>\n",
       "      <td>2020-04-04</td>\n",
       "      <td>2020-06-30</td>\n",
       "      <td>Closed lost</td>\n",
       "      <td>0.0</td>\n",
       "      <td>0.0</td>\n",
       "      <td>...</td>\n",
       "      <td>Yes</td>\n",
       "      <td>Spain</td>\n",
       "      <td>180.0</td>\n",
       "      <td>2020-08-10</td>\n",
       "      <td>2020-08-04</td>\n",
       "      <td>105.76</td>\n",
       "      <td>Sabadell</td>\n",
       "      <td>Yes</td>\n",
       "      <td>0</td>\n",
       "      <td>122</td>\n",
       "    </tr>\n",
       "    <tr>\n",
       "      <th>20</th>\n",
       "      <td>WD</td>\n",
       "      <td>FT</td>\n",
       "      <td>2020</td>\n",
       "      <td>2020-09-28</td>\n",
       "      <td>BCN</td>\n",
       "      <td>2020-01-31</td>\n",
       "      <td>2020-06-04</td>\n",
       "      <td>Paid Deposit</td>\n",
       "      <td>0.0</td>\n",
       "      <td>0.0</td>\n",
       "      <td>...</td>\n",
       "      <td>Yes</td>\n",
       "      <td>Spain</td>\n",
       "      <td>246.0</td>\n",
       "      <td>2020-07-12</td>\n",
       "      <td>2020-08-06</td>\n",
       "      <td>3095.79</td>\n",
       "      <td>Barcelona</td>\n",
       "      <td>Yes</td>\n",
       "      <td>1</td>\n",
       "      <td>188</td>\n",
       "    </tr>\n",
       "    <tr>\n",
       "      <th>24</th>\n",
       "      <td>UX</td>\n",
       "      <td>PT</td>\n",
       "      <td>2020</td>\n",
       "      <td>2020-06-16</td>\n",
       "      <td>BCN</td>\n",
       "      <td>2020-03-03</td>\n",
       "      <td>2020-04-20</td>\n",
       "      <td>Paid Deposit</td>\n",
       "      <td>0.0</td>\n",
       "      <td>0.0</td>\n",
       "      <td>...</td>\n",
       "      <td>Yes</td>\n",
       "      <td>Spain</td>\n",
       "      <td>236.0</td>\n",
       "      <td>2020-09-19</td>\n",
       "      <td>2020-06-03</td>\n",
       "      <td>68.63</td>\n",
       "      <td>Castellon</td>\n",
       "      <td>Yes</td>\n",
       "      <td>1</td>\n",
       "      <td>92</td>\n",
       "    </tr>\n",
       "    <tr>\n",
       "      <th>34</th>\n",
       "      <td>DA</td>\n",
       "      <td>FT</td>\n",
       "      <td>2020</td>\n",
       "      <td>2020-10-19</td>\n",
       "      <td>BCN</td>\n",
       "      <td>2020-01-07</td>\n",
       "      <td>2020-07-13</td>\n",
       "      <td>Paid Deposit</td>\n",
       "      <td>500.0</td>\n",
       "      <td>0.0</td>\n",
       "      <td>...</td>\n",
       "      <td>Yes</td>\n",
       "      <td>Spain</td>\n",
       "      <td>148.0</td>\n",
       "      <td>2020-06-12</td>\n",
       "      <td>2020-09-07</td>\n",
       "      <td>193.91</td>\n",
       "      <td>Barcelona</td>\n",
       "      <td>Yes</td>\n",
       "      <td>1</td>\n",
       "      <td>244</td>\n",
       "    </tr>\n",
       "    <tr>\n",
       "      <th>40</th>\n",
       "      <td>DA</td>\n",
       "      <td>FT</td>\n",
       "      <td>2020</td>\n",
       "      <td>2020-06-22</td>\n",
       "      <td>BCN</td>\n",
       "      <td>2020-02-25</td>\n",
       "      <td>2020-03-31</td>\n",
       "      <td>Closed lost</td>\n",
       "      <td>0.0</td>\n",
       "      <td>0.0</td>\n",
       "      <td>...</td>\n",
       "      <td>No</td>\n",
       "      <td>Spain</td>\n",
       "      <td>174.0</td>\n",
       "      <td>2020-08-10</td>\n",
       "      <td>2020-04-16</td>\n",
       "      <td>1223.51</td>\n",
       "      <td>Barcelona</td>\n",
       "      <td>Yes</td>\n",
       "      <td>0</td>\n",
       "      <td>51</td>\n",
       "    </tr>\n",
       "    <tr>\n",
       "      <th>44</th>\n",
       "      <td>DA</td>\n",
       "      <td>FT</td>\n",
       "      <td>2020</td>\n",
       "      <td>2020-10-19</td>\n",
       "      <td>BCN</td>\n",
       "      <td>2020-07-22</td>\n",
       "      <td>2020-08-14</td>\n",
       "      <td>Paid Deposit</td>\n",
       "      <td>0.0</td>\n",
       "      <td>0.0</td>\n",
       "      <td>...</td>\n",
       "      <td>Yes</td>\n",
       "      <td>Spain</td>\n",
       "      <td>118.0</td>\n",
       "      <td>2020-11-29</td>\n",
       "      <td>2020-10-08</td>\n",
       "      <td>456.81</td>\n",
       "      <td>Barcelona</td>\n",
       "      <td>Yes</td>\n",
       "      <td>1</td>\n",
       "      <td>78</td>\n",
       "    </tr>\n",
       "    <tr>\n",
       "      <th>48</th>\n",
       "      <td>DA</td>\n",
       "      <td>FT</td>\n",
       "      <td>2020</td>\n",
       "      <td>2020-10-19</td>\n",
       "      <td>BCN</td>\n",
       "      <td>2020-04-16</td>\n",
       "      <td>2020-06-30</td>\n",
       "      <td>Closed lost</td>\n",
       "      <td>500.0</td>\n",
       "      <td>0.0</td>\n",
       "      <td>...</td>\n",
       "      <td>Yes</td>\n",
       "      <td>Europa-Asia</td>\n",
       "      <td>64.0</td>\n",
       "      <td>2020-08-10</td>\n",
       "      <td>2020-08-31</td>\n",
       "      <td>3294.09</td>\n",
       "      <td>Gu</td>\n",
       "      <td>Yes</td>\n",
       "      <td>0</td>\n",
       "      <td>137</td>\n",
       "    </tr>\n",
       "    <tr>\n",
       "      <th>65</th>\n",
       "      <td>WD</td>\n",
       "      <td>PT</td>\n",
       "      <td>2021</td>\n",
       "      <td>2021-09-02</td>\n",
       "      <td>BCN</td>\n",
       "      <td>2020-09-28</td>\n",
       "      <td>2020-09-30</td>\n",
       "      <td>Technical Interview</td>\n",
       "      <td>0.0</td>\n",
       "      <td>0.0</td>\n",
       "      <td>...</td>\n",
       "      <td>Yes</td>\n",
       "      <td>Spain</td>\n",
       "      <td>43.0</td>\n",
       "      <td>2020-10-26</td>\n",
       "      <td>2020-10-22</td>\n",
       "      <td>571.72</td>\n",
       "      <td>Barcelona</td>\n",
       "      <td>Yes</td>\n",
       "      <td>0</td>\n",
       "      <td>24</td>\n",
       "    </tr>\n",
       "    <tr>\n",
       "      <th>92</th>\n",
       "      <td>UX</td>\n",
       "      <td>FT</td>\n",
       "      <td>2021</td>\n",
       "      <td>2021-11-01</td>\n",
       "      <td>BCN</td>\n",
       "      <td>2020-07-11</td>\n",
       "      <td>2020-11-22</td>\n",
       "      <td>Paid Deposit</td>\n",
       "      <td>500.0</td>\n",
       "      <td>0.0</td>\n",
       "      <td>...</td>\n",
       "      <td>Yes</td>\n",
       "      <td>Americas</td>\n",
       "      <td>15.0</td>\n",
       "      <td>2020-04-12</td>\n",
       "      <td>2020-11-23</td>\n",
       "      <td>381.51</td>\n",
       "      <td>Barcelona</td>\n",
       "      <td>Yes</td>\n",
       "      <td>1</td>\n",
       "      <td>135</td>\n",
       "    </tr>\n",
       "    <tr>\n",
       "      <th>111</th>\n",
       "      <td>WD</td>\n",
       "      <td>FT</td>\n",
       "      <td>2020</td>\n",
       "      <td>2020-09-28</td>\n",
       "      <td>BCN</td>\n",
       "      <td>2020-06-25</td>\n",
       "      <td>2020-06-30</td>\n",
       "      <td>Closed lost</td>\n",
       "      <td>0.0</td>\n",
       "      <td>0.0</td>\n",
       "      <td>...</td>\n",
       "      <td>Yes</td>\n",
       "      <td>Spain</td>\n",
       "      <td>103.0</td>\n",
       "      <td>2020-08-10</td>\n",
       "      <td>2020-08-27</td>\n",
       "      <td>1510.72</td>\n",
       "      <td>Barcelona</td>\n",
       "      <td>Yes</td>\n",
       "      <td>0</td>\n",
       "      <td>63</td>\n",
       "    </tr>\n",
       "    <tr>\n",
       "      <th>120</th>\n",
       "      <td>WD</td>\n",
       "      <td>FT</td>\n",
       "      <td>2020</td>\n",
       "      <td>2020-09-28</td>\n",
       "      <td>BCN</td>\n",
       "      <td>2020-06-27</td>\n",
       "      <td>2020-06-30</td>\n",
       "      <td>Closed lost</td>\n",
       "      <td>0.0</td>\n",
       "      <td>0.0</td>\n",
       "      <td>...</td>\n",
       "      <td>Yes</td>\n",
       "      <td>Europa-Asia</td>\n",
       "      <td>103.0</td>\n",
       "      <td>2020-08-10</td>\n",
       "      <td>2020-08-27</td>\n",
       "      <td>1458.15</td>\n",
       "      <td>Barcelona</td>\n",
       "      <td>Yes</td>\n",
       "      <td>0</td>\n",
       "      <td>61</td>\n",
       "    </tr>\n",
       "    <tr>\n",
       "      <th>123</th>\n",
       "      <td>DA</td>\n",
       "      <td>FT</td>\n",
       "      <td>2020</td>\n",
       "      <td>2020-06-22</td>\n",
       "      <td>BCN</td>\n",
       "      <td>2020-06-05</td>\n",
       "      <td>2020-06-30</td>\n",
       "      <td>Closed lost</td>\n",
       "      <td>0.0</td>\n",
       "      <td>0.0</td>\n",
       "      <td>...</td>\n",
       "      <td>Yes</td>\n",
       "      <td>Spain</td>\n",
       "      <td>180.0</td>\n",
       "      <td>2020-08-10</td>\n",
       "      <td>2020-07-05</td>\n",
       "      <td>16.00</td>\n",
       "      <td>Barcelona</td>\n",
       "      <td>Yes</td>\n",
       "      <td>0</td>\n",
       "      <td>30</td>\n",
       "    </tr>\n",
       "  </tbody>\n",
       "</table>\n",
       "<p>14 rows × 28 columns</p>\n",
       "</div>"
      ],
      "text/plain": [
       "    Bootcamp Course Bootcamp Format  Bootcamp Year Bootcamp Start Date  \\\n",
       "11               DA              FT           2020          2020-06-22   \n",
       "12               WD              FT           2020          2020-02-17   \n",
       "15               DA              FT           2020          2020-06-22   \n",
       "20               WD              FT           2020          2020-09-28   \n",
       "24               UX              PT           2020          2020-06-16   \n",
       "34               DA              FT           2020          2020-10-19   \n",
       "40               DA              FT           2020          2020-06-22   \n",
       "44               DA              FT           2020          2020-10-19   \n",
       "48               DA              FT           2020          2020-10-19   \n",
       "65               WD              PT           2021          2021-09-02   \n",
       "92               UX              FT           2021          2021-11-01   \n",
       "111              WD              FT           2020          2020-09-28   \n",
       "120              WD              FT           2020          2020-09-28   \n",
       "123              DA              FT           2020          2020-06-22   \n",
       "\n",
       "    Campus - Timezone Created Date Close Date                Stage  \\\n",
       "11                BCN   2020-02-16 2020-03-31          Closed lost   \n",
       "12                BCN   2020-01-24 2020-03-31          Closed lost   \n",
       "15                BCN   2020-04-04 2020-06-30          Closed lost   \n",
       "20                BCN   2020-01-31 2020-06-04         Paid Deposit   \n",
       "24                BCN   2020-03-03 2020-04-20         Paid Deposit   \n",
       "34                BCN   2020-01-07 2020-07-13         Paid Deposit   \n",
       "40                BCN   2020-02-25 2020-03-31          Closed lost   \n",
       "44                BCN   2020-07-22 2020-08-14         Paid Deposit   \n",
       "48                BCN   2020-04-16 2020-06-30          Closed lost   \n",
       "65                BCN   2020-09-28 2020-09-30  Technical Interview   \n",
       "92                BCN   2020-07-11 2020-11-22         Paid Deposit   \n",
       "111               BCN   2020-06-25 2020-06-30          Closed lost   \n",
       "120               BCN   2020-06-27 2020-06-30          Closed lost   \n",
       "123               BCN   2020-06-05 2020-06-30          Closed lost   \n",
       "\n",
       "     Discount Amount (converted)  Scholarship Amount (converted)  ...  \\\n",
       "11                           0.0                             0.0  ...   \n",
       "12                           0.0                             0.0  ...   \n",
       "15                           0.0                             0.0  ...   \n",
       "20                           0.0                             0.0  ...   \n",
       "24                           0.0                             0.0  ...   \n",
       "34                         500.0                             0.0  ...   \n",
       "40                           0.0                             0.0  ...   \n",
       "44                           0.0                             0.0  ...   \n",
       "48                         500.0                             0.0  ...   \n",
       "65                           0.0                             0.0  ...   \n",
       "92                         500.0                             0.0  ...   \n",
       "111                          0.0                             0.0  ...   \n",
       "120                          0.0                             0.0  ...   \n",
       "123                          0.0                             0.0  ...   \n",
       "\n",
       "     Person Account: Looking for a Job  Person Account: Nationality  \\\n",
       "11                                 Yes                  Europa-Asia   \n",
       "12                                 Yes                     Americas   \n",
       "15                                 Yes                        Spain   \n",
       "20                                 Yes                        Spain   \n",
       "24                                 Yes                        Spain   \n",
       "34                                 Yes                        Spain   \n",
       "40                                  No                        Spain   \n",
       "44                                 Yes                        Spain   \n",
       "48                                 Yes                  Europa-Asia   \n",
       "65                                 Yes                        Spain   \n",
       "92                                 Yes                     Americas   \n",
       "111                                Yes                        Spain   \n",
       "120                                Yes                  Europa-Asia   \n",
       "123                                Yes                        Spain   \n",
       "\n",
       "     Stage Duration Account: Last Modified Date First touchpoint Date  \\\n",
       "11            181.0                  2020-08-10            2020-04-23   \n",
       "12            306.0                  2020-08-10            2020-06-02   \n",
       "15            180.0                  2020-08-10            2020-08-04   \n",
       "20            246.0                  2020-07-12            2020-08-06   \n",
       "24            236.0                  2020-09-19            2020-06-03   \n",
       "34            148.0                  2020-06-12            2020-09-07   \n",
       "40            174.0                  2020-08-10            2020-04-16   \n",
       "44            118.0                  2020-11-29            2020-10-08   \n",
       "48             64.0                  2020-08-10            2020-08-31   \n",
       "65             43.0                  2020-10-26            2020-10-22   \n",
       "92             15.0                  2020-04-12            2020-11-23   \n",
       "111           103.0                  2020-08-10            2020-08-27   \n",
       "120           103.0                  2020-08-10            2020-08-27   \n",
       "123           180.0                  2020-08-10            2020-07-05   \n",
       "\n",
       "    Hours Before First Touchpoint Person Account: City Before Course  \\\n",
       "11                        1606.52                              Milan   \n",
       "12                         310.30                          Barcelona   \n",
       "15                         105.76                           Sabadell   \n",
       "20                        3095.79                          Barcelona   \n",
       "24                          68.63                          Castellon   \n",
       "34                         193.91                          Barcelona   \n",
       "40                        1223.51                          Barcelona   \n",
       "44                         456.81                          Barcelona   \n",
       "48                        3294.09                                 Gu   \n",
       "65                         571.72                          Barcelona   \n",
       "92                         381.51                          Barcelona   \n",
       "111                       1510.72                          Barcelona   \n",
       "120                       1458.15                          Barcelona   \n",
       "123                         16.00                          Barcelona   \n",
       "\n",
       "    Person Account: Eligible to Work In Paid Deposit  \\\n",
       "11                                  Yes            0   \n",
       "12                                  Yes            0   \n",
       "15                                  Yes            0   \n",
       "20                                  Yes            1   \n",
       "24                                  Yes            1   \n",
       "34                                  Yes            1   \n",
       "40                                  Yes            0   \n",
       "44                                  Yes            1   \n",
       "48                                  Yes            0   \n",
       "65                                  Yes            0   \n",
       "92                                  Yes            1   \n",
       "111                                 Yes            0   \n",
       "120                                 Yes            0   \n",
       "123                                 Yes            0   \n",
       "\n",
       "    Time to first touchpoint - days  \n",
       "11                               67  \n",
       "12                              130  \n",
       "15                              122  \n",
       "20                              188  \n",
       "24                               92  \n",
       "34                              244  \n",
       "40                               51  \n",
       "44                               78  \n",
       "48                              137  \n",
       "65                               24  \n",
       "92                              135  \n",
       "111                              63  \n",
       "120                              61  \n",
       "123                              30  \n",
       "\n",
       "[14 rows x 28 columns]"
      ]
     },
     "execution_count": 55,
     "metadata": {},
     "output_type": "execute_result"
    }
   ],
   "source": [
    "apps_clean[apps_clean['First touchpoint Date']>apps_clean['Close Date']]"
   ]
  },
  {
   "cell_type": "code",
   "execution_count": 56,
   "metadata": {},
   "outputs": [],
   "source": [
    "apps_clean.drop(apps_clean[apps_clean['First touchpoint Date']>apps_clean['Close Date']].index, inplace=True)  "
   ]
  },
  {
   "cell_type": "code",
   "execution_count": 57,
   "metadata": {},
   "outputs": [],
   "source": [
    "apps_clean[\"Time First touchpoint to Close date - days\"]=(apps_clean['Close Date'\n",
    "                                                                          ] - apps_clean['First touchpoint Date']).dt.days\n"
   ]
  },
  {
   "cell_type": "code",
   "execution_count": 58,
   "metadata": {},
   "outputs": [
    {
     "data": {
      "text/plain": [
       "0       34\n",
       "1        5\n",
       "2       36\n",
       "3       70\n",
       "4        1\n",
       "      ... \n",
       "142     55\n",
       "143    275\n",
       "144     31\n",
       "145     65\n",
       "146     65\n",
       "Name: Time First touchpoint to Close date - days, Length: 116, dtype: int64"
      ]
     },
     "execution_count": 58,
     "metadata": {},
     "output_type": "execute_result"
    }
   ],
   "source": [
    "apps_clean[\"Time First touchpoint to Close date - days\"]"
   ]
  },
  {
   "cell_type": "code",
   "execution_count": 59,
   "metadata": {},
   "outputs": [
    {
     "data": {
      "image/png": "[encoded data removed]",
      "text/plain": [
       "<Figure size 432x288 with 1 Axes>"
      ]
     },
     "metadata": {
      "needs_background": "light"
     },
     "output_type": "display_data"
    }
   ],
   "source": [
    "plt.hist(apps_clean[\"Time First touchpoint to Close date - days\"]);"
   ]
  },
  {
   "cell_type": "markdown",
   "metadata": {},
   "source": [
    "#### Add Column: Scholarship & Discount"
   ]
  },
  {
   "cell_type": "code",
   "execution_count": 60,
   "metadata": {},
   "outputs": [],
   "source": [
    "apps_clean[\"Scholarship\"]= [0 if value == 0.00 else 1 for value in apps_clean[\"Scholarship Amount (converted)\"]]\n",
    "apps_clean[\"Discount\"]= [0 if value == 0.00 else 1 for value in apps_clean[\"Discount Amount (converted)\"]]"
   ]
  },
  {
   "cell_type": "markdown",
   "metadata": {},
   "source": [
    "#### Add Column: Time Conversion (days)\n",
    "Time taken to convert the lead from it's creation to it's closure"
   ]
  },
  {
   "cell_type": "code",
   "execution_count": 61,
   "metadata": {},
   "outputs": [],
   "source": [
    "apps_clean[\"Time Conversion - days\"]= (apps_clean['Close Date'] - apps_clean['Created Date']).dt.days"
   ]
  },
  {
   "cell_type": "markdown",
   "metadata": {},
   "source": [
    "#### Add Column: Time between Created Date and Start Date (days)"
   ]
  },
  {
   "cell_type": "code",
   "execution_count": 62,
   "metadata": {},
   "outputs": [],
   "source": [
    "apps_clean[\"Time between Created Date and Start Date - days\"]= (apps_clean['Bootcamp Start Date'\n",
    "                                                                          ] - apps_clean['Created Date']).dt.days"
   ]
  },
  {
   "cell_type": "markdown",
   "metadata": {},
   "source": [
    "#### Add Column: % Discount"
   ]
  },
  {
   "cell_type": "markdown",
   "metadata": {},
   "source": [
    "Later we'll remove the amount use to creat this column"
   ]
  },
  {
   "cell_type": "code",
   "execution_count": 63,
   "metadata": {},
   "outputs": [],
   "source": [
    "apps_clean[\"Discount(%)\"]= 1- (round(apps_clean[\"Net Amount With VAT (converted)\"]  / apps_clean[\"Amount (converted)\"],2) )\n"
   ]
  },
  {
   "cell_type": "markdown",
   "metadata": {},
   "source": [
    "#### Add Column: Creater Month \n",
    "Aggregate Creater Date by month"
   ]
  },
  {
   "cell_type": "code",
   "execution_count": 64,
   "metadata": {},
   "outputs": [],
   "source": [
    "apps_clean[\"Creater Month\"]=apps_clean['Created Date'].dt.month"
   ]
  },
  {
   "cell_type": "markdown",
   "metadata": {},
   "source": [
    "#### Add Column: Creater Quarter \n",
    "Aggregate Creater Date by quarter"
   ]
  },
  {
   "cell_type": "code",
   "execution_count": 65,
   "metadata": {},
   "outputs": [],
   "source": [
    "apps_clean[\"Creater Quarter\"]=apps_clean['Created Date'].dt.quarter"
   ]
  },
  {
   "cell_type": "markdown",
   "metadata": {},
   "source": [
    "#### Drop columns used to create the new ones and that now have no more use & we remove bootcamp year as +data from 2020 than 2021\n"
   ]
  },
  {
   "cell_type": "code",
   "execution_count": 66,
   "metadata": {
    "scrolled": false
   },
   "outputs": [
    {
     "data": {
      "text/plain": [
       "Index(['Bootcamp Course', 'Bootcamp Format', 'Bootcamp Year',\n",
       "       'Bootcamp Start Date', 'Campus - Timezone', 'Created Date',\n",
       "       'Close Date', 'Stage', 'Discount Amount (converted)',\n",
       "       'Scholarship Amount (converted)', 'Amount (converted)',\n",
       "       'Net Amount With VAT (converted)', 'Drop', 'Drop Reason',\n",
       "       'how did you hear about us?', 'Person Account: Tech Background',\n",
       "       'Person Account: Gender', 'Person Account: Highest degree received',\n",
       "       'Person Account: Looking for a Job', 'Person Account: Nationality',\n",
       "       'Stage Duration', 'Account: Last Modified Date',\n",
       "       'First touchpoint Date', 'Hours Before First Touchpoint',\n",
       "       'Person Account: City Before Course',\n",
       "       'Person Account: Eligible to Work In', 'Paid Deposit',\n",
       "       'Time to first touchpoint - days',\n",
       "       'Time First touchpoint to Close date - days', 'Scholarship', 'Discount',\n",
       "       'Time Conversion - days',\n",
       "       'Time between Created Date and Start Date - days', 'Discount(%)',\n",
       "       'Creater Month', 'Creater Quarter'],\n",
       "      dtype='object')"
      ]
     },
     "execution_count": 66,
     "metadata": {},
     "output_type": "execute_result"
    }
   ],
   "source": [
    "apps_clean.columns"
   ]
  },
  {
   "cell_type": "code",
   "execution_count": 67,
   "metadata": {},
   "outputs": [],
   "source": [
    "apps_clean.drop(columns=['Bootcamp Start Date','Created Date','Close Date', 'Stage',\n",
    "                         'Discount Amount (converted)','Scholarship Amount (converted)', \n",
    "                         'Amount (converted)','Net Amount With VAT (converted)',\n",
    "                         'Account: Last Modified Date','First touchpoint Date',\n",
    "                        'Campus - Timezone','Bootcamp Year','Drop','Drop Reason'], inplace=True)"
   ]
  },
  {
   "cell_type": "code",
   "execution_count": 68,
   "metadata": {
    "scrolled": true
   },
   "outputs": [
    {
     "data": {
      "text/html": [
       "<div>\n",
       "<style scoped>\n",
       "    .dataframe tbody tr th:only-of-type {\n",
       "        vertical-align: middle;\n",
       "    }\n",
       "\n",
       "    .dataframe tbody tr th {\n",
       "        vertical-align: top;\n",
       "    }\n",
       "\n",
       "    .dataframe thead th {\n",
       "        text-align: right;\n",
       "    }\n",
       "</style>\n",
       "<table border=\"1\" class=\"dataframe\">\n",
       "  <thead>\n",
       "    <tr style=\"text-align: right;\">\n",
       "      <th></th>\n",
       "      <th>Bootcamp Course</th>\n",
       "      <th>Bootcamp Format</th>\n",
       "      <th>how did you hear about us?</th>\n",
       "      <th>Person Account: Tech Background</th>\n",
       "      <th>Person Account: Gender</th>\n",
       "      <th>Person Account: Highest degree received</th>\n",
       "      <th>Person Account: Looking for a Job</th>\n",
       "      <th>Person Account: Nationality</th>\n",
       "      <th>Stage Duration</th>\n",
       "      <th>Hours Before First Touchpoint</th>\n",
       "      <th>...</th>\n",
       "      <th>Paid Deposit</th>\n",
       "      <th>Time to first touchpoint - days</th>\n",
       "      <th>Time First touchpoint to Close date - days</th>\n",
       "      <th>Scholarship</th>\n",
       "      <th>Discount</th>\n",
       "      <th>Time Conversion - days</th>\n",
       "      <th>Time between Created Date and Start Date - days</th>\n",
       "      <th>Discount(%)</th>\n",
       "      <th>Creater Month</th>\n",
       "      <th>Creater Quarter</th>\n",
       "    </tr>\n",
       "  </thead>\n",
       "  <tbody>\n",
       "    <tr>\n",
       "      <th>0</th>\n",
       "      <td>WD</td>\n",
       "      <td>FT</td>\n",
       "      <td>Referral</td>\n",
       "      <td>No experience</td>\n",
       "      <td>Female</td>\n",
       "      <td>Bachelor Degree</td>\n",
       "      <td>Yes</td>\n",
       "      <td>Americas</td>\n",
       "      <td>77.0</td>\n",
       "      <td>1010.94</td>\n",
       "      <td>...</td>\n",
       "      <td>0</td>\n",
       "      <td>42</td>\n",
       "      <td>34</td>\n",
       "      <td>0</td>\n",
       "      <td>1</td>\n",
       "      <td>76</td>\n",
       "      <td>74</td>\n",
       "      <td>0.10</td>\n",
       "      <td>7</td>\n",
       "      <td>3</td>\n",
       "    </tr>\n",
       "    <tr>\n",
       "      <th>1</th>\n",
       "      <td>WD</td>\n",
       "      <td>FT</td>\n",
       "      <td>Referral</td>\n",
       "      <td>I don´t have experience</td>\n",
       "      <td>Male</td>\n",
       "      <td>No Formal Schooling</td>\n",
       "      <td>Yes</td>\n",
       "      <td>Spain</td>\n",
       "      <td>229.0</td>\n",
       "      <td>1275.60</td>\n",
       "      <td>...</td>\n",
       "      <td>0</td>\n",
       "      <td>53</td>\n",
       "      <td>5</td>\n",
       "      <td>0</td>\n",
       "      <td>0</td>\n",
       "      <td>58</td>\n",
       "      <td>148</td>\n",
       "      <td>0.00</td>\n",
       "      <td>2</td>\n",
       "      <td>1</td>\n",
       "    </tr>\n",
       "    <tr>\n",
       "      <th>2</th>\n",
       "      <td>UX</td>\n",
       "      <td>PT</td>\n",
       "      <td>Referral</td>\n",
       "      <td>Beginning learner</td>\n",
       "      <td>Male</td>\n",
       "      <td>Bachelor Degree</td>\n",
       "      <td>Yes</td>\n",
       "      <td>Spain</td>\n",
       "      <td>102.0</td>\n",
       "      <td>149.47</td>\n",
       "      <td>...</td>\n",
       "      <td>1</td>\n",
       "      <td>6</td>\n",
       "      <td>36</td>\n",
       "      <td>0</td>\n",
       "      <td>1</td>\n",
       "      <td>42</td>\n",
       "      <td>74</td>\n",
       "      <td>0.07</td>\n",
       "      <td>7</td>\n",
       "      <td>3</td>\n",
       "    </tr>\n",
       "    <tr>\n",
       "      <th>3</th>\n",
       "      <td>DA</td>\n",
       "      <td>FT</td>\n",
       "      <td>newspaperOrMagazine</td>\n",
       "      <td>No experience</td>\n",
       "      <td>Male</td>\n",
       "      <td>Bachelor Degree</td>\n",
       "      <td>Yes</td>\n",
       "      <td>Spain</td>\n",
       "      <td>218.0</td>\n",
       "      <td>1.69</td>\n",
       "      <td>...</td>\n",
       "      <td>1</td>\n",
       "      <td>0</td>\n",
       "      <td>70</td>\n",
       "      <td>0</td>\n",
       "      <td>0</td>\n",
       "      <td>70</td>\n",
       "      <td>206</td>\n",
       "      <td>0.00</td>\n",
       "      <td>3</td>\n",
       "      <td>1</td>\n",
       "    </tr>\n",
       "    <tr>\n",
       "      <th>4</th>\n",
       "      <td>DA</td>\n",
       "      <td>FT</td>\n",
       "      <td>google</td>\n",
       "      <td>No experience</td>\n",
       "      <td>Female</td>\n",
       "      <td>Bachelor Degree</td>\n",
       "      <td>Yes</td>\n",
       "      <td>Americas</td>\n",
       "      <td>99.0</td>\n",
       "      <td>88.11</td>\n",
       "      <td>...</td>\n",
       "      <td>0</td>\n",
       "      <td>4</td>\n",
       "      <td>1</td>\n",
       "      <td>0</td>\n",
       "      <td>1</td>\n",
       "      <td>5</td>\n",
       "      <td>116</td>\n",
       "      <td>0.10</td>\n",
       "      <td>6</td>\n",
       "      <td>2</td>\n",
       "    </tr>\n",
       "  </tbody>\n",
       "</table>\n",
       "<p>5 rows × 22 columns</p>\n",
       "</div>"
      ],
      "text/plain": [
       "  Bootcamp Course Bootcamp Format how did you hear about us?  \\\n",
       "0              WD              FT                   Referral   \n",
       "1              WD              FT                   Referral   \n",
       "2              UX              PT                   Referral   \n",
       "3              DA              FT        newspaperOrMagazine   \n",
       "4              DA              FT                     google   \n",
       "\n",
       "  Person Account: Tech Background Person Account: Gender  \\\n",
       "0                   No experience                 Female   \n",
       "1         I don´t have experience                   Male   \n",
       "2               Beginning learner                   Male   \n",
       "3                   No experience                   Male   \n",
       "4                   No experience                 Female   \n",
       "\n",
       "  Person Account: Highest degree received Person Account: Looking for a Job  \\\n",
       "0                         Bachelor Degree                               Yes   \n",
       "1                     No Formal Schooling                               Yes   \n",
       "2                         Bachelor Degree                               Yes   \n",
       "3                         Bachelor Degree                               Yes   \n",
       "4                         Bachelor Degree                               Yes   \n",
       "\n",
       "  Person Account: Nationality  Stage Duration  Hours Before First Touchpoint  \\\n",
       "0                    Americas            77.0                        1010.94   \n",
       "1                       Spain           229.0                        1275.60   \n",
       "2                       Spain           102.0                         149.47   \n",
       "3                       Spain           218.0                           1.69   \n",
       "4                    Americas            99.0                          88.11   \n",
       "\n",
       "   ... Paid Deposit Time to first touchpoint - days  \\\n",
       "0  ...            0                              42   \n",
       "1  ...            0                              53   \n",
       "2  ...            1                               6   \n",
       "3  ...            1                               0   \n",
       "4  ...            0                               4   \n",
       "\n",
       "   Time First touchpoint to Close date - days  Scholarship  Discount  \\\n",
       "0                                          34            0         1   \n",
       "1                                           5            0         0   \n",
       "2                                          36            0         1   \n",
       "3                                          70            0         0   \n",
       "4                                           1            0         1   \n",
       "\n",
       "   Time Conversion - days  Time between Created Date and Start Date - days  \\\n",
       "0                      76                                               74   \n",
       "1                      58                                              148   \n",
       "2                      42                                               74   \n",
       "3                      70                                              206   \n",
       "4                       5                                              116   \n",
       "\n",
       "   Discount(%)  Creater Month  Creater Quarter  \n",
       "0         0.10              7                3  \n",
       "1         0.00              2                1  \n",
       "2         0.07              7                3  \n",
       "3         0.00              3                1  \n",
       "4         0.10              6                2  \n",
       "\n",
       "[5 rows x 22 columns]"
      ]
     },
     "execution_count": 68,
     "metadata": {},
     "output_type": "execute_result"
    }
   ],
   "source": [
    "apps_clean.head()"
   ]
  },
  {
   "cell_type": "code",
   "execution_count": 69,
   "metadata": {},
   "outputs": [
    {
     "data": {
      "text/plain": [
       "(116, 22)"
      ]
     },
     "execution_count": 69,
     "metadata": {},
     "output_type": "execute_result"
    }
   ],
   "source": [
    "apps_clean.shape"
   ]
  },
  {
   "cell_type": "code",
   "execution_count": 70,
   "metadata": {},
   "outputs": [
    {
     "data": {
      "text/plain": [
       "Index(['Bootcamp Course', 'Bootcamp Format', 'how did you hear about us?',\n",
       "       'Person Account: Tech Background', 'Person Account: Gender',\n",
       "       'Person Account: Highest degree received',\n",
       "       'Person Account: Looking for a Job', 'Person Account: Nationality',\n",
       "       'Stage Duration', 'Hours Before First Touchpoint',\n",
       "       'Person Account: City Before Course',\n",
       "       'Person Account: Eligible to Work In', 'Paid Deposit',\n",
       "       'Time to first touchpoint - days',\n",
       "       'Time First touchpoint to Close date - days', 'Scholarship', 'Discount',\n",
       "       'Time Conversion - days',\n",
       "       'Time between Created Date and Start Date - days', 'Discount(%)',\n",
       "       'Creater Month', 'Creater Quarter'],\n",
       "      dtype='object')"
      ]
     },
     "execution_count": 70,
     "metadata": {},
     "output_type": "execute_result"
    }
   ],
   "source": [
    "apps_clean.columns"
   ]
  },
  {
   "cell_type": "markdown",
   "metadata": {},
   "source": [
    "## CleanCSV "
   ]
  },
  {
   "cell_type": "code",
   "execution_count": 71,
   "metadata": {},
   "outputs": [],
   "source": [
    "apps_clean.to_csv(\"apps_BCN20201_clean_Sel_addCols.csv\", index=False)"
   ]
  }
 ],
 "metadata": {
  "kernelspec": {
   "display_name": "Python 3",
   "language": "python",
   "name": "python3"
  },
  "language_info": {
   "codemirror_mode": {
    "name": "ipython",
    "version": 3
   },
   "file_extension": ".py",
   "mimetype": "text/x-python",
   "name": "python",
   "nbconvert_exporter": "python",
   "pygments_lexer": "ipython3",
   "version": "3.9.1"
  }
 },
 "nbformat": 4,
 "nbformat_minor": 4
}
